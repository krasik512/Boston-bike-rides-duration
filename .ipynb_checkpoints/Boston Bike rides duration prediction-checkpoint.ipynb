{
 "cells": [
  {
   "cell_type": "markdown",
   "id": "ba6c51d1",
   "metadata": {},
   "source": [
    "## Boston bike rides duration prediction"
   ]
  },
  {
   "cell_type": "markdown",
   "id": "16db4358",
   "metadata": {},
   "source": [
    "### Import necessary libraries"
   ]
  },
  {
   "cell_type": "code",
   "execution_count": 1,
   "id": "0a76a5c6",
   "metadata": {},
   "outputs": [],
   "source": [
    "import numpy as np\n",
    "import pandas as pd\n",
    "import matplotlib as plt\n",
    "import seaborn as sns\n",
    "import sklearn"
   ]
  },
  {
   "cell_type": "markdown",
   "id": "8b82bc7c",
   "metadata": {},
   "source": [
    "### Load the datasets"
   ]
  },
  {
   "cell_type": "code",
   "execution_count": 2,
   "id": "854387b5",
   "metadata": {},
   "outputs": [],
   "source": [
    "# Please replace the path variable by the directory where the files will be stored\n",
    "\n",
    "path= 'C:\\\\Users\\\\krasi\\\\pyproj\\\\datasets\\\\Technical test 2023\\\\data\\\\'\n",
    "\n",
    "weather_data= pd.read_csv(path + 'weather.csv')\n",
    "hubway_trips= pd.read_csv(path + 'hubway_trips.csv')\n",
    "hubway_stations= pd.read_csv(path + 'hubway_stations.csv')"
   ]
  },
  {
   "cell_type": "code",
   "execution_count": 3,
   "id": "e3903c2a",
   "metadata": {
    "scrolled": true
   },
   "outputs": [
    {
     "data": {
      "text/html": [
       "<div>\n",
       "<style scoped>\n",
       "    .dataframe tbody tr th:only-of-type {\n",
       "        vertical-align: middle;\n",
       "    }\n",
       "\n",
       "    .dataframe tbody tr th {\n",
       "        vertical-align: top;\n",
       "    }\n",
       "\n",
       "    .dataframe thead th {\n",
       "        text-align: right;\n",
       "    }\n",
       "</style>\n",
       "<table border=\"1\" class=\"dataframe\">\n",
       "  <thead>\n",
       "    <tr style=\"text-align: right;\">\n",
       "      <th></th>\n",
       "      <th>STATION</th>\n",
       "      <th>STATION_NAME</th>\n",
       "      <th>ELEVATION</th>\n",
       "      <th>LATITUDE</th>\n",
       "      <th>LONGITUDE</th>\n",
       "      <th>DATE</th>\n",
       "      <th>HPCP</th>\n",
       "      <th>Measurement_Flag</th>\n",
       "      <th>Quality_Flag</th>\n",
       "    </tr>\n",
       "  </thead>\n",
       "  <tbody>\n",
       "    <tr>\n",
       "      <th>0</th>\n",
       "      <td>COOP:190770</td>\n",
       "      <td>BOSTON MA US</td>\n",
       "      <td>3.7</td>\n",
       "      <td>42.3606</td>\n",
       "      <td>-71.0106</td>\n",
       "      <td>20110729 09:00</td>\n",
       "      <td>0.00</td>\n",
       "      <td>T</td>\n",
       "      <td></td>\n",
       "    </tr>\n",
       "    <tr>\n",
       "      <th>1</th>\n",
       "      <td>COOP:190770</td>\n",
       "      <td>BOSTON MA US</td>\n",
       "      <td>3.7</td>\n",
       "      <td>42.3606</td>\n",
       "      <td>-71.0106</td>\n",
       "      <td>20110729 10:00</td>\n",
       "      <td>0.00</td>\n",
       "      <td>T</td>\n",
       "      <td></td>\n",
       "    </tr>\n",
       "    <tr>\n",
       "      <th>2</th>\n",
       "      <td>COOP:190770</td>\n",
       "      <td>BOSTON MA US</td>\n",
       "      <td>3.7</td>\n",
       "      <td>42.3606</td>\n",
       "      <td>-71.0106</td>\n",
       "      <td>20110729 18:00</td>\n",
       "      <td>0.00</td>\n",
       "      <td>T</td>\n",
       "      <td></td>\n",
       "    </tr>\n",
       "    <tr>\n",
       "      <th>3</th>\n",
       "      <td>COOP:190770</td>\n",
       "      <td>BOSTON MA US</td>\n",
       "      <td>3.7</td>\n",
       "      <td>42.3606</td>\n",
       "      <td>-71.0106</td>\n",
       "      <td>20110729 21:00</td>\n",
       "      <td>0.03</td>\n",
       "      <td></td>\n",
       "      <td></td>\n",
       "    </tr>\n",
       "    <tr>\n",
       "      <th>4</th>\n",
       "      <td>COOP:190770</td>\n",
       "      <td>BOSTON MA US</td>\n",
       "      <td>3.7</td>\n",
       "      <td>42.3606</td>\n",
       "      <td>-71.0106</td>\n",
       "      <td>20110729 22:00</td>\n",
       "      <td>0.04</td>\n",
       "      <td></td>\n",
       "      <td></td>\n",
       "    </tr>\n",
       "  </tbody>\n",
       "</table>\n",
       "</div>"
      ],
      "text/plain": [
       "       STATION  STATION_NAME  ELEVATION  LATITUDE  LONGITUDE            DATE  \\\n",
       "0  COOP:190770  BOSTON MA US        3.7   42.3606   -71.0106  20110729 09:00   \n",
       "1  COOP:190770  BOSTON MA US        3.7   42.3606   -71.0106  20110729 10:00   \n",
       "2  COOP:190770  BOSTON MA US        3.7   42.3606   -71.0106  20110729 18:00   \n",
       "3  COOP:190770  BOSTON MA US        3.7   42.3606   -71.0106  20110729 21:00   \n",
       "4  COOP:190770  BOSTON MA US        3.7   42.3606   -71.0106  20110729 22:00   \n",
       "\n",
       "   HPCP Measurement_Flag Quality_Flag  \n",
       "0  0.00                T               \n",
       "1  0.00                T               \n",
       "2  0.00                T               \n",
       "3  0.03                                \n",
       "4  0.04                                "
      ]
     },
     "execution_count": 3,
     "metadata": {},
     "output_type": "execute_result"
    }
   ],
   "source": [
    "weather_data.head()"
   ]
  },
  {
   "cell_type": "code",
   "execution_count": 4,
   "id": "7581c8a3",
   "metadata": {},
   "outputs": [
    {
     "data": {
      "text/html": [
       "<div>\n",
       "<style scoped>\n",
       "    .dataframe tbody tr th:only-of-type {\n",
       "        vertical-align: middle;\n",
       "    }\n",
       "\n",
       "    .dataframe tbody tr th {\n",
       "        vertical-align: top;\n",
       "    }\n",
       "\n",
       "    .dataframe thead th {\n",
       "        text-align: right;\n",
       "    }\n",
       "</style>\n",
       "<table border=\"1\" class=\"dataframe\">\n",
       "  <thead>\n",
       "    <tr style=\"text-align: right;\">\n",
       "      <th></th>\n",
       "      <th>seq_id</th>\n",
       "      <th>hubway_id</th>\n",
       "      <th>status</th>\n",
       "      <th>duration</th>\n",
       "      <th>start_date</th>\n",
       "      <th>strt_statn</th>\n",
       "      <th>end_date</th>\n",
       "      <th>end_statn</th>\n",
       "      <th>bike_nr</th>\n",
       "      <th>subsc_type</th>\n",
       "      <th>zip_code</th>\n",
       "      <th>birth_date</th>\n",
       "      <th>gender</th>\n",
       "    </tr>\n",
       "  </thead>\n",
       "  <tbody>\n",
       "    <tr>\n",
       "      <th>0</th>\n",
       "      <td>1</td>\n",
       "      <td>8</td>\n",
       "      <td>Closed</td>\n",
       "      <td>9</td>\n",
       "      <td>7/28/2011 10:12:00</td>\n",
       "      <td>23.0</td>\n",
       "      <td>7/28/2011 10:12:00</td>\n",
       "      <td>23.0</td>\n",
       "      <td>B00468</td>\n",
       "      <td>Registered</td>\n",
       "      <td>'97217</td>\n",
       "      <td>1976.0</td>\n",
       "      <td>Male</td>\n",
       "    </tr>\n",
       "    <tr>\n",
       "      <th>1</th>\n",
       "      <td>2</td>\n",
       "      <td>9</td>\n",
       "      <td>Closed</td>\n",
       "      <td>220</td>\n",
       "      <td>7/28/2011 10:21:00</td>\n",
       "      <td>23.0</td>\n",
       "      <td>7/28/2011 10:25:00</td>\n",
       "      <td>23.0</td>\n",
       "      <td>B00554</td>\n",
       "      <td>Registered</td>\n",
       "      <td>'02215</td>\n",
       "      <td>1966.0</td>\n",
       "      <td>Male</td>\n",
       "    </tr>\n",
       "    <tr>\n",
       "      <th>2</th>\n",
       "      <td>3</td>\n",
       "      <td>10</td>\n",
       "      <td>Closed</td>\n",
       "      <td>56</td>\n",
       "      <td>7/28/2011 10:33:00</td>\n",
       "      <td>23.0</td>\n",
       "      <td>7/28/2011 10:34:00</td>\n",
       "      <td>23.0</td>\n",
       "      <td>B00456</td>\n",
       "      <td>Registered</td>\n",
       "      <td>'02108</td>\n",
       "      <td>1943.0</td>\n",
       "      <td>Male</td>\n",
       "    </tr>\n",
       "    <tr>\n",
       "      <th>3</th>\n",
       "      <td>4</td>\n",
       "      <td>11</td>\n",
       "      <td>Closed</td>\n",
       "      <td>64</td>\n",
       "      <td>7/28/2011 10:35:00</td>\n",
       "      <td>23.0</td>\n",
       "      <td>7/28/2011 10:36:00</td>\n",
       "      <td>23.0</td>\n",
       "      <td>B00554</td>\n",
       "      <td>Registered</td>\n",
       "      <td>'02116</td>\n",
       "      <td>1981.0</td>\n",
       "      <td>Female</td>\n",
       "    </tr>\n",
       "    <tr>\n",
       "      <th>4</th>\n",
       "      <td>5</td>\n",
       "      <td>12</td>\n",
       "      <td>Closed</td>\n",
       "      <td>12</td>\n",
       "      <td>7/28/2011 10:37:00</td>\n",
       "      <td>23.0</td>\n",
       "      <td>7/28/2011 10:37:00</td>\n",
       "      <td>23.0</td>\n",
       "      <td>B00554</td>\n",
       "      <td>Registered</td>\n",
       "      <td>'97214</td>\n",
       "      <td>1983.0</td>\n",
       "      <td>Female</td>\n",
       "    </tr>\n",
       "  </tbody>\n",
       "</table>\n",
       "</div>"
      ],
      "text/plain": [
       "   seq_id  hubway_id  status  duration          start_date  strt_statn  \\\n",
       "0       1          8  Closed         9  7/28/2011 10:12:00        23.0   \n",
       "1       2          9  Closed       220  7/28/2011 10:21:00        23.0   \n",
       "2       3         10  Closed        56  7/28/2011 10:33:00        23.0   \n",
       "3       4         11  Closed        64  7/28/2011 10:35:00        23.0   \n",
       "4       5         12  Closed        12  7/28/2011 10:37:00        23.0   \n",
       "\n",
       "             end_date  end_statn bike_nr  subsc_type zip_code  birth_date  \\\n",
       "0  7/28/2011 10:12:00       23.0  B00468  Registered   '97217      1976.0   \n",
       "1  7/28/2011 10:25:00       23.0  B00554  Registered   '02215      1966.0   \n",
       "2  7/28/2011 10:34:00       23.0  B00456  Registered   '02108      1943.0   \n",
       "3  7/28/2011 10:36:00       23.0  B00554  Registered   '02116      1981.0   \n",
       "4  7/28/2011 10:37:00       23.0  B00554  Registered   '97214      1983.0   \n",
       "\n",
       "   gender  \n",
       "0    Male  \n",
       "1    Male  \n",
       "2    Male  \n",
       "3  Female  \n",
       "4  Female  "
      ]
     },
     "execution_count": 4,
     "metadata": {},
     "output_type": "execute_result"
    }
   ],
   "source": [
    "hubway_trips.head()"
   ]
  },
  {
   "cell_type": "code",
   "execution_count": 5,
   "id": "209ae8db",
   "metadata": {},
   "outputs": [
    {
     "data": {
      "text/html": [
       "<div>\n",
       "<style scoped>\n",
       "    .dataframe tbody tr th:only-of-type {\n",
       "        vertical-align: middle;\n",
       "    }\n",
       "\n",
       "    .dataframe tbody tr th {\n",
       "        vertical-align: top;\n",
       "    }\n",
       "\n",
       "    .dataframe thead th {\n",
       "        text-align: right;\n",
       "    }\n",
       "</style>\n",
       "<table border=\"1\" class=\"dataframe\">\n",
       "  <thead>\n",
       "    <tr style=\"text-align: right;\">\n",
       "      <th></th>\n",
       "      <th>id</th>\n",
       "      <th>terminal</th>\n",
       "      <th>station</th>\n",
       "      <th>municipal</th>\n",
       "      <th>lat</th>\n",
       "      <th>lng</th>\n",
       "      <th>status</th>\n",
       "    </tr>\n",
       "  </thead>\n",
       "  <tbody>\n",
       "    <tr>\n",
       "      <th>0</th>\n",
       "      <td>3</td>\n",
       "      <td>B32006</td>\n",
       "      <td>Colleges of the Fenway</td>\n",
       "      <td>Boston</td>\n",
       "      <td>42.340021</td>\n",
       "      <td>-71.100812</td>\n",
       "      <td>Existing</td>\n",
       "    </tr>\n",
       "    <tr>\n",
       "      <th>1</th>\n",
       "      <td>4</td>\n",
       "      <td>C32000</td>\n",
       "      <td>Tremont St. at Berkeley St.</td>\n",
       "      <td>Boston</td>\n",
       "      <td>42.345392</td>\n",
       "      <td>-71.069616</td>\n",
       "      <td>Existing</td>\n",
       "    </tr>\n",
       "    <tr>\n",
       "      <th>2</th>\n",
       "      <td>5</td>\n",
       "      <td>B32012</td>\n",
       "      <td>Northeastern U / North Parking Lot</td>\n",
       "      <td>Boston</td>\n",
       "      <td>42.341814</td>\n",
       "      <td>-71.090179</td>\n",
       "      <td>Existing</td>\n",
       "    </tr>\n",
       "    <tr>\n",
       "      <th>3</th>\n",
       "      <td>6</td>\n",
       "      <td>D32000</td>\n",
       "      <td>Cambridge St. at Joy St.</td>\n",
       "      <td>Boston</td>\n",
       "      <td>42.361285</td>\n",
       "      <td>-71.065140</td>\n",
       "      <td>Existing</td>\n",
       "    </tr>\n",
       "    <tr>\n",
       "      <th>4</th>\n",
       "      <td>7</td>\n",
       "      <td>A32000</td>\n",
       "      <td>Fan Pier</td>\n",
       "      <td>Boston</td>\n",
       "      <td>42.353412</td>\n",
       "      <td>-71.044624</td>\n",
       "      <td>Existing</td>\n",
       "    </tr>\n",
       "  </tbody>\n",
       "</table>\n",
       "</div>"
      ],
      "text/plain": [
       "   id terminal                             station municipal        lat  \\\n",
       "0   3   B32006              Colleges of the Fenway    Boston  42.340021   \n",
       "1   4   C32000         Tremont St. at Berkeley St.    Boston  42.345392   \n",
       "2   5   B32012  Northeastern U / North Parking Lot    Boston  42.341814   \n",
       "3   6   D32000            Cambridge St. at Joy St.    Boston  42.361285   \n",
       "4   7   A32000                            Fan Pier    Boston  42.353412   \n",
       "\n",
       "         lng    status  \n",
       "0 -71.100812  Existing  \n",
       "1 -71.069616  Existing  \n",
       "2 -71.090179  Existing  \n",
       "3 -71.065140  Existing  \n",
       "4 -71.044624  Existing  "
      ]
     },
     "execution_count": 5,
     "metadata": {},
     "output_type": "execute_result"
    }
   ],
   "source": [
    "hubway_stations.head()"
   ]
  },
  {
   "cell_type": "markdown",
   "id": "0ba4385d",
   "metadata": {},
   "source": [
    "### Data Cleaning"
   ]
  },
  {
   "cell_type": "code",
   "execution_count": 6,
   "id": "f261a38f",
   "metadata": {},
   "outputs": [],
   "source": [
    "# Change the dates column into the datetime type, \n",
    "# this would allow us to merge weather and hubway trips tables based on date columns.\n",
    "\n",
    "hubway_trips['start_date']= pd.to_datetime(hubway_trips['start_date'])\n",
    "hubway_trips['end_date']= pd.to_datetime(hubway_trips['end_date'])\n",
    "weather_data['DATE']= pd.to_datetime(weather_data['DATE'])"
   ]
  },
  {
   "cell_type": "code",
   "execution_count": 7,
   "id": "e7262a51",
   "metadata": {},
   "outputs": [],
   "source": [
    "# Change the dates into the Hours period to allow merging the weather data into. \n",
    "# Additionally we need to subtract one hour from the weather DATE, because based on the documentation \n",
    "# this value at certain hour is accumulation from hour before - for example if we have a measurement \n",
    "# at time 10 pm it means this is the accumulation measure from 9 pm to 10 pm.\n",
    "\n",
    "from datetime import timedelta\n",
    "\n",
    "hubway_trips['DATE']= hubway_trips.start_date.dt.to_period(\"H\")\n",
    "weather_data['DATE']= weather_data.DATE.dt.to_period(\"H\") - timedelta(hours=1)\n",
    "\n",
    "# Merge the hubway trips and weather data together \n",
    "data= hubway_trips.merge(weather_data, how=\"left\", on=\"DATE\")"
   ]
  },
  {
   "cell_type": "code",
   "execution_count": 8,
   "id": "a980b2cb",
   "metadata": {},
   "outputs": [],
   "source": [
    "# Merge data table with hubway stations information, we will do this 2 times, both for\n",
    "# staring station as well as end station\n",
    "\n",
    "data= data.merge(hubway_stations, how=\"left\", left_on=\"strt_statn\", right_on=\"id\")\n",
    "data= data.merge(hubway_stations, how=\"left\", left_on=\"end_statn\", right_on=\"id\")"
   ]
  },
  {
   "cell_type": "code",
   "execution_count": 9,
   "id": "59c8471f",
   "metadata": {},
   "outputs": [
    {
     "name": "stdout",
     "output_type": "stream",
     "text": [
      "seq_id              1579025\n",
      "hubway_id           1579025\n",
      "status_x                  1\n",
      "duration              15635\n",
      "start_date           521432\n",
      "strt_statn              142\n",
      "end_date             515102\n",
      "end_statn               142\n",
      "bike_nr                1163\n",
      "subsc_type                2\n",
      "zip_code                530\n",
      "birth_date               60\n",
      "gender                    2\n",
      "DATE                  14713\n",
      "STATION                   1\n",
      "STATION_NAME              1\n",
      "ELEVATION                 1\n",
      "LATITUDE                  1\n",
      "LONGITUDE                 1\n",
      "HPCP                     50\n",
      "Measurement_Flag          3\n",
      "Quality_Flag              1\n",
      "id_x                    142\n",
      "terminal_x              131\n",
      "station_x               137\n",
      "municipal_x               4\n",
      "lat_x                   142\n",
      "lng_x                   142\n",
      "status_y                  2\n",
      "id_y                    142\n",
      "terminal_y              131\n",
      "station_y               137\n",
      "municipal_y               4\n",
      "lat_y                   142\n",
      "lng_y                   142\n",
      "status                    2\n",
      "dtype: int64\n"
     ]
    }
   ],
   "source": [
    "# We can drop columns with one unique value,\n",
    "# these columns does not contain any information as the variance is 0 so we can drop them\n",
    "# - they have no predictive power.\n",
    "\n",
    "print(data.nunique())\n",
    "\n",
    "#Drop the columns with one unique value\n",
    "\n",
    "one_value_columns= data.columns[data.nunique()==1]\n",
    "data.drop(one_value_columns, axis=1, inplace=True)"
   ]
  },
  {
   "cell_type": "code",
   "execution_count": 10,
   "id": "ff98e3fa",
   "metadata": {},
   "outputs": [
    {
     "data": {
      "text/html": [
       "<div>\n",
       "<style scoped>\n",
       "    .dataframe tbody tr th:only-of-type {\n",
       "        vertical-align: middle;\n",
       "    }\n",
       "\n",
       "    .dataframe tbody tr th {\n",
       "        vertical-align: top;\n",
       "    }\n",
       "\n",
       "    .dataframe thead th {\n",
       "        text-align: right;\n",
       "    }\n",
       "</style>\n",
       "<table border=\"1\" class=\"dataframe\">\n",
       "  <thead>\n",
       "    <tr style=\"text-align: right;\">\n",
       "      <th></th>\n",
       "      <th>seq_id</th>\n",
       "      <th>hubway_id</th>\n",
       "      <th>duration</th>\n",
       "      <th>start_date</th>\n",
       "      <th>strt_statn</th>\n",
       "      <th>end_date</th>\n",
       "      <th>end_statn</th>\n",
       "      <th>bike_nr</th>\n",
       "      <th>subsc_type</th>\n",
       "      <th>zip_code</th>\n",
       "      <th>...</th>\n",
       "      <th>lat_x</th>\n",
       "      <th>lng_x</th>\n",
       "      <th>status_y</th>\n",
       "      <th>id_y</th>\n",
       "      <th>terminal_y</th>\n",
       "      <th>station_y</th>\n",
       "      <th>municipal_y</th>\n",
       "      <th>lat_y</th>\n",
       "      <th>lng_y</th>\n",
       "      <th>status</th>\n",
       "    </tr>\n",
       "  </thead>\n",
       "  <tbody>\n",
       "    <tr>\n",
       "      <th>504120</th>\n",
       "      <td>504121</td>\n",
       "      <td>569691</td>\n",
       "      <td>281</td>\n",
       "      <td>2012-09-14 16:52:00</td>\n",
       "      <td>46.0</td>\n",
       "      <td>2012-09-14 16:56:00</td>\n",
       "      <td>16.0</td>\n",
       "      <td>T01270</td>\n",
       "      <td>Registered</td>\n",
       "      <td>'02111</td>\n",
       "      <td>...</td>\n",
       "      <td>42.343864</td>\n",
       "      <td>-71.085918</td>\n",
       "      <td>Existing</td>\n",
       "      <td>16.0</td>\n",
       "      <td>C32003</td>\n",
       "      <td>Back Bay / South End Station</td>\n",
       "      <td>Boston</td>\n",
       "      <td>42.347433</td>\n",
       "      <td>-71.076163</td>\n",
       "      <td>Existing</td>\n",
       "    </tr>\n",
       "    <tr>\n",
       "      <th>1501009</th>\n",
       "      <td>1501010</td>\n",
       "      <td>1665755</td>\n",
       "      <td>900</td>\n",
       "      <td>2013-10-30 18:18:00</td>\n",
       "      <td>75.0</td>\n",
       "      <td>2013-10-30 18:33:00</td>\n",
       "      <td>19.0</td>\n",
       "      <td>B00419</td>\n",
       "      <td>Registered</td>\n",
       "      <td>'02130</td>\n",
       "      <td>...</td>\n",
       "      <td>42.363562</td>\n",
       "      <td>-71.100420</td>\n",
       "      <td>Existing</td>\n",
       "      <td>19.0</td>\n",
       "      <td>A32008</td>\n",
       "      <td>Buswell Park</td>\n",
       "      <td>Boston</td>\n",
       "      <td>42.347527</td>\n",
       "      <td>-71.105828</td>\n",
       "      <td>Existing</td>\n",
       "    </tr>\n",
       "    <tr>\n",
       "      <th>1424456</th>\n",
       "      <td>1424457</td>\n",
       "      <td>1584562</td>\n",
       "      <td>960</td>\n",
       "      <td>2013-10-13 15:19:00</td>\n",
       "      <td>12.0</td>\n",
       "      <td>2013-10-13 15:35:00</td>\n",
       "      <td>47.0</td>\n",
       "      <td>B00581</td>\n",
       "      <td>Registered</td>\n",
       "      <td>'02113</td>\n",
       "      <td>...</td>\n",
       "      <td>42.335911</td>\n",
       "      <td>-71.088496</td>\n",
       "      <td>Existing</td>\n",
       "      <td>47.0</td>\n",
       "      <td>D32010</td>\n",
       "      <td>Cross St. at Hanover St.</td>\n",
       "      <td>Boston</td>\n",
       "      <td>42.362811</td>\n",
       "      <td>-71.056067</td>\n",
       "      <td>Existing</td>\n",
       "    </tr>\n",
       "    <tr>\n",
       "      <th>474892</th>\n",
       "      <td>474893</td>\n",
       "      <td>536781</td>\n",
       "      <td>963</td>\n",
       "      <td>2012-09-04 17:25:00</td>\n",
       "      <td>36.0</td>\n",
       "      <td>2012-09-04 17:41:00</td>\n",
       "      <td>38.0</td>\n",
       "      <td>B00419</td>\n",
       "      <td>Registered</td>\n",
       "      <td>'01902</td>\n",
       "      <td>...</td>\n",
       "      <td>42.349673</td>\n",
       "      <td>-71.077303</td>\n",
       "      <td>Existing</td>\n",
       "      <td>38.0</td>\n",
       "      <td>D32003</td>\n",
       "      <td>TD Garden - Legends Way</td>\n",
       "      <td>Boston</td>\n",
       "      <td>42.366231</td>\n",
       "      <td>-71.060868</td>\n",
       "      <td>Removed</td>\n",
       "    </tr>\n",
       "    <tr>\n",
       "      <th>805011</th>\n",
       "      <td>805012</td>\n",
       "      <td>912296</td>\n",
       "      <td>420</td>\n",
       "      <td>2013-05-21 12:43:00</td>\n",
       "      <td>25.0</td>\n",
       "      <td>2013-05-21 12:50:00</td>\n",
       "      <td>50.0</td>\n",
       "      <td>T01373</td>\n",
       "      <td>Casual</td>\n",
       "      <td>NaN</td>\n",
       "      <td>...</td>\n",
       "      <td>42.341332</td>\n",
       "      <td>-71.076847</td>\n",
       "      <td>Existing</td>\n",
       "      <td>50.0</td>\n",
       "      <td>D32013</td>\n",
       "      <td>Boylston St / Berkeley St</td>\n",
       "      <td>Boston</td>\n",
       "      <td>42.350989</td>\n",
       "      <td>-71.073644</td>\n",
       "      <td>Existing</td>\n",
       "    </tr>\n",
       "  </tbody>\n",
       "</table>\n",
       "<p>5 rows × 29 columns</p>\n",
       "</div>"
      ],
      "text/plain": [
       "          seq_id  hubway_id  duration          start_date  strt_statn  \\\n",
       "504120    504121     569691       281 2012-09-14 16:52:00        46.0   \n",
       "1501009  1501010    1665755       900 2013-10-30 18:18:00        75.0   \n",
       "1424456  1424457    1584562       960 2013-10-13 15:19:00        12.0   \n",
       "474892    474893     536781       963 2012-09-04 17:25:00        36.0   \n",
       "805011    805012     912296       420 2013-05-21 12:43:00        25.0   \n",
       "\n",
       "                   end_date  end_statn bike_nr  subsc_type zip_code  ...  \\\n",
       "504120  2012-09-14 16:56:00       16.0  T01270  Registered   '02111  ...   \n",
       "1501009 2013-10-30 18:33:00       19.0  B00419  Registered   '02130  ...   \n",
       "1424456 2013-10-13 15:35:00       47.0  B00581  Registered   '02113  ...   \n",
       "474892  2012-09-04 17:41:00       38.0  B00419  Registered   '01902  ...   \n",
       "805011  2013-05-21 12:50:00       50.0  T01373      Casual      NaN  ...   \n",
       "\n",
       "             lat_x      lng_x  status_y  id_y terminal_y  \\\n",
       "504120   42.343864 -71.085918  Existing  16.0     C32003   \n",
       "1501009  42.363562 -71.100420  Existing  19.0     A32008   \n",
       "1424456  42.335911 -71.088496  Existing  47.0     D32010   \n",
       "474892   42.349673 -71.077303  Existing  38.0     D32003   \n",
       "805011   42.341332 -71.076847  Existing  50.0     D32013   \n",
       "\n",
       "                            station_y municipal_y      lat_y      lng_y  \\\n",
       "504120   Back Bay / South End Station      Boston  42.347433 -71.076163   \n",
       "1501009                  Buswell Park      Boston  42.347527 -71.105828   \n",
       "1424456      Cross St. at Hanover St.      Boston  42.362811 -71.056067   \n",
       "474892        TD Garden - Legends Way      Boston  42.366231 -71.060868   \n",
       "805011      Boylston St / Berkeley St      Boston  42.350989 -71.073644   \n",
       "\n",
       "           status  \n",
       "504120   Existing  \n",
       "1501009  Existing  \n",
       "1424456  Existing  \n",
       "474892    Removed  \n",
       "805011   Existing  \n",
       "\n",
       "[5 rows x 29 columns]"
      ]
     },
     "execution_count": 10,
     "metadata": {},
     "output_type": "execute_result"
    }
   ],
   "source": [
    "data.sample(5)"
   ]
  },
  {
   "cell_type": "code",
   "execution_count": 11,
   "id": "47fb7cb6",
   "metadata": {},
   "outputs": [
    {
     "data": {
      "text/plain": [
       "Index(['seq_id', 'hubway_id', 'duration', 'start_date', 'strt_statn',\n",
       "       'end_date', 'end_statn', 'bike_nr', 'subsc_type', 'zip_code',\n",
       "       'birth_date', 'gender', 'DATE', 'HPCP', 'Measurement_Flag', 'id_x',\n",
       "       'terminal_x', 'station_x', 'municipal_x', 'lat_x', 'lng_x', 'status_y',\n",
       "       'id_y', 'terminal_y', 'station_y', 'municipal_y', 'lat_y', 'lng_y',\n",
       "       'status'],\n",
       "      dtype='object')"
      ]
     },
     "execution_count": 11,
     "metadata": {},
     "output_type": "execute_result"
    }
   ],
   "source": [
    "data.columns"
   ]
  },
  {
   "cell_type": "code",
   "execution_count": 12,
   "id": "db472ec7",
   "metadata": {},
   "outputs": [],
   "source": [
    "# Rename _x and _y columns for _start and _end respectively\n",
    "\n",
    "data.columns = ['seq_id', 'hubway_id', 'duration', 'start_date', 'strt_statn',\n",
    "       'end_date', 'end_statn', 'bike_nr', 'subsc_type', 'zip_code',\n",
    "       'birth_date', 'gender', 'DATE', 'HPCP', 'Measurement_Flag', 'id_start',\n",
    "       'terminal_start', 'station_start', 'municipal_start', 'lat_start', 'lng_start', 'status_start',\n",
    "       'id_end', 'terminal_end', 'station_end', 'municipal_end', 'lat_end', 'lng_end',\n",
    "       'status_end']"
   ]
  },
  {
   "cell_type": "markdown",
   "id": "4de0b947",
   "metadata": {},
   "source": [
    "## Start Date features extract"
   ]
  },
  {
   "cell_type": "code",
   "execution_count": 13,
   "id": "058004a9",
   "metadata": {},
   "outputs": [],
   "source": [
    "# I will extract month, day of week, hour as this time features can have an impact on the duration\n",
    "\n",
    "data['month']= data['start_date'].dt.month\n",
    "data['day_of_week']= data['start_date'].dt.dayofweek\n",
    "data['hour']= data['start_date'].dt.hour\n",
    "data['weekend']= np.nan\n",
    "data.loc[data['day_of_week']<=4,'weekend'] = 0\n",
    "data.loc[data['day_of_week']>4,'weekend'] = 1\n",
    "data['weekend']=data['weekend'].astype(int)"
   ]
  },
  {
   "cell_type": "code",
   "execution_count": 16,
   "id": "aa40fd97",
   "metadata": {},
   "outputs": [],
   "source": [
    "# We will drop rows with stations that were removed \n",
    "# as we can't take them into consideration predicting the duration, as they not exist\n",
    "\n",
    "data.drop(data[data.status_end==\"Removed\"].index, axis=0, inplace=True)\n",
    "data.drop(data[data.status_start==\"Removed\"].index, axis=0, inplace=True)\n",
    "data.reset_index(drop=True, inplace=True)"
   ]
  },
  {
   "cell_type": "code",
   "execution_count": 17,
   "id": "e102e722",
   "metadata": {},
   "outputs": [],
   "source": [
    "# We will extract first letter from the terminal start-\n",
    "# we will see if it contain some predicting power after\n",
    "\n",
    "data['terminal_letter_start'] = data['terminal_start'].apply(lambda x: str(x)[0])"
   ]
  },
  {
   "cell_type": "code",
   "execution_count": 18,
   "id": "eef4c69d",
   "metadata": {},
   "outputs": [
    {
     "data": {
      "text/plain": [
       "D    428369\n",
       "M    294062\n",
       "B    293281\n",
       "A    184339\n",
       "C    175715\n",
       "S     39581\n",
       "K     19944\n",
       "E      1793\n",
       "n        12\n",
       "Name: terminal_letter_start, dtype: int64"
      ]
     },
     "execution_count": 18,
     "metadata": {},
     "output_type": "execute_result"
    }
   ],
   "source": [
    "data.terminal_letter_start.value_counts()"
   ]
  },
  {
   "cell_type": "code",
   "execution_count": 19,
   "id": "212c1d5c",
   "metadata": {},
   "outputs": [],
   "source": [
    "# Now as we have all the data merged together we can start to clean up the data.\n",
    "# We can get rid of some duplicate columns and unique id columns, these will \n",
    "# be not good predictive features\n",
    "\n",
    "data.drop(['seq_id', 'hubway_id', 'id_start', 'id_end', 'zip_code','start_date', 'end_date',\n",
    "           'station_start', 'station_end', 'municipal_end', 'municipal_start', 'status_start',\n",
    "          'status_end'],axis=1, inplace=True)"
   ]
  },
  {
   "cell_type": "code",
   "execution_count": 27,
   "id": "10cf579d",
   "metadata": {},
   "outputs": [
    {
     "data": {
      "text/html": [
       "<div>\n",
       "<style scoped>\n",
       "    .dataframe tbody tr th:only-of-type {\n",
       "        vertical-align: middle;\n",
       "    }\n",
       "\n",
       "    .dataframe tbody tr th {\n",
       "        vertical-align: top;\n",
       "    }\n",
       "\n",
       "    .dataframe thead th {\n",
       "        text-align: right;\n",
       "    }\n",
       "</style>\n",
       "<table border=\"1\" class=\"dataframe\">\n",
       "  <thead>\n",
       "    <tr style=\"text-align: right;\">\n",
       "      <th></th>\n",
       "      <th>duration</th>\n",
       "      <th>strt_statn</th>\n",
       "      <th>end_statn</th>\n",
       "      <th>bike_nr</th>\n",
       "      <th>subsc_type</th>\n",
       "      <th>birth_date</th>\n",
       "      <th>gender</th>\n",
       "      <th>DATE</th>\n",
       "      <th>HPCP</th>\n",
       "      <th>Measurement_Flag</th>\n",
       "      <th>terminal_start</th>\n",
       "      <th>lat_start</th>\n",
       "    </tr>\n",
       "  </thead>\n",
       "  <tbody>\n",
       "    <tr>\n",
       "      <th>0</th>\n",
       "      <td>1108</td>\n",
       "      <td>47.0</td>\n",
       "      <td>40.0</td>\n",
       "      <td>B00550</td>\n",
       "      <td>Registered</td>\n",
       "      <td>1994.0</td>\n",
       "      <td>Male</td>\n",
       "      <td>2011-07-28 11:00</td>\n",
       "      <td>NaN</td>\n",
       "      <td>NaN</td>\n",
       "      <td>D32010</td>\n",
       "      <td>42.362811</td>\n",
       "    </tr>\n",
       "    <tr>\n",
       "      <th>1</th>\n",
       "      <td>1055</td>\n",
       "      <td>47.0</td>\n",
       "      <td>40.0</td>\n",
       "      <td>B00580</td>\n",
       "      <td>Registered</td>\n",
       "      <td>1956.0</td>\n",
       "      <td>Male</td>\n",
       "      <td>2011-07-28 11:00</td>\n",
       "      <td>NaN</td>\n",
       "      <td>NaN</td>\n",
       "      <td>D32010</td>\n",
       "      <td>42.362811</td>\n",
       "    </tr>\n",
       "    <tr>\n",
       "      <th>2</th>\n",
       "      <td>1042</td>\n",
       "      <td>47.0</td>\n",
       "      <td>40.0</td>\n",
       "      <td>B00539</td>\n",
       "      <td>Registered</td>\n",
       "      <td>1959.0</td>\n",
       "      <td>Female</td>\n",
       "      <td>2011-07-28 11:00</td>\n",
       "      <td>NaN</td>\n",
       "      <td>NaN</td>\n",
       "      <td>D32010</td>\n",
       "      <td>42.362811</td>\n",
       "    </tr>\n",
       "    <tr>\n",
       "      <th>3</th>\n",
       "      <td>994</td>\n",
       "      <td>40.0</td>\n",
       "      <td>47.0</td>\n",
       "      <td>B00368</td>\n",
       "      <td>Casual</td>\n",
       "      <td>NaN</td>\n",
       "      <td>NaN</td>\n",
       "      <td>2011-07-28 12:00</td>\n",
       "      <td>NaN</td>\n",
       "      <td>NaN</td>\n",
       "      <td>D32006</td>\n",
       "      <td>42.363871</td>\n",
       "    </tr>\n",
       "    <tr>\n",
       "      <th>4</th>\n",
       "      <td>15</td>\n",
       "      <td>22.0</td>\n",
       "      <td>22.0</td>\n",
       "      <td>B00442</td>\n",
       "      <td>Registered</td>\n",
       "      <td>1982.0</td>\n",
       "      <td>Male</td>\n",
       "      <td>2011-07-28 12:00</td>\n",
       "      <td>NaN</td>\n",
       "      <td>NaN</td>\n",
       "      <td>A32010</td>\n",
       "      <td>42.352175</td>\n",
       "    </tr>\n",
       "  </tbody>\n",
       "</table>\n",
       "</div>"
      ],
      "text/plain": [
       "   duration  strt_statn  end_statn bike_nr  subsc_type  birth_date  gender  \\\n",
       "0      1108        47.0       40.0  B00550  Registered      1994.0    Male   \n",
       "1      1055        47.0       40.0  B00580  Registered      1956.0    Male   \n",
       "2      1042        47.0       40.0  B00539  Registered      1959.0  Female   \n",
       "3       994        40.0       47.0  B00368      Casual         NaN     NaN   \n",
       "4        15        22.0       22.0  B00442  Registered      1982.0    Male   \n",
       "\n",
       "               DATE  HPCP Measurement_Flag terminal_start  lat_start  \n",
       "0  2011-07-28 11:00   NaN              NaN         D32010  42.362811  \n",
       "1  2011-07-28 11:00   NaN              NaN         D32010  42.362811  \n",
       "2  2011-07-28 11:00   NaN              NaN         D32010  42.362811  \n",
       "3  2011-07-28 12:00   NaN              NaN         D32006  42.363871  \n",
       "4  2011-07-28 12:00   NaN              NaN         A32010  42.352175  "
      ]
     },
     "execution_count": 27,
     "metadata": {},
     "output_type": "execute_result"
    }
   ],
   "source": [
    "data.iloc[:5,:12]"
   ]
  },
  {
   "cell_type": "code",
   "execution_count": 28,
   "id": "4bce44c4",
   "metadata": {},
   "outputs": [
    {
     "data": {
      "text/html": [
       "<div>\n",
       "<style scoped>\n",
       "    .dataframe tbody tr th:only-of-type {\n",
       "        vertical-align: middle;\n",
       "    }\n",
       "\n",
       "    .dataframe tbody tr th {\n",
       "        vertical-align: top;\n",
       "    }\n",
       "\n",
       "    .dataframe thead th {\n",
       "        text-align: right;\n",
       "    }\n",
       "</style>\n",
       "<table border=\"1\" class=\"dataframe\">\n",
       "  <thead>\n",
       "    <tr style=\"text-align: right;\">\n",
       "      <th></th>\n",
       "      <th>lng_start</th>\n",
       "      <th>terminal_end</th>\n",
       "      <th>lat_end</th>\n",
       "      <th>lng_end</th>\n",
       "      <th>month</th>\n",
       "      <th>day_of_week</th>\n",
       "      <th>hour</th>\n",
       "      <th>weekend</th>\n",
       "      <th>terminal_letter_start</th>\n",
       "    </tr>\n",
       "  </thead>\n",
       "  <tbody>\n",
       "    <tr>\n",
       "      <th>0</th>\n",
       "      <td>-71.056067</td>\n",
       "      <td>D32006</td>\n",
       "      <td>42.363871</td>\n",
       "      <td>-71.050877</td>\n",
       "      <td>7</td>\n",
       "      <td>3</td>\n",
       "      <td>11</td>\n",
       "      <td>0</td>\n",
       "      <td>D</td>\n",
       "    </tr>\n",
       "    <tr>\n",
       "      <th>1</th>\n",
       "      <td>-71.056067</td>\n",
       "      <td>D32006</td>\n",
       "      <td>42.363871</td>\n",
       "      <td>-71.050877</td>\n",
       "      <td>7</td>\n",
       "      <td>3</td>\n",
       "      <td>11</td>\n",
       "      <td>0</td>\n",
       "      <td>D</td>\n",
       "    </tr>\n",
       "    <tr>\n",
       "      <th>2</th>\n",
       "      <td>-71.056067</td>\n",
       "      <td>D32006</td>\n",
       "      <td>42.363871</td>\n",
       "      <td>-71.050877</td>\n",
       "      <td>7</td>\n",
       "      <td>3</td>\n",
       "      <td>11</td>\n",
       "      <td>0</td>\n",
       "      <td>D</td>\n",
       "    </tr>\n",
       "    <tr>\n",
       "      <th>3</th>\n",
       "      <td>-71.050877</td>\n",
       "      <td>D32010</td>\n",
       "      <td>42.362811</td>\n",
       "      <td>-71.056067</td>\n",
       "      <td>7</td>\n",
       "      <td>3</td>\n",
       "      <td>12</td>\n",
       "      <td>0</td>\n",
       "      <td>D</td>\n",
       "    </tr>\n",
       "    <tr>\n",
       "      <th>4</th>\n",
       "      <td>-71.055547</td>\n",
       "      <td>A32010</td>\n",
       "      <td>42.352175</td>\n",
       "      <td>-71.055547</td>\n",
       "      <td>7</td>\n",
       "      <td>3</td>\n",
       "      <td>12</td>\n",
       "      <td>0</td>\n",
       "      <td>A</td>\n",
       "    </tr>\n",
       "  </tbody>\n",
       "</table>\n",
       "</div>"
      ],
      "text/plain": [
       "   lng_start terminal_end    lat_end    lng_end  month  day_of_week  hour  \\\n",
       "0 -71.056067       D32006  42.363871 -71.050877      7            3    11   \n",
       "1 -71.056067       D32006  42.363871 -71.050877      7            3    11   \n",
       "2 -71.056067       D32006  42.363871 -71.050877      7            3    11   \n",
       "3 -71.050877       D32010  42.362811 -71.056067      7            3    12   \n",
       "4 -71.055547       A32010  42.352175 -71.055547      7            3    12   \n",
       "\n",
       "   weekend terminal_letter_start  \n",
       "0        0                     D  \n",
       "1        0                     D  \n",
       "2        0                     D  \n",
       "3        0                     D  \n",
       "4        0                     A  "
      ]
     },
     "execution_count": 28,
     "metadata": {},
     "output_type": "execute_result"
    }
   ],
   "source": [
    "data.iloc[:5,12:]"
   ]
  },
  {
   "cell_type": "markdown",
   "id": "7c311d17",
   "metadata": {},
   "source": [
    "#### Checking missing values"
   ]
  },
  {
   "cell_type": "code",
   "execution_count": 29,
   "id": "cdebdb75",
   "metadata": {},
   "outputs": [
    {
     "data": {
      "text/plain": [
       "duration                       0\n",
       "strt_statn                    12\n",
       "end_statn                     42\n",
       "bike_nr                      358\n",
       "subsc_type                     0\n",
       "birth_date               1181038\n",
       "gender                    427609\n",
       "DATE                           0\n",
       "HPCP                     1354550\n",
       "Measurement_Flag         1354550\n",
       "terminal_start                12\n",
       "lat_start                     12\n",
       "lng_start                     12\n",
       "terminal_end                  42\n",
       "lat_end                       42\n",
       "lng_end                       42\n",
       "month                          0\n",
       "day_of_week                    0\n",
       "hour                           0\n",
       "weekend                        0\n",
       "terminal_letter_start          0\n",
       "dtype: int64"
      ]
     },
     "execution_count": 29,
     "metadata": {},
     "output_type": "execute_result"
    }
   ],
   "source": [
    "data.isna().sum()"
   ]
  },
  {
   "cell_type": "markdown",
   "id": "2f481011",
   "metadata": {},
   "source": [
    "#### We see in the above that there are couple missing values in some columns, we can drop the rows where they are missing, it will not impact the model performance as these rows are very small subset of our data, we will drop the rows where status_end, status_start or bike_nr is NA value."
   ]
  },
  {
   "cell_type": "code",
   "execution_count": 31,
   "id": "167d8c32",
   "metadata": {},
   "outputs": [],
   "source": [
    "data.dropna(axis=0, subset=['strt_statn', 'end_statn', 'bike_nr'], inplace=True)"
   ]
  },
  {
   "cell_type": "code",
   "execution_count": 32,
   "id": "8c8feb26",
   "metadata": {
    "scrolled": true
   },
   "outputs": [
    {
     "data": {
      "text/plain": [
       "duration                       0\n",
       "strt_statn                     0\n",
       "end_statn                      0\n",
       "bike_nr                        0\n",
       "subsc_type                     0\n",
       "birth_date               1180815\n",
       "gender                    427390\n",
       "DATE                           0\n",
       "HPCP                     1354175\n",
       "Measurement_Flag         1354175\n",
       "terminal_start                 0\n",
       "lat_start                      0\n",
       "lng_start                      0\n",
       "terminal_end                   0\n",
       "lat_end                        0\n",
       "lng_end                        0\n",
       "month                          0\n",
       "day_of_week                    0\n",
       "hour                           0\n",
       "weekend                        0\n",
       "terminal_letter_start          0\n",
       "dtype: int64"
      ]
     },
     "execution_count": 32,
     "metadata": {},
     "output_type": "execute_result"
    }
   ],
   "source": [
    "# We are left with four columns to clean up \n",
    "\n",
    "data.isna().sum()"
   ]
  },
  {
   "cell_type": "code",
   "execution_count": 33,
   "id": "ea2d60fc",
   "metadata": {},
   "outputs": [],
   "source": [
    "# For the HPCP  we will fill 0 in the precipitation measure as based on documentation \n",
    "# hours with no precipitation are not shown.\n",
    "\n",
    "data['HPCP']= data['HPCP'].fillna(0)"
   ]
  },
  {
   "cell_type": "code",
   "execution_count": 34,
   "id": "b6d002b8",
   "metadata": {},
   "outputs": [
    {
     "data": {
      "text/plain": [
       "T    49958\n",
       "     32313\n",
       "g      246\n",
       "Name: Measurement_Flag, dtype: int64"
      ]
     },
     "execution_count": 34,
     "metadata": {},
     "output_type": "execute_result"
    }
   ],
   "source": [
    "# Let's check how many unique values we have in the measurement flag column\n",
    "\n",
    "data.Measurement_Flag.value_counts()"
   ]
  },
  {
   "cell_type": "code",
   "execution_count": 35,
   "id": "380a7886",
   "metadata": {},
   "outputs": [],
   "source": [
    "# We will create another column 'Rain' \n",
    "# from the HPCP column to indcate whether it was raining or not during the bike trip\n",
    "\n",
    "data['Rain'] = data['HPCP'].apply(lambda x: x>0).astype(int)\n",
    "\n",
    "# T value is indicating trace precipitation less than 0.01. We will feed Rain column with that info\n",
    "# assigning value 1 wherever there is a T flag in a row.\n",
    "\n",
    "data.loc[data.Measurement_Flag=='T', 'Rain'] = 1"
   ]
  },
  {
   "cell_type": "code",
   "execution_count": 45,
   "id": "02ad6a4a",
   "metadata": {},
   "outputs": [],
   "source": [
    "# Now we can drop the column Measurement flag as info about that is in the HPCP column.\n",
    "\n",
    "data.drop(['Measurement_Flag'], axis=1, inplace=True)"
   ]
  },
  {
   "cell_type": "code",
   "execution_count": 47,
   "id": "c452d150",
   "metadata": {},
   "outputs": [],
   "source": [
    "#For gender column we will fill NA values by \"Unknown\" string, I don't want to drop this column as \n",
    "# it can be a good predictor\n",
    "\n",
    "data['gender']= data['gender'].fillna(\"Unknown\")"
   ]
  },
  {
   "cell_type": "code",
   "execution_count": 48,
   "id": "52f54bde",
   "metadata": {},
   "outputs": [
    {
     "data": {
      "text/plain": [
       "duration                       0\n",
       "strt_statn                     0\n",
       "end_statn                      0\n",
       "bike_nr                        0\n",
       "subsc_type                     0\n",
       "birth_date               1180815\n",
       "gender                         0\n",
       "DATE                           0\n",
       "HPCP                           0\n",
       "terminal_start                 0\n",
       "lat_start                      0\n",
       "lng_start                      0\n",
       "terminal_end                   0\n",
       "lat_end                        0\n",
       "lng_end                        0\n",
       "month                          0\n",
       "day_of_week                    0\n",
       "hour                           0\n",
       "weekend                        0\n",
       "terminal_letter_start          0\n",
       "Rain                           0\n",
       "dtype: int64"
      ]
     },
     "execution_count": 48,
     "metadata": {},
     "output_type": "execute_result"
    }
   ],
   "source": [
    "data.isna().sum()"
   ]
  },
  {
   "cell_type": "code",
   "execution_count": null,
   "id": "098b7899",
   "metadata": {},
   "outputs": [],
   "source": []
  },
  {
   "cell_type": "code",
   "execution_count": null,
   "id": "e2a177b6",
   "metadata": {},
   "outputs": [],
   "source": [
    "# We create a feature that will derive the first letter from the Bike number, \n",
    "# we will then see what predictive power it will have\n",
    "\n",
    "data['bike_id']= data.bike_nr.apply(lambda x: str(x)[0])"
   ]
  },
  {
   "cell_type": "code",
   "execution_count": null,
   "id": "07709780",
   "metadata": {},
   "outputs": [],
   "source": [
    "#We create distance column that will measure the distance from start and end station\n",
    "\n",
    "data['distance']= np.sqrt((data['lat_start']- data['lat_end'])**2 + \n",
    "                       (data['lng_start']- data['lng_end'])**2)\n",
    "\n",
    "# We will create another column to check if person is subscribed or not\n",
    "\n",
    "def registered(x):\n",
    "    if x=='Registered':\n",
    "        return 1\n",
    "    else:\n",
    "        return 0\n",
    "\n",
    "data['subscription'] = data['subsc_type'].apply(registered)"
   ]
  },
  {
   "cell_type": "code",
   "execution_count": null,
   "id": "7f1eb501",
   "metadata": {},
   "outputs": [],
   "source": [
    "pd.Categorical(data['strt_statn'])\n",
    "pd.Categorical(data['municipal_start'])\n",
    "pd.Categorical(data['terminal_letter_start'])"
   ]
  },
  {
   "cell_type": "code",
   "execution_count": null,
   "id": "d1b2daf2",
   "metadata": {},
   "outputs": [],
   "source": [
    "# We can drop columns that we don't need anymore\n",
    "\n",
    "data.drop(['bike_nr', 'subsc_type', 'lat_start',\n",
    "           'lng_start', 'status_start', 'lat_end', 'lng_end', 'terminal_end',\n",
    "           'status_end', 'terminal_start', 'HPCP'], axis=1, inplace=True)"
   ]
  },
  {
   "cell_type": "code",
   "execution_count": null,
   "id": "b758d0bf",
   "metadata": {},
   "outputs": [],
   "source": [
    "# Check the target skewness\n",
    "\n",
    "print(data.duration.median())\n",
    "print(data.duration.mean())\n",
    "\n",
    "# Lets get rid of outliers from the duration column that have duration more than 2500.\n",
    "# Also there are some rows where duration are below zero, we will drop those rows as well\n",
    "\n",
    "data.drop(data[(data.duration>2500) | (data.duration<0)].index, axis=0, inplace=True)"
   ]
  },
  {
   "cell_type": "code",
   "execution_count": null,
   "id": "228256a2",
   "metadata": {},
   "outputs": [],
   "source": [
    "# We see below that the data is skewed but less than before.\n",
    "\n",
    "sns.kdeplot(data=data, x='duration')"
   ]
  },
  {
   "cell_type": "code",
   "execution_count": null,
   "id": "487c168a",
   "metadata": {},
   "outputs": [],
   "source": [
    "# Lets see the predictive power of our features - \n",
    "# the gender column seems to have an impact on the duration, let's create two hot one columns from the gender\n",
    "\n",
    "sns.boxplot(x='gender', y='duration', data=data)\n",
    "\n",
    "data= pd.get_dummies(data, columns=['gender'], drop_first=True)"
   ]
  },
  {
   "cell_type": "code",
   "execution_count": null,
   "id": "f791893c",
   "metadata": {},
   "outputs": [],
   "source": [
    "# Lets see the predictive power of our features - \n",
    "# the gender column seems to have an impact on the duration, let's create two hot one columns from the gender\n",
    "\n",
    "sns.boxplot(x='month', y='duration', data=data)"
   ]
  },
  {
   "cell_type": "code",
   "execution_count": null,
   "id": "bd445219",
   "metadata": {},
   "outputs": [],
   "source": [
    "# Lets see the predictive power of our features - \n",
    "# the gender column seems to have an impact on the duration, let's create two hot one columns from the gender\n",
    "\n",
    "sns.boxplot(x='weekend', y='duration', data=data)"
   ]
  },
  {
   "cell_type": "code",
   "execution_count": null,
   "id": "e5525882",
   "metadata": {},
   "outputs": [],
   "source": [
    "sns.boxplot(x='hour', y='duration',data=data)"
   ]
  },
  {
   "cell_type": "code",
   "execution_count": null,
   "id": "8e18bcbc",
   "metadata": {},
   "outputs": [],
   "source": [
    "sns.boxplot(x='municipal_start', y='duration',data=data)"
   ]
  },
  {
   "cell_type": "code",
   "execution_count": null,
   "id": "9ba45e98",
   "metadata": {},
   "outputs": [],
   "source": [
    "# We can drop bike_id as all groups have proportional means and variances in the durations outcome. \n",
    "sns.boxplot(x='bike_id', y='duration', data=data)\n",
    "\n",
    "data.drop('bike_id', axis=1, inplace=True)"
   ]
  },
  {
   "cell_type": "code",
   "execution_count": null,
   "id": "011e98bb",
   "metadata": {},
   "outputs": [],
   "source": [
    "# The subscription feature is good predictor of \n",
    "# duration as we see that the two groups differs signifcantly from each other\n",
    "\n",
    "sns.boxplot(x='subscription', y='duration', data=data)"
   ]
  },
  {
   "cell_type": "code",
   "execution_count": null,
   "id": "17e3128a",
   "metadata": {},
   "outputs": [],
   "source": [
    "# It does not seem that rain is a factor in predicting the duration of a trip\n",
    "\n",
    "sns.boxplot(data=data, x='Rain',  y='duration')"
   ]
  },
  {
   "cell_type": "code",
   "execution_count": null,
   "id": "617c36a6",
   "metadata": {},
   "outputs": [],
   "source": [
    "# From the below below we see the distance column is also highly correlated with duration\n",
    "\n",
    "sns.scatterplot(x='distance', y='duration', data=data)"
   ]
  },
  {
   "cell_type": "code",
   "execution_count": null,
   "id": "6f5e1c77",
   "metadata": {},
   "outputs": [],
   "source": [
    "# We can also look at correlation matrix to check which features are highly correlated with duration\n",
    "\n",
    "corr= data.corr()\n",
    "\n",
    "sns.heatmap(corr, annot=True)"
   ]
  },
  {
   "cell_type": "code",
   "execution_count": null,
   "id": "970058dd",
   "metadata": {},
   "outputs": [],
   "source": [
    "# We will drop subscription column as it is perfectly correlated with the gender_Unknown column\n",
    "\n",
    "data.drop(['end_statn', 'DATE', 'distance', 'subscription'], axis=1, inplace=True)"
   ]
  },
  {
   "cell_type": "code",
   "execution_count": null,
   "id": "5341b92c",
   "metadata": {},
   "outputs": [],
   "source": [
    "data.head()"
   ]
  },
  {
   "cell_type": "markdown",
   "id": "218e526e",
   "metadata": {},
   "source": [
    "## Model training"
   ]
  },
  {
   "cell_type": "markdown",
   "id": "438ab197",
   "metadata": {},
   "source": [
    "### I'll chose Random Forest Regressor as my model, the decision trees are providing better results when trained on skewed target and predictors than other models"
   ]
  },
  {
   "cell_type": "code",
   "execution_count": null,
   "id": "9328fb95",
   "metadata": {},
   "outputs": [],
   "source": [
    "# Import Random Forest regressor\n",
    "from sklearn.ensemble import RandomForestRegressor\n",
    "\n",
    "# Set target and predictors\n",
    "\n",
    "X= data.drop(['DATE', 'duration'], axis=1)\n",
    "Y= data['duration']"
   ]
  },
  {
   "cell_type": "code",
   "execution_count": null,
   "id": "9bc03f12",
   "metadata": {},
   "outputs": [],
   "source": [
    "# Split data into train and test\n",
    "\n",
    "from sklearn.model_selection import train_test_split\n",
    "\n",
    "X_train, X_test, y_train, y_test = train_test_split(X, Y, test_size=0.2,\n",
    "                                                    random_state=11)"
   ]
  },
  {
   "cell_type": "code",
   "execution_count": null,
   "id": "6ebb4e1d",
   "metadata": {},
   "outputs": [],
   "source": [
    "# I will use the RandomizedSearchCV to pick the best parameters for the model\n",
    "# As we have many parameters we will set n_iter=10 to pick randomly 10 different sets of parameters.\n",
    "\n",
    "from sklearn.model_selection import RandomizedSearchCV\n",
    "\n",
    "model = RandomForestRegressor()\n",
    "\n",
    "rs = RandomizedSearchCV(model, n_iter=1,\n",
    "                        param_distributions = {'max_depth': [5, 15, 25],\n",
    "                                               'min_samples_split':  [10, 20, 50, 100],\n",
    "                                               'n_estimators': [10, 20] },\n",
    "                        cv=5, n_jobs=-1, random_state=31,\n",
    "                        scoring='neg_mean_squared_error')\n",
    "\n",
    "\n",
    "# Fit the Randomized Search to X_train, y_train\n",
    "rs.fit(X_train, y_train)\n",
    "\n",
    "# Print the best parameters and mean_squared_error for them\n",
    "\n",
    "print(rs.best_params_)\n",
    "print(-rs.best_score_)"
   ]
  },
  {
   "cell_type": "markdown",
   "id": "188ee36a",
   "metadata": {},
   "source": [
    "### It may take some time for RandomizedSearchCV to run. After we will find the best parameters for our model we can train the Random Forest Regressor model with these parameters"
   ]
  },
  {
   "cell_type": "markdown",
   "id": "8c250b02",
   "metadata": {},
   "source": [
    "# The END"
   ]
  }
 ],
 "metadata": {
  "kernelspec": {
   "display_name": "Python 3 (ipykernel)",
   "language": "python",
   "name": "python3"
  },
  "language_info": {
   "codemirror_mode": {
    "name": "ipython",
    "version": 3
   },
   "file_extension": ".py",
   "mimetype": "text/x-python",
   "name": "python",
   "nbconvert_exporter": "python",
   "pygments_lexer": "ipython3",
   "version": "3.9.13"
  }
 },
 "nbformat": 4,
 "nbformat_minor": 5
}
