{
 "cells": [
  {
   "cell_type": "code",
   "execution_count": 4,
   "id": "4967e9fa",
   "metadata": {},
   "outputs": [],
   "source": [
    "import numpy as np\n",
    "import pandas as pd\n",
    "import time\n",
    "from geopy.geocoders import Nominatim, googlev3"
   ]
  },
  {
   "cell_type": "code",
   "execution_count": 5,
   "id": "0ce71c9e",
   "metadata": {},
   "outputs": [],
   "source": [
    "path= 'C:\\\\Users\\\\krasi\\\\pyproj\\\\datasets\\\\Technical test 2023\\\\data\\\\'\n",
    "hubway_trips= pd.read_csv(path + 'hubway_trips.csv')\n",
    "\n",
    "zip_codes= pd.DataFrame(hubway_trips.zip_code.unique(), columns=[\"zip_code\"])\n",
    "zip_codes.dropna(inplace=True)\n",
    "zip_codes.reset_index(drop=True, inplace=True)"
   ]
  },
  {
   "cell_type": "code",
   "execution_count": 6,
   "id": "5cdb4ee8",
   "metadata": {},
   "outputs": [
    {
     "data": {
      "text/html": [
       "<div>\n",
       "<style scoped>\n",
       "    .dataframe tbody tr th:only-of-type {\n",
       "        vertical-align: middle;\n",
       "    }\n",
       "\n",
       "    .dataframe tbody tr th {\n",
       "        vertical-align: top;\n",
       "    }\n",
       "\n",
       "    .dataframe thead th {\n",
       "        text-align: right;\n",
       "    }\n",
       "</style>\n",
       "<table border=\"1\" class=\"dataframe\">\n",
       "  <thead>\n",
       "    <tr style=\"text-align: right;\">\n",
       "      <th></th>\n",
       "      <th>zip_code</th>\n",
       "    </tr>\n",
       "  </thead>\n",
       "  <tbody>\n",
       "    <tr>\n",
       "      <th>0</th>\n",
       "      <td>'97217</td>\n",
       "    </tr>\n",
       "    <tr>\n",
       "      <th>1</th>\n",
       "      <td>'02215</td>\n",
       "    </tr>\n",
       "    <tr>\n",
       "      <th>2</th>\n",
       "      <td>'02108</td>\n",
       "    </tr>\n",
       "    <tr>\n",
       "      <th>3</th>\n",
       "      <td>'02116</td>\n",
       "    </tr>\n",
       "    <tr>\n",
       "      <th>4</th>\n",
       "      <td>'97214</td>\n",
       "    </tr>\n",
       "    <tr>\n",
       "      <th>...</th>\n",
       "      <td>...</td>\n",
       "    </tr>\n",
       "    <tr>\n",
       "      <th>525</th>\n",
       "      <td>'06412</td>\n",
       "    </tr>\n",
       "    <tr>\n",
       "      <th>526</th>\n",
       "      <td>'44040</td>\n",
       "    </tr>\n",
       "    <tr>\n",
       "      <th>527</th>\n",
       "      <td>'03054</td>\n",
       "    </tr>\n",
       "    <tr>\n",
       "      <th>528</th>\n",
       "      <td>'20116</td>\n",
       "    </tr>\n",
       "    <tr>\n",
       "      <th>529</th>\n",
       "      <td>'43017</td>\n",
       "    </tr>\n",
       "  </tbody>\n",
       "</table>\n",
       "<p>530 rows × 1 columns</p>\n",
       "</div>"
      ],
      "text/plain": [
       "    zip_code\n",
       "0     '97217\n",
       "1     '02215\n",
       "2     '02108\n",
       "3     '02116\n",
       "4     '97214\n",
       "..       ...\n",
       "525   '06412\n",
       "526   '44040\n",
       "527   '03054\n",
       "528   '20116\n",
       "529   '43017\n",
       "\n",
       "[530 rows x 1 columns]"
      ]
     },
     "execution_count": 6,
     "metadata": {},
     "output_type": "execute_result"
    }
   ],
   "source": [
    "zip_codes"
   ]
  },
  {
   "cell_type": "code",
   "execution_count": 16,
   "id": "59a3080c",
   "metadata": {},
   "outputs": [],
   "source": [
    "info=[]\n",
    "lat= []\n",
    "long=[]\n",
    "\n",
    "geocoder = Nominatim(user_agent='my_kras_app')\n",
    "\n",
    "for code in zip_codes.zip_code:\n",
    "    location = geocoder.geocode(\"United States \" + code)\n",
    "    info.append(location.address)\n",
    "    lat.append(location.latitude)\n",
    "    long.append(location.longitude)\n",
    "    time.sleep(1)"
   ]
  },
  {
   "cell_type": "code",
   "execution_count": 17,
   "id": "154d049c",
   "metadata": {},
   "outputs": [
    {
     "data": {
      "text/plain": [
       "530"
      ]
     },
     "execution_count": 17,
     "metadata": {},
     "output_type": "execute_result"
    }
   ],
   "source": [
    "len(info)"
   ]
  },
  {
   "cell_type": "code",
   "execution_count": 18,
   "id": "4dd8c107",
   "metadata": {},
   "outputs": [],
   "source": [
    "zip_codes['address']= info\n",
    "zip_codes['home_lat']= lat\n",
    "zip_codes['home_long']= long"
   ]
  },
  {
   "cell_type": "code",
   "execution_count": 19,
   "id": "d2b754b3",
   "metadata": {},
   "outputs": [
    {
     "data": {
      "text/html": [
       "<div>\n",
       "<style scoped>\n",
       "    .dataframe tbody tr th:only-of-type {\n",
       "        vertical-align: middle;\n",
       "    }\n",
       "\n",
       "    .dataframe tbody tr th {\n",
       "        vertical-align: top;\n",
       "    }\n",
       "\n",
       "    .dataframe thead th {\n",
       "        text-align: right;\n",
       "    }\n",
       "</style>\n",
       "<table border=\"1\" class=\"dataframe\">\n",
       "  <thead>\n",
       "    <tr style=\"text-align: right;\">\n",
       "      <th></th>\n",
       "      <th>zip_code</th>\n",
       "      <th>address</th>\n",
       "      <th>home_lat</th>\n",
       "      <th>home_long</th>\n",
       "    </tr>\n",
       "  </thead>\n",
       "  <tbody>\n",
       "    <tr>\n",
       "      <th>179</th>\n",
       "      <td>'01463</td>\n",
       "      <td>Pepperell, Middlesex County, Massachusetts, 01...</td>\n",
       "      <td>42.666855</td>\n",
       "      <td>-71.601242</td>\n",
       "    </tr>\n",
       "    <tr>\n",
       "      <th>263</th>\n",
       "      <td>'02170</td>\n",
       "      <td>Quincy, Norfolk County, Massachusetts, 02170, ...</td>\n",
       "      <td>42.266678</td>\n",
       "      <td>-71.012577</td>\n",
       "    </tr>\n",
       "    <tr>\n",
       "      <th>326</th>\n",
       "      <td>'01952</td>\n",
       "      <td>Salisbury, Essex County, Massachusetts, 01952,...</td>\n",
       "      <td>42.838899</td>\n",
       "      <td>-70.867001</td>\n",
       "    </tr>\n",
       "    <tr>\n",
       "      <th>39</th>\n",
       "      <td>'01944</td>\n",
       "      <td>Manchester-by-the-Sea, Essex County, Massachus...</td>\n",
       "      <td>42.575554</td>\n",
       "      <td>-70.778467</td>\n",
       "    </tr>\n",
       "    <tr>\n",
       "      <th>127</th>\n",
       "      <td>'01583</td>\n",
       "      <td>West Boylston, Worcester County, Massachusetts...</td>\n",
       "      <td>42.362268</td>\n",
       "      <td>-71.785875</td>\n",
       "    </tr>\n",
       "  </tbody>\n",
       "</table>\n",
       "</div>"
      ],
      "text/plain": [
       "    zip_code                                            address   home_lat  \\\n",
       "179   '01463  Pepperell, Middlesex County, Massachusetts, 01...  42.666855   \n",
       "263   '02170  Quincy, Norfolk County, Massachusetts, 02170, ...  42.266678   \n",
       "326   '01952  Salisbury, Essex County, Massachusetts, 01952,...  42.838899   \n",
       "39    '01944  Manchester-by-the-Sea, Essex County, Massachus...  42.575554   \n",
       "127   '01583  West Boylston, Worcester County, Massachusetts...  42.362268   \n",
       "\n",
       "     home_long  \n",
       "179 -71.601242  \n",
       "263 -71.012577  \n",
       "326 -70.867001  \n",
       "39  -70.778467  \n",
       "127 -71.785875  "
      ]
     },
     "execution_count": 19,
     "metadata": {},
     "output_type": "execute_result"
    }
   ],
   "source": [
    "zip_codes.sample(5)"
   ]
  },
  {
   "cell_type": "code",
   "execution_count": 21,
   "id": "03eea5df",
   "metadata": {},
   "outputs": [],
   "source": [
    "zip_codes.to_csv('Boston_zip_codes_info.csv')"
   ]
  },
  {
   "cell_type": "code",
   "execution_count": null,
   "id": "2140729d",
   "metadata": {},
   "outputs": [],
   "source": []
  },
  {
   "cell_type": "code",
   "execution_count": null,
   "id": "56814236",
   "metadata": {},
   "outputs": [],
   "source": []
  },
  {
   "cell_type": "code",
   "execution_count": null,
   "id": "4be723f0",
   "metadata": {},
   "outputs": [],
   "source": []
  },
  {
   "cell_type": "code",
   "execution_count": 8,
   "id": "f4de114a",
   "metadata": {},
   "outputs": [],
   "source": [
    "geocoder = Nominatim(user_agent='my_kras_app')"
   ]
  },
  {
   "cell_type": "code",
   "execution_count": 17,
   "id": "52d13b69",
   "metadata": {},
   "outputs": [
    {
     "data": {
      "text/plain": [
       "Location(80203, (39.73080729396315, -104.98331801901216, 0.0))"
      ]
     },
     "execution_count": 17,
     "metadata": {},
     "output_type": "execute_result"
    }
   ],
   "source": [
    "geocoder.geocode(\"80203 USA\")"
   ]
  },
  {
   "cell_type": "code",
   "execution_count": 21,
   "id": "f14db4ac",
   "metadata": {},
   "outputs": [
    {
     "data": {
      "text/plain": [
       "Location(06066, (41.84305443101014, -72.46601910870235, 0.0))"
      ]
     },
     "execution_count": 21,
     "metadata": {},
     "output_type": "execute_result"
    }
   ],
   "source": [
    "geocoder.geocode(\"06066 United States\")"
   ]
  },
  {
   "cell_type": "code",
   "execution_count": 20,
   "id": "d5da493b",
   "metadata": {},
   "outputs": [
    {
     "data": {
      "text/plain": [
       "Location(Piegaro, Perugia, Umbria, 06066, Italia, (42.98091421, 12.15472079, 0.0))"
      ]
     },
     "execution_count": 20,
     "metadata": {},
     "output_type": "execute_result"
    }
   ],
   "source": [
    "geocoder.geocode(\"06066\")"
   ]
  },
  {
   "cell_type": "code",
   "execution_count": null,
   "id": "c8adb7b9",
   "metadata": {},
   "outputs": [],
   "source": []
  }
 ],
 "metadata": {
  "kernelspec": {
   "display_name": "Python 3 (ipykernel)",
   "language": "python",
   "name": "python3"
  },
  "language_info": {
   "codemirror_mode": {
    "name": "ipython",
    "version": 3
   },
   "file_extension": ".py",
   "mimetype": "text/x-python",
   "name": "python",
   "nbconvert_exporter": "python",
   "pygments_lexer": "ipython3",
   "version": "3.9.13"
  }
 },
 "nbformat": 4,
 "nbformat_minor": 5
}
