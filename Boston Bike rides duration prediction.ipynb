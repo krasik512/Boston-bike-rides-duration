{
 "cells": [
  {
   "cell_type": "markdown",
   "id": "ba6c51d1",
   "metadata": {},
   "source": [
    "## Boston bike rides duration prediction"
   ]
  },
  {
   "cell_type": "markdown",
   "id": "16db4358",
   "metadata": {},
   "source": [
    "### Import necessary libraries"
   ]
  },
  {
   "cell_type": "code",
   "execution_count": 81,
   "id": "0a76a5c6",
   "metadata": {},
   "outputs": [],
   "source": [
    "import numpy as np\n",
    "import pandas as pd\n",
    "import matplotlib.pyplot as plt\n",
    "import seaborn as sns\n",
    "import sklearn"
   ]
  },
  {
   "cell_type": "markdown",
   "id": "8b82bc7c",
   "metadata": {},
   "source": [
    "### Load the datasets"
   ]
  },
  {
   "cell_type": "code",
   "execution_count": 82,
   "id": "854387b5",
   "metadata": {},
   "outputs": [],
   "source": [
    "# Please replace the path variable by the directory where the files will be stored.\n",
    "\n",
    "path= 'C:\\\\Users\\\\krasi\\\\pyproj\\\\datasets\\\\Technical test 2023\\\\data\\\\'\n",
    "\n",
    "weather_data= pd.read_csv(path + 'weather.csv')\n",
    "hubway_trips= pd.read_csv(path + 'hubway_trips.csv')\n",
    "hubway_stations= pd.read_csv(path + 'hubway_stations.csv')"
   ]
  },
  {
   "cell_type": "code",
   "execution_count": 83,
   "id": "e3903c2a",
   "metadata": {
    "scrolled": true
   },
   "outputs": [
    {
     "data": {
      "text/html": [
       "<div>\n",
       "<style scoped>\n",
       "    .dataframe tbody tr th:only-of-type {\n",
       "        vertical-align: middle;\n",
       "    }\n",
       "\n",
       "    .dataframe tbody tr th {\n",
       "        vertical-align: top;\n",
       "    }\n",
       "\n",
       "    .dataframe thead th {\n",
       "        text-align: right;\n",
       "    }\n",
       "</style>\n",
       "<table border=\"1\" class=\"dataframe\">\n",
       "  <thead>\n",
       "    <tr style=\"text-align: right;\">\n",
       "      <th></th>\n",
       "      <th>STATION</th>\n",
       "      <th>STATION_NAME</th>\n",
       "      <th>ELEVATION</th>\n",
       "      <th>LATITUDE</th>\n",
       "      <th>LONGITUDE</th>\n",
       "      <th>DATE</th>\n",
       "      <th>HPCP</th>\n",
       "      <th>Measurement_Flag</th>\n",
       "      <th>Quality_Flag</th>\n",
       "    </tr>\n",
       "  </thead>\n",
       "  <tbody>\n",
       "    <tr>\n",
       "      <th>0</th>\n",
       "      <td>COOP:190770</td>\n",
       "      <td>BOSTON MA US</td>\n",
       "      <td>3.7</td>\n",
       "      <td>42.3606</td>\n",
       "      <td>-71.0106</td>\n",
       "      <td>20110729 09:00</td>\n",
       "      <td>0.00</td>\n",
       "      <td>T</td>\n",
       "      <td></td>\n",
       "    </tr>\n",
       "    <tr>\n",
       "      <th>1</th>\n",
       "      <td>COOP:190770</td>\n",
       "      <td>BOSTON MA US</td>\n",
       "      <td>3.7</td>\n",
       "      <td>42.3606</td>\n",
       "      <td>-71.0106</td>\n",
       "      <td>20110729 10:00</td>\n",
       "      <td>0.00</td>\n",
       "      <td>T</td>\n",
       "      <td></td>\n",
       "    </tr>\n",
       "    <tr>\n",
       "      <th>2</th>\n",
       "      <td>COOP:190770</td>\n",
       "      <td>BOSTON MA US</td>\n",
       "      <td>3.7</td>\n",
       "      <td>42.3606</td>\n",
       "      <td>-71.0106</td>\n",
       "      <td>20110729 18:00</td>\n",
       "      <td>0.00</td>\n",
       "      <td>T</td>\n",
       "      <td></td>\n",
       "    </tr>\n",
       "    <tr>\n",
       "      <th>3</th>\n",
       "      <td>COOP:190770</td>\n",
       "      <td>BOSTON MA US</td>\n",
       "      <td>3.7</td>\n",
       "      <td>42.3606</td>\n",
       "      <td>-71.0106</td>\n",
       "      <td>20110729 21:00</td>\n",
       "      <td>0.03</td>\n",
       "      <td></td>\n",
       "      <td></td>\n",
       "    </tr>\n",
       "    <tr>\n",
       "      <th>4</th>\n",
       "      <td>COOP:190770</td>\n",
       "      <td>BOSTON MA US</td>\n",
       "      <td>3.7</td>\n",
       "      <td>42.3606</td>\n",
       "      <td>-71.0106</td>\n",
       "      <td>20110729 22:00</td>\n",
       "      <td>0.04</td>\n",
       "      <td></td>\n",
       "      <td></td>\n",
       "    </tr>\n",
       "  </tbody>\n",
       "</table>\n",
       "</div>"
      ],
      "text/plain": [
       "       STATION  STATION_NAME  ELEVATION  LATITUDE  LONGITUDE            DATE  \\\n",
       "0  COOP:190770  BOSTON MA US        3.7   42.3606   -71.0106  20110729 09:00   \n",
       "1  COOP:190770  BOSTON MA US        3.7   42.3606   -71.0106  20110729 10:00   \n",
       "2  COOP:190770  BOSTON MA US        3.7   42.3606   -71.0106  20110729 18:00   \n",
       "3  COOP:190770  BOSTON MA US        3.7   42.3606   -71.0106  20110729 21:00   \n",
       "4  COOP:190770  BOSTON MA US        3.7   42.3606   -71.0106  20110729 22:00   \n",
       "\n",
       "   HPCP Measurement_Flag Quality_Flag  \n",
       "0  0.00                T               \n",
       "1  0.00                T               \n",
       "2  0.00                T               \n",
       "3  0.03                                \n",
       "4  0.04                                "
      ]
     },
     "execution_count": 83,
     "metadata": {},
     "output_type": "execute_result"
    }
   ],
   "source": [
    "weather_data.head()"
   ]
  },
  {
   "cell_type": "code",
   "execution_count": 84,
   "id": "7581c8a3",
   "metadata": {},
   "outputs": [
    {
     "data": {
      "text/html": [
       "<div>\n",
       "<style scoped>\n",
       "    .dataframe tbody tr th:only-of-type {\n",
       "        vertical-align: middle;\n",
       "    }\n",
       "\n",
       "    .dataframe tbody tr th {\n",
       "        vertical-align: top;\n",
       "    }\n",
       "\n",
       "    .dataframe thead th {\n",
       "        text-align: right;\n",
       "    }\n",
       "</style>\n",
       "<table border=\"1\" class=\"dataframe\">\n",
       "  <thead>\n",
       "    <tr style=\"text-align: right;\">\n",
       "      <th></th>\n",
       "      <th>seq_id</th>\n",
       "      <th>hubway_id</th>\n",
       "      <th>status</th>\n",
       "      <th>duration</th>\n",
       "      <th>start_date</th>\n",
       "      <th>strt_statn</th>\n",
       "      <th>end_date</th>\n",
       "      <th>end_statn</th>\n",
       "      <th>bike_nr</th>\n",
       "      <th>subsc_type</th>\n",
       "      <th>zip_code</th>\n",
       "      <th>birth_date</th>\n",
       "      <th>gender</th>\n",
       "    </tr>\n",
       "  </thead>\n",
       "  <tbody>\n",
       "    <tr>\n",
       "      <th>0</th>\n",
       "      <td>1</td>\n",
       "      <td>8</td>\n",
       "      <td>Closed</td>\n",
       "      <td>9</td>\n",
       "      <td>7/28/2011 10:12:00</td>\n",
       "      <td>23.0</td>\n",
       "      <td>7/28/2011 10:12:00</td>\n",
       "      <td>23.0</td>\n",
       "      <td>B00468</td>\n",
       "      <td>Registered</td>\n",
       "      <td>'97217</td>\n",
       "      <td>1976.0</td>\n",
       "      <td>Male</td>\n",
       "    </tr>\n",
       "    <tr>\n",
       "      <th>1</th>\n",
       "      <td>2</td>\n",
       "      <td>9</td>\n",
       "      <td>Closed</td>\n",
       "      <td>220</td>\n",
       "      <td>7/28/2011 10:21:00</td>\n",
       "      <td>23.0</td>\n",
       "      <td>7/28/2011 10:25:00</td>\n",
       "      <td>23.0</td>\n",
       "      <td>B00554</td>\n",
       "      <td>Registered</td>\n",
       "      <td>'02215</td>\n",
       "      <td>1966.0</td>\n",
       "      <td>Male</td>\n",
       "    </tr>\n",
       "    <tr>\n",
       "      <th>2</th>\n",
       "      <td>3</td>\n",
       "      <td>10</td>\n",
       "      <td>Closed</td>\n",
       "      <td>56</td>\n",
       "      <td>7/28/2011 10:33:00</td>\n",
       "      <td>23.0</td>\n",
       "      <td>7/28/2011 10:34:00</td>\n",
       "      <td>23.0</td>\n",
       "      <td>B00456</td>\n",
       "      <td>Registered</td>\n",
       "      <td>'02108</td>\n",
       "      <td>1943.0</td>\n",
       "      <td>Male</td>\n",
       "    </tr>\n",
       "    <tr>\n",
       "      <th>3</th>\n",
       "      <td>4</td>\n",
       "      <td>11</td>\n",
       "      <td>Closed</td>\n",
       "      <td>64</td>\n",
       "      <td>7/28/2011 10:35:00</td>\n",
       "      <td>23.0</td>\n",
       "      <td>7/28/2011 10:36:00</td>\n",
       "      <td>23.0</td>\n",
       "      <td>B00554</td>\n",
       "      <td>Registered</td>\n",
       "      <td>'02116</td>\n",
       "      <td>1981.0</td>\n",
       "      <td>Female</td>\n",
       "    </tr>\n",
       "    <tr>\n",
       "      <th>4</th>\n",
       "      <td>5</td>\n",
       "      <td>12</td>\n",
       "      <td>Closed</td>\n",
       "      <td>12</td>\n",
       "      <td>7/28/2011 10:37:00</td>\n",
       "      <td>23.0</td>\n",
       "      <td>7/28/2011 10:37:00</td>\n",
       "      <td>23.0</td>\n",
       "      <td>B00554</td>\n",
       "      <td>Registered</td>\n",
       "      <td>'97214</td>\n",
       "      <td>1983.0</td>\n",
       "      <td>Female</td>\n",
       "    </tr>\n",
       "  </tbody>\n",
       "</table>\n",
       "</div>"
      ],
      "text/plain": [
       "   seq_id  hubway_id  status  duration          start_date  strt_statn  \\\n",
       "0       1          8  Closed         9  7/28/2011 10:12:00        23.0   \n",
       "1       2          9  Closed       220  7/28/2011 10:21:00        23.0   \n",
       "2       3         10  Closed        56  7/28/2011 10:33:00        23.0   \n",
       "3       4         11  Closed        64  7/28/2011 10:35:00        23.0   \n",
       "4       5         12  Closed        12  7/28/2011 10:37:00        23.0   \n",
       "\n",
       "             end_date  end_statn bike_nr  subsc_type zip_code  birth_date  \\\n",
       "0  7/28/2011 10:12:00       23.0  B00468  Registered   '97217      1976.0   \n",
       "1  7/28/2011 10:25:00       23.0  B00554  Registered   '02215      1966.0   \n",
       "2  7/28/2011 10:34:00       23.0  B00456  Registered   '02108      1943.0   \n",
       "3  7/28/2011 10:36:00       23.0  B00554  Registered   '02116      1981.0   \n",
       "4  7/28/2011 10:37:00       23.0  B00554  Registered   '97214      1983.0   \n",
       "\n",
       "   gender  \n",
       "0    Male  \n",
       "1    Male  \n",
       "2    Male  \n",
       "3  Female  \n",
       "4  Female  "
      ]
     },
     "execution_count": 84,
     "metadata": {},
     "output_type": "execute_result"
    }
   ],
   "source": [
    "hubway_trips.head()"
   ]
  },
  {
   "cell_type": "code",
   "execution_count": 85,
   "id": "209ae8db",
   "metadata": {},
   "outputs": [
    {
     "data": {
      "text/html": [
       "<div>\n",
       "<style scoped>\n",
       "    .dataframe tbody tr th:only-of-type {\n",
       "        vertical-align: middle;\n",
       "    }\n",
       "\n",
       "    .dataframe tbody tr th {\n",
       "        vertical-align: top;\n",
       "    }\n",
       "\n",
       "    .dataframe thead th {\n",
       "        text-align: right;\n",
       "    }\n",
       "</style>\n",
       "<table border=\"1\" class=\"dataframe\">\n",
       "  <thead>\n",
       "    <tr style=\"text-align: right;\">\n",
       "      <th></th>\n",
       "      <th>id</th>\n",
       "      <th>terminal</th>\n",
       "      <th>station</th>\n",
       "      <th>municipal</th>\n",
       "      <th>lat</th>\n",
       "      <th>lng</th>\n",
       "      <th>status</th>\n",
       "    </tr>\n",
       "  </thead>\n",
       "  <tbody>\n",
       "    <tr>\n",
       "      <th>0</th>\n",
       "      <td>3</td>\n",
       "      <td>B32006</td>\n",
       "      <td>Colleges of the Fenway</td>\n",
       "      <td>Boston</td>\n",
       "      <td>42.340021</td>\n",
       "      <td>-71.100812</td>\n",
       "      <td>Existing</td>\n",
       "    </tr>\n",
       "    <tr>\n",
       "      <th>1</th>\n",
       "      <td>4</td>\n",
       "      <td>C32000</td>\n",
       "      <td>Tremont St. at Berkeley St.</td>\n",
       "      <td>Boston</td>\n",
       "      <td>42.345392</td>\n",
       "      <td>-71.069616</td>\n",
       "      <td>Existing</td>\n",
       "    </tr>\n",
       "    <tr>\n",
       "      <th>2</th>\n",
       "      <td>5</td>\n",
       "      <td>B32012</td>\n",
       "      <td>Northeastern U / North Parking Lot</td>\n",
       "      <td>Boston</td>\n",
       "      <td>42.341814</td>\n",
       "      <td>-71.090179</td>\n",
       "      <td>Existing</td>\n",
       "    </tr>\n",
       "    <tr>\n",
       "      <th>3</th>\n",
       "      <td>6</td>\n",
       "      <td>D32000</td>\n",
       "      <td>Cambridge St. at Joy St.</td>\n",
       "      <td>Boston</td>\n",
       "      <td>42.361285</td>\n",
       "      <td>-71.065140</td>\n",
       "      <td>Existing</td>\n",
       "    </tr>\n",
       "    <tr>\n",
       "      <th>4</th>\n",
       "      <td>7</td>\n",
       "      <td>A32000</td>\n",
       "      <td>Fan Pier</td>\n",
       "      <td>Boston</td>\n",
       "      <td>42.353412</td>\n",
       "      <td>-71.044624</td>\n",
       "      <td>Existing</td>\n",
       "    </tr>\n",
       "  </tbody>\n",
       "</table>\n",
       "</div>"
      ],
      "text/plain": [
       "   id terminal                             station municipal        lat  \\\n",
       "0   3   B32006              Colleges of the Fenway    Boston  42.340021   \n",
       "1   4   C32000         Tremont St. at Berkeley St.    Boston  42.345392   \n",
       "2   5   B32012  Northeastern U / North Parking Lot    Boston  42.341814   \n",
       "3   6   D32000            Cambridge St. at Joy St.    Boston  42.361285   \n",
       "4   7   A32000                            Fan Pier    Boston  42.353412   \n",
       "\n",
       "         lng    status  \n",
       "0 -71.100812  Existing  \n",
       "1 -71.069616  Existing  \n",
       "2 -71.090179  Existing  \n",
       "3 -71.065140  Existing  \n",
       "4 -71.044624  Existing  "
      ]
     },
     "execution_count": 85,
     "metadata": {},
     "output_type": "execute_result"
    }
   ],
   "source": [
    "hubway_stations.head()"
   ]
  },
  {
   "cell_type": "markdown",
   "id": "0ba4385d",
   "metadata": {},
   "source": [
    "### Data Cleaning"
   ]
  },
  {
   "cell_type": "code",
   "execution_count": 86,
   "id": "f261a38f",
   "metadata": {},
   "outputs": [],
   "source": [
    "# Change the dates column into the datetime type, \n",
    "# this would allow us to merge weather and hubway trips tables based on date columns.\n",
    "\n",
    "hubway_trips['start_date']= pd.to_datetime(hubway_trips['start_date'])\n",
    "hubway_trips['end_date']= pd.to_datetime(hubway_trips['end_date'])\n",
    "weather_data['DATE']= pd.to_datetime(weather_data['DATE'])"
   ]
  },
  {
   "cell_type": "code",
   "execution_count": 87,
   "id": "e7262a51",
   "metadata": {},
   "outputs": [],
   "source": [
    "# Change the dates into the Hours period to allow merging the weather data into. \n",
    "# Additionally we need to subtract one hour from the weather DATE, because based on the documentation \n",
    "# this value at certain hour is accumulation from hour before - for example if we have a measurement \n",
    "# at time 10 pm it means this is the accumulation measure from 9 pm to 10 pm.\n",
    "\n",
    "from datetime import timedelta\n",
    "\n",
    "hubway_trips['DATE']= hubway_trips.start_date.dt.to_period(\"H\")\n",
    "weather_data['DATE']= weather_data.DATE.dt.to_period(\"H\") - timedelta(hours=1)\n",
    "\n",
    "# Merge the hubway trips and weather data together \n",
    "data= hubway_trips.merge(weather_data, how=\"left\", on=\"DATE\")"
   ]
  },
  {
   "cell_type": "code",
   "execution_count": 88,
   "id": "a980b2cb",
   "metadata": {},
   "outputs": [],
   "source": [
    "# Merge data table with hubway stations information, we will do this 2 times, both for\n",
    "# staring station as well as end station\n",
    "\n",
    "data= data.merge(hubway_stations, how=\"left\", left_on=\"strt_statn\", right_on=\"id\")\n",
    "data= data.merge(hubway_stations, how=\"left\", left_on=\"end_statn\", right_on=\"id\")\n",
    "\n",
    "data_copy=data"
   ]
  },
  {
   "cell_type": "code",
   "execution_count": 89,
   "id": "59c8471f",
   "metadata": {},
   "outputs": [
    {
     "name": "stdout",
     "output_type": "stream",
     "text": [
      "seq_id              1579025\n",
      "hubway_id           1579025\n",
      "status_x                  1\n",
      "duration              15635\n",
      "start_date           521432\n",
      "strt_statn              142\n",
      "end_date             515102\n",
      "end_statn               142\n",
      "bike_nr                1163\n",
      "subsc_type                2\n",
      "zip_code                530\n",
      "birth_date               60\n",
      "gender                    2\n",
      "DATE                  14713\n",
      "STATION                   1\n",
      "STATION_NAME              1\n",
      "ELEVATION                 1\n",
      "LATITUDE                  1\n",
      "LONGITUDE                 1\n",
      "HPCP                     50\n",
      "Measurement_Flag          3\n",
      "Quality_Flag              1\n",
      "id_x                    142\n",
      "terminal_x              131\n",
      "station_x               137\n",
      "municipal_x               4\n",
      "lat_x                   142\n",
      "lng_x                   142\n",
      "status_y                  2\n",
      "id_y                    142\n",
      "terminal_y              131\n",
      "station_y               137\n",
      "municipal_y               4\n",
      "lat_y                   142\n",
      "lng_y                   142\n",
      "status                    2\n",
      "dtype: int64\n"
     ]
    }
   ],
   "source": [
    "# We can drop columns with one unique value,\n",
    "# these columns does not contain any information as the variance is 0 so we can drop them\n",
    "# - they have no predictive power.\n",
    "\n",
    "print(data.nunique())\n",
    "\n",
    "#Drop the columns with one unique value\n",
    "\n",
    "one_value_columns= data.columns[data.nunique()==1]\n",
    "data.drop(one_value_columns, axis=1, inplace=True)"
   ]
  },
  {
   "cell_type": "code",
   "execution_count": 90,
   "id": "ff98e3fa",
   "metadata": {},
   "outputs": [
    {
     "data": {
      "text/html": [
       "<div>\n",
       "<style scoped>\n",
       "    .dataframe tbody tr th:only-of-type {\n",
       "        vertical-align: middle;\n",
       "    }\n",
       "\n",
       "    .dataframe tbody tr th {\n",
       "        vertical-align: top;\n",
       "    }\n",
       "\n",
       "    .dataframe thead th {\n",
       "        text-align: right;\n",
       "    }\n",
       "</style>\n",
       "<table border=\"1\" class=\"dataframe\">\n",
       "  <thead>\n",
       "    <tr style=\"text-align: right;\">\n",
       "      <th></th>\n",
       "      <th>seq_id</th>\n",
       "      <th>hubway_id</th>\n",
       "      <th>duration</th>\n",
       "      <th>start_date</th>\n",
       "      <th>strt_statn</th>\n",
       "      <th>end_date</th>\n",
       "      <th>end_statn</th>\n",
       "      <th>bike_nr</th>\n",
       "      <th>subsc_type</th>\n",
       "      <th>zip_code</th>\n",
       "      <th>...</th>\n",
       "      <th>lat_x</th>\n",
       "      <th>lng_x</th>\n",
       "      <th>status_y</th>\n",
       "      <th>id_y</th>\n",
       "      <th>terminal_y</th>\n",
       "      <th>station_y</th>\n",
       "      <th>municipal_y</th>\n",
       "      <th>lat_y</th>\n",
       "      <th>lng_y</th>\n",
       "      <th>status</th>\n",
       "    </tr>\n",
       "  </thead>\n",
       "  <tbody>\n",
       "    <tr>\n",
       "      <th>626027</th>\n",
       "      <td>626028</td>\n",
       "      <td>707489</td>\n",
       "      <td>360</td>\n",
       "      <td>2012-10-31 17:44:00</td>\n",
       "      <td>22.0</td>\n",
       "      <td>2012-10-31 17:50:00</td>\n",
       "      <td>31.0</td>\n",
       "      <td>T01342</td>\n",
       "      <td>Registered</td>\n",
       "      <td>'02210</td>\n",
       "      <td>...</td>\n",
       "      <td>42.352175</td>\n",
       "      <td>-71.055547</td>\n",
       "      <td>Existing</td>\n",
       "      <td>31.0</td>\n",
       "      <td>B32014</td>\n",
       "      <td>Seaport Hotel</td>\n",
       "      <td>Boston</td>\n",
       "      <td>42.348833</td>\n",
       "      <td>-71.041747</td>\n",
       "      <td>Existing</td>\n",
       "    </tr>\n",
       "    <tr>\n",
       "      <th>222273</th>\n",
       "      <td>222274</td>\n",
       "      <td>254593</td>\n",
       "      <td>651</td>\n",
       "      <td>2012-05-17 08:06:00</td>\n",
       "      <td>38.0</td>\n",
       "      <td>2012-05-17 08:17:00</td>\n",
       "      <td>42.0</td>\n",
       "      <td>B00386</td>\n",
       "      <td>Registered</td>\n",
       "      <td>'01867</td>\n",
       "      <td>...</td>\n",
       "      <td>42.366231</td>\n",
       "      <td>-71.060868</td>\n",
       "      <td>Removed</td>\n",
       "      <td>42.0</td>\n",
       "      <td>D32007</td>\n",
       "      <td>Boylston St. at Arlington St.</td>\n",
       "      <td>Boston</td>\n",
       "      <td>42.352096</td>\n",
       "      <td>-71.070378</td>\n",
       "      <td>Existing</td>\n",
       "    </tr>\n",
       "  </tbody>\n",
       "</table>\n",
       "<p>2 rows × 29 columns</p>\n",
       "</div>"
      ],
      "text/plain": [
       "        seq_id  hubway_id  duration          start_date  strt_statn  \\\n",
       "626027  626028     707489       360 2012-10-31 17:44:00        22.0   \n",
       "222273  222274     254593       651 2012-05-17 08:06:00        38.0   \n",
       "\n",
       "                  end_date  end_statn bike_nr  subsc_type zip_code  ...  \\\n",
       "626027 2012-10-31 17:50:00       31.0  T01342  Registered   '02210  ...   \n",
       "222273 2012-05-17 08:17:00       42.0  B00386  Registered   '01867  ...   \n",
       "\n",
       "            lat_x      lng_x  status_y  id_y terminal_y  \\\n",
       "626027  42.352175 -71.055547  Existing  31.0     B32014   \n",
       "222273  42.366231 -71.060868   Removed  42.0     D32007   \n",
       "\n",
       "                            station_y municipal_y      lat_y      lng_y  \\\n",
       "626027                  Seaport Hotel      Boston  42.348833 -71.041747   \n",
       "222273  Boylston St. at Arlington St.      Boston  42.352096 -71.070378   \n",
       "\n",
       "          status  \n",
       "626027  Existing  \n",
       "222273  Existing  \n",
       "\n",
       "[2 rows x 29 columns]"
      ]
     },
     "execution_count": 90,
     "metadata": {},
     "output_type": "execute_result"
    }
   ],
   "source": [
    "data.sample(2)"
   ]
  },
  {
   "cell_type": "code",
   "execution_count": 91,
   "id": "47fb7cb6",
   "metadata": {},
   "outputs": [
    {
     "data": {
      "text/plain": [
       "Index(['seq_id', 'hubway_id', 'duration', 'start_date', 'strt_statn',\n",
       "       'end_date', 'end_statn', 'bike_nr', 'subsc_type', 'zip_code',\n",
       "       'birth_date', 'gender', 'DATE', 'HPCP', 'Measurement_Flag', 'id_x',\n",
       "       'terminal_x', 'station_x', 'municipal_x', 'lat_x', 'lng_x', 'status_y',\n",
       "       'id_y', 'terminal_y', 'station_y', 'municipal_y', 'lat_y', 'lng_y',\n",
       "       'status'],\n",
       "      dtype='object')"
      ]
     },
     "execution_count": 91,
     "metadata": {},
     "output_type": "execute_result"
    }
   ],
   "source": [
    "data.columns"
   ]
  },
  {
   "cell_type": "code",
   "execution_count": 92,
   "id": "db472ec7",
   "metadata": {},
   "outputs": [],
   "source": [
    "# Rename _x and _y columns for _start and _end respectively\n",
    "\n",
    "data.columns = ['seq_id', 'hubway_id', 'duration', 'start_date', 'strt_statn',\n",
    "       'end_date', 'end_statn', 'bike_nr', 'subsc_type', 'zip_code',\n",
    "       'birth_date', 'gender', 'DATE', 'HPCP', 'Measurement_Flag', 'id_start',\n",
    "       'terminal_start', 'station_start', 'municipal_start', 'lat_start', 'lng_start', 'status_start',\n",
    "       'id_end', 'terminal_end', 'station_end', 'municipal_end', 'lat_end', 'lng_end',\n",
    "       'status_end']"
   ]
  },
  {
   "cell_type": "markdown",
   "id": "4de0b947",
   "metadata": {},
   "source": [
    "## Start Date features extract"
   ]
  },
  {
   "cell_type": "code",
   "execution_count": 93,
   "id": "058004a9",
   "metadata": {},
   "outputs": [],
   "source": [
    "# I will extract month, day of week, hour as this time features can have an impact on the duration\n",
    "\n",
    "data['month']= data['start_date'].dt.month\n",
    "data['day_of_week']= data['start_date'].dt.dayofweek\n",
    "data['hour']= data['start_date'].dt.hour\n",
    "data['weekend']= np.nan\n",
    "data.loc[data['day_of_week']<=4,'weekend'] = 0\n",
    "data.loc[data['day_of_week']>4,'weekend'] = 1\n",
    "data['weekend']=data['weekend'].astype(int)"
   ]
  },
  {
   "cell_type": "code",
   "execution_count": 94,
   "id": "aa40fd97",
   "metadata": {},
   "outputs": [],
   "source": [
    "# We will drop rows with stations that were removed \n",
    "# as we can't take them into consideration predicting the duration, as they don't exist\n",
    "\n",
    "data.drop(data[data.status_end==\"Removed\"].index, axis=0, inplace=True)\n",
    "data.drop(data[data.status_start==\"Removed\"].index, axis=0, inplace=True)\n",
    "data.reset_index(drop=True, inplace=True)"
   ]
  },
  {
   "cell_type": "code",
   "execution_count": 95,
   "id": "e102e722",
   "metadata": {},
   "outputs": [],
   "source": [
    "# We will extract first letter from the terminal start-\n",
    "# we will see if it contain some predicting power after\n",
    "\n",
    "data['terminal_letter_start'] = data['terminal_start'].apply(lambda x: str(x)[0])"
   ]
  },
  {
   "cell_type": "code",
   "execution_count": 96,
   "id": "eef4c69d",
   "metadata": {},
   "outputs": [
    {
     "data": {
      "text/plain": [
       "D    428369\n",
       "M    294062\n",
       "B    293281\n",
       "A    184339\n",
       "C    175715\n",
       "S     39581\n",
       "K     19944\n",
       "E      1793\n",
       "n        12\n",
       "Name: terminal_letter_start, dtype: int64"
      ]
     },
     "execution_count": 96,
     "metadata": {},
     "output_type": "execute_result"
    }
   ],
   "source": [
    "data.terminal_letter_start.value_counts()"
   ]
  },
  {
   "cell_type": "code",
   "execution_count": 97,
   "id": "212c1d5c",
   "metadata": {},
   "outputs": [],
   "source": [
    "# Now as we have all the data merged together we can start to clean up the data.\n",
    "# We can get rid of some duplicate columns and unique id columns, these will \n",
    "# be not good predictive features\n",
    "\n",
    "data.drop(['seq_id', 'hubway_id', 'id_start', 'id_end', 'zip_code', 'end_date',\n",
    "           'station_start', 'station_end', 'municipal_end', 'municipal_start', 'status_start',\n",
    "          'status_end'],axis=1, inplace=True)"
   ]
  },
  {
   "cell_type": "code",
   "execution_count": 98,
   "id": "10cf579d",
   "metadata": {},
   "outputs": [
    {
     "data": {
      "text/html": [
       "<div>\n",
       "<style scoped>\n",
       "    .dataframe tbody tr th:only-of-type {\n",
       "        vertical-align: middle;\n",
       "    }\n",
       "\n",
       "    .dataframe tbody tr th {\n",
       "        vertical-align: top;\n",
       "    }\n",
       "\n",
       "    .dataframe thead th {\n",
       "        text-align: right;\n",
       "    }\n",
       "</style>\n",
       "<table border=\"1\" class=\"dataframe\">\n",
       "  <thead>\n",
       "    <tr style=\"text-align: right;\">\n",
       "      <th></th>\n",
       "      <th>duration</th>\n",
       "      <th>start_date</th>\n",
       "      <th>strt_statn</th>\n",
       "      <th>end_statn</th>\n",
       "      <th>bike_nr</th>\n",
       "      <th>subsc_type</th>\n",
       "      <th>birth_date</th>\n",
       "      <th>gender</th>\n",
       "      <th>DATE</th>\n",
       "      <th>HPCP</th>\n",
       "      <th>Measurement_Flag</th>\n",
       "      <th>terminal_start</th>\n",
       "      <th>lat_start</th>\n",
       "      <th>lng_start</th>\n",
       "      <th>terminal_end</th>\n",
       "    </tr>\n",
       "  </thead>\n",
       "  <tbody>\n",
       "    <tr>\n",
       "      <th>0</th>\n",
       "      <td>1108</td>\n",
       "      <td>2011-07-28 11:55:00</td>\n",
       "      <td>47.0</td>\n",
       "      <td>40.0</td>\n",
       "      <td>B00550</td>\n",
       "      <td>Registered</td>\n",
       "      <td>1994.0</td>\n",
       "      <td>Male</td>\n",
       "      <td>2011-07-28 11:00</td>\n",
       "      <td>NaN</td>\n",
       "      <td>NaN</td>\n",
       "      <td>D32010</td>\n",
       "      <td>42.362811</td>\n",
       "      <td>-71.056067</td>\n",
       "      <td>D32006</td>\n",
       "    </tr>\n",
       "    <tr>\n",
       "      <th>1</th>\n",
       "      <td>1055</td>\n",
       "      <td>2011-07-28 11:55:00</td>\n",
       "      <td>47.0</td>\n",
       "      <td>40.0</td>\n",
       "      <td>B00580</td>\n",
       "      <td>Registered</td>\n",
       "      <td>1956.0</td>\n",
       "      <td>Male</td>\n",
       "      <td>2011-07-28 11:00</td>\n",
       "      <td>NaN</td>\n",
       "      <td>NaN</td>\n",
       "      <td>D32010</td>\n",
       "      <td>42.362811</td>\n",
       "      <td>-71.056067</td>\n",
       "      <td>D32006</td>\n",
       "    </tr>\n",
       "    <tr>\n",
       "      <th>2</th>\n",
       "      <td>1042</td>\n",
       "      <td>2011-07-28 11:55:00</td>\n",
       "      <td>47.0</td>\n",
       "      <td>40.0</td>\n",
       "      <td>B00539</td>\n",
       "      <td>Registered</td>\n",
       "      <td>1959.0</td>\n",
       "      <td>Female</td>\n",
       "      <td>2011-07-28 11:00</td>\n",
       "      <td>NaN</td>\n",
       "      <td>NaN</td>\n",
       "      <td>D32010</td>\n",
       "      <td>42.362811</td>\n",
       "      <td>-71.056067</td>\n",
       "      <td>D32006</td>\n",
       "    </tr>\n",
       "    <tr>\n",
       "      <th>3</th>\n",
       "      <td>994</td>\n",
       "      <td>2011-07-28 12:00:00</td>\n",
       "      <td>40.0</td>\n",
       "      <td>47.0</td>\n",
       "      <td>B00368</td>\n",
       "      <td>Casual</td>\n",
       "      <td>NaN</td>\n",
       "      <td>NaN</td>\n",
       "      <td>2011-07-28 12:00</td>\n",
       "      <td>NaN</td>\n",
       "      <td>NaN</td>\n",
       "      <td>D32006</td>\n",
       "      <td>42.363871</td>\n",
       "      <td>-71.050877</td>\n",
       "      <td>D32010</td>\n",
       "    </tr>\n",
       "    <tr>\n",
       "      <th>4</th>\n",
       "      <td>15</td>\n",
       "      <td>2011-07-28 12:00:00</td>\n",
       "      <td>22.0</td>\n",
       "      <td>22.0</td>\n",
       "      <td>B00442</td>\n",
       "      <td>Registered</td>\n",
       "      <td>1982.0</td>\n",
       "      <td>Male</td>\n",
       "      <td>2011-07-28 12:00</td>\n",
       "      <td>NaN</td>\n",
       "      <td>NaN</td>\n",
       "      <td>A32010</td>\n",
       "      <td>42.352175</td>\n",
       "      <td>-71.055547</td>\n",
       "      <td>A32010</td>\n",
       "    </tr>\n",
       "  </tbody>\n",
       "</table>\n",
       "</div>"
      ],
      "text/plain": [
       "   duration          start_date  strt_statn  end_statn bike_nr  subsc_type  \\\n",
       "0      1108 2011-07-28 11:55:00        47.0       40.0  B00550  Registered   \n",
       "1      1055 2011-07-28 11:55:00        47.0       40.0  B00580  Registered   \n",
       "2      1042 2011-07-28 11:55:00        47.0       40.0  B00539  Registered   \n",
       "3       994 2011-07-28 12:00:00        40.0       47.0  B00368      Casual   \n",
       "4        15 2011-07-28 12:00:00        22.0       22.0  B00442  Registered   \n",
       "\n",
       "   birth_date  gender              DATE  HPCP Measurement_Flag terminal_start  \\\n",
       "0      1994.0    Male  2011-07-28 11:00   NaN              NaN         D32010   \n",
       "1      1956.0    Male  2011-07-28 11:00   NaN              NaN         D32010   \n",
       "2      1959.0  Female  2011-07-28 11:00   NaN              NaN         D32010   \n",
       "3         NaN     NaN  2011-07-28 12:00   NaN              NaN         D32006   \n",
       "4      1982.0    Male  2011-07-28 12:00   NaN              NaN         A32010   \n",
       "\n",
       "   lat_start  lng_start terminal_end  \n",
       "0  42.362811 -71.056067       D32006  \n",
       "1  42.362811 -71.056067       D32006  \n",
       "2  42.362811 -71.056067       D32006  \n",
       "3  42.363871 -71.050877       D32010  \n",
       "4  42.352175 -71.055547       A32010  "
      ]
     },
     "execution_count": 98,
     "metadata": {},
     "output_type": "execute_result"
    }
   ],
   "source": [
    "data.iloc[:5,:15]"
   ]
  },
  {
   "cell_type": "code",
   "execution_count": 99,
   "id": "4bce44c4",
   "metadata": {},
   "outputs": [
    {
     "data": {
      "text/html": [
       "<div>\n",
       "<style scoped>\n",
       "    .dataframe tbody tr th:only-of-type {\n",
       "        vertical-align: middle;\n",
       "    }\n",
       "\n",
       "    .dataframe tbody tr th {\n",
       "        vertical-align: top;\n",
       "    }\n",
       "\n",
       "    .dataframe thead th {\n",
       "        text-align: right;\n",
       "    }\n",
       "</style>\n",
       "<table border=\"1\" class=\"dataframe\">\n",
       "  <thead>\n",
       "    <tr style=\"text-align: right;\">\n",
       "      <th></th>\n",
       "      <th>lat_end</th>\n",
       "      <th>lng_end</th>\n",
       "      <th>month</th>\n",
       "      <th>day_of_week</th>\n",
       "      <th>hour</th>\n",
       "      <th>weekend</th>\n",
       "      <th>terminal_letter_start</th>\n",
       "    </tr>\n",
       "  </thead>\n",
       "  <tbody>\n",
       "    <tr>\n",
       "      <th>0</th>\n",
       "      <td>42.363871</td>\n",
       "      <td>-71.050877</td>\n",
       "      <td>7</td>\n",
       "      <td>3</td>\n",
       "      <td>11</td>\n",
       "      <td>0</td>\n",
       "      <td>D</td>\n",
       "    </tr>\n",
       "    <tr>\n",
       "      <th>1</th>\n",
       "      <td>42.363871</td>\n",
       "      <td>-71.050877</td>\n",
       "      <td>7</td>\n",
       "      <td>3</td>\n",
       "      <td>11</td>\n",
       "      <td>0</td>\n",
       "      <td>D</td>\n",
       "    </tr>\n",
       "    <tr>\n",
       "      <th>2</th>\n",
       "      <td>42.363871</td>\n",
       "      <td>-71.050877</td>\n",
       "      <td>7</td>\n",
       "      <td>3</td>\n",
       "      <td>11</td>\n",
       "      <td>0</td>\n",
       "      <td>D</td>\n",
       "    </tr>\n",
       "    <tr>\n",
       "      <th>3</th>\n",
       "      <td>42.362811</td>\n",
       "      <td>-71.056067</td>\n",
       "      <td>7</td>\n",
       "      <td>3</td>\n",
       "      <td>12</td>\n",
       "      <td>0</td>\n",
       "      <td>D</td>\n",
       "    </tr>\n",
       "    <tr>\n",
       "      <th>4</th>\n",
       "      <td>42.352175</td>\n",
       "      <td>-71.055547</td>\n",
       "      <td>7</td>\n",
       "      <td>3</td>\n",
       "      <td>12</td>\n",
       "      <td>0</td>\n",
       "      <td>A</td>\n",
       "    </tr>\n",
       "  </tbody>\n",
       "</table>\n",
       "</div>"
      ],
      "text/plain": [
       "     lat_end    lng_end  month  day_of_week  hour  weekend  \\\n",
       "0  42.363871 -71.050877      7            3    11        0   \n",
       "1  42.363871 -71.050877      7            3    11        0   \n",
       "2  42.363871 -71.050877      7            3    11        0   \n",
       "3  42.362811 -71.056067      7            3    12        0   \n",
       "4  42.352175 -71.055547      7            3    12        0   \n",
       "\n",
       "  terminal_letter_start  \n",
       "0                     D  \n",
       "1                     D  \n",
       "2                     D  \n",
       "3                     D  \n",
       "4                     A  "
      ]
     },
     "execution_count": 99,
     "metadata": {},
     "output_type": "execute_result"
    }
   ],
   "source": [
    "data.iloc[:5,15:]"
   ]
  },
  {
   "cell_type": "markdown",
   "id": "7c311d17",
   "metadata": {},
   "source": [
    "#### Checking missing values"
   ]
  },
  {
   "cell_type": "code",
   "execution_count": 100,
   "id": "cdebdb75",
   "metadata": {},
   "outputs": [
    {
     "data": {
      "text/plain": [
       "duration                       0\n",
       "start_date                     0\n",
       "strt_statn                    12\n",
       "end_statn                     42\n",
       "bike_nr                      358\n",
       "subsc_type                     0\n",
       "birth_date               1181038\n",
       "gender                    427609\n",
       "DATE                           0\n",
       "HPCP                     1354550\n",
       "Measurement_Flag         1354550\n",
       "terminal_start                12\n",
       "lat_start                     12\n",
       "lng_start                     12\n",
       "terminal_end                  42\n",
       "lat_end                       42\n",
       "lng_end                       42\n",
       "month                          0\n",
       "day_of_week                    0\n",
       "hour                           0\n",
       "weekend                        0\n",
       "terminal_letter_start          0\n",
       "dtype: int64"
      ]
     },
     "execution_count": 100,
     "metadata": {},
     "output_type": "execute_result"
    }
   ],
   "source": [
    "data.isna().sum()"
   ]
  },
  {
   "cell_type": "markdown",
   "id": "2f481011",
   "metadata": {},
   "source": [
    "#### We see in the above that there are couple missing values in some columns, we can drop the rows where they are missing, it will not impact the model performance as these rows are very small subset of our data, we will drop the rows where status_end, status_start or bike_nr is NA value."
   ]
  },
  {
   "cell_type": "code",
   "execution_count": 101,
   "id": "167d8c32",
   "metadata": {},
   "outputs": [],
   "source": [
    "data.dropna(axis=0, subset=['strt_statn', 'end_statn', 'bike_nr'], inplace=True)"
   ]
  },
  {
   "cell_type": "code",
   "execution_count": 102,
   "id": "8c8feb26",
   "metadata": {
    "scrolled": true
   },
   "outputs": [
    {
     "data": {
      "text/plain": [
       "duration                       0\n",
       "start_date                     0\n",
       "strt_statn                     0\n",
       "end_statn                      0\n",
       "bike_nr                        0\n",
       "subsc_type                     0\n",
       "birth_date               1180815\n",
       "gender                    427390\n",
       "DATE                           0\n",
       "HPCP                     1354175\n",
       "Measurement_Flag         1354175\n",
       "terminal_start                 0\n",
       "lat_start                      0\n",
       "lng_start                      0\n",
       "terminal_end                   0\n",
       "lat_end                        0\n",
       "lng_end                        0\n",
       "month                          0\n",
       "day_of_week                    0\n",
       "hour                           0\n",
       "weekend                        0\n",
       "terminal_letter_start          0\n",
       "dtype: int64"
      ]
     },
     "execution_count": 102,
     "metadata": {},
     "output_type": "execute_result"
    }
   ],
   "source": [
    "# We are left with four columns to clean up \n",
    "\n",
    "data.isna().sum()"
   ]
  },
  {
   "cell_type": "code",
   "execution_count": 103,
   "id": "ea2d60fc",
   "metadata": {},
   "outputs": [],
   "source": [
    "# For the HPCP  we will fill 0 in the precipitation measure as based on documentation \n",
    "# hours with no precipitation are not shown.\n",
    "\n",
    "data['HPCP']= data['HPCP'].fillna(0)"
   ]
  },
  {
   "cell_type": "code",
   "execution_count": 104,
   "id": "b6d002b8",
   "metadata": {},
   "outputs": [
    {
     "data": {
      "text/plain": [
       "T    49958\n",
       "     32313\n",
       "g      246\n",
       "Name: Measurement_Flag, dtype: int64"
      ]
     },
     "execution_count": 104,
     "metadata": {},
     "output_type": "execute_result"
    }
   ],
   "source": [
    "# Let's check how many unique values we have in the measurement flag column\n",
    "\n",
    "data.Measurement_Flag.value_counts()"
   ]
  },
  {
   "cell_type": "code",
   "execution_count": 105,
   "id": "380a7886",
   "metadata": {},
   "outputs": [],
   "source": [
    "# We will create another column 'Rain' \n",
    "# from the HPCP column to indcate whether it was raining or not during the bike trip\n",
    "\n",
    "data['Rain'] = data['HPCP'].apply(lambda x: x>0).astype(int)\n",
    "\n",
    "# T value is indicating trace precipitation less than 0.01. We will feed Rain column with that info\n",
    "# assigning value 1 wherever there is a T flag in a row.\n",
    "\n",
    "data.loc[data.Measurement_Flag=='T', 'Rain'] = 1"
   ]
  },
  {
   "cell_type": "code",
   "execution_count": 106,
   "id": "02ad6a4a",
   "metadata": {},
   "outputs": [],
   "source": [
    "# Now we can drop the column Measurement flag as info about that is in the HPCP column.\n",
    "\n",
    "data.drop(['Measurement_Flag'], axis=1, inplace=True)"
   ]
  },
  {
   "cell_type": "code",
   "execution_count": 107,
   "id": "c452d150",
   "metadata": {},
   "outputs": [],
   "source": [
    "#For gender column we will fill NA values by \"Unknown\" string, I don't want to drop this column as \n",
    "# it can be a good predictor\n",
    "\n",
    "data['gender']= data['gender'].fillna(\"Unknown\")"
   ]
  },
  {
   "cell_type": "code",
   "execution_count": 108,
   "id": "52f54bde",
   "metadata": {},
   "outputs": [
    {
     "data": {
      "text/plain": [
       "duration                       0\n",
       "start_date                     0\n",
       "strt_statn                     0\n",
       "end_statn                      0\n",
       "bike_nr                        0\n",
       "subsc_type                     0\n",
       "birth_date               1180815\n",
       "gender                         0\n",
       "DATE                           0\n",
       "HPCP                           0\n",
       "terminal_start                 0\n",
       "lat_start                      0\n",
       "lng_start                      0\n",
       "terminal_end                   0\n",
       "lat_end                        0\n",
       "lng_end                        0\n",
       "month                          0\n",
       "day_of_week                    0\n",
       "hour                           0\n",
       "weekend                        0\n",
       "terminal_letter_start          0\n",
       "Rain                           0\n",
       "dtype: int64"
      ]
     },
     "execution_count": 108,
     "metadata": {},
     "output_type": "execute_result"
    }
   ],
   "source": [
    "data.isna().sum()"
   ]
  },
  {
   "cell_type": "code",
   "execution_count": 109,
   "id": "098b7899",
   "metadata": {},
   "outputs": [
    {
     "data": {
      "text/html": [
       "<div>\n",
       "<style scoped>\n",
       "    .dataframe tbody tr th:only-of-type {\n",
       "        vertical-align: middle;\n",
       "    }\n",
       "\n",
       "    .dataframe tbody tr th {\n",
       "        vertical-align: top;\n",
       "    }\n",
       "\n",
       "    .dataframe thead th {\n",
       "        text-align: right;\n",
       "    }\n",
       "</style>\n",
       "<table border=\"1\" class=\"dataframe\">\n",
       "  <thead>\n",
       "    <tr style=\"text-align: right;\">\n",
       "      <th></th>\n",
       "      <th>year</th>\n",
       "      <th>birth_date</th>\n",
       "      <th>age</th>\n",
       "    </tr>\n",
       "  </thead>\n",
       "  <tbody>\n",
       "    <tr>\n",
       "      <th>0</th>\n",
       "      <td>2011</td>\n",
       "      <td>1994.0</td>\n",
       "      <td>17.0</td>\n",
       "    </tr>\n",
       "    <tr>\n",
       "      <th>1</th>\n",
       "      <td>2011</td>\n",
       "      <td>1956.0</td>\n",
       "      <td>55.0</td>\n",
       "    </tr>\n",
       "    <tr>\n",
       "      <th>2</th>\n",
       "      <td>2011</td>\n",
       "      <td>1959.0</td>\n",
       "      <td>52.0</td>\n",
       "    </tr>\n",
       "    <tr>\n",
       "      <th>3</th>\n",
       "      <td>2011</td>\n",
       "      <td>NaN</td>\n",
       "      <td>NaN</td>\n",
       "    </tr>\n",
       "    <tr>\n",
       "      <th>4</th>\n",
       "      <td>2011</td>\n",
       "      <td>1982.0</td>\n",
       "      <td>29.0</td>\n",
       "    </tr>\n",
       "    <tr>\n",
       "      <th>...</th>\n",
       "      <td>...</td>\n",
       "      <td>...</td>\n",
       "      <td>...</td>\n",
       "    </tr>\n",
       "    <tr>\n",
       "      <th>1437091</th>\n",
       "      <td>2013</td>\n",
       "      <td>NaN</td>\n",
       "      <td>NaN</td>\n",
       "    </tr>\n",
       "    <tr>\n",
       "      <th>1437092</th>\n",
       "      <td>2013</td>\n",
       "      <td>NaN</td>\n",
       "      <td>NaN</td>\n",
       "    </tr>\n",
       "    <tr>\n",
       "      <th>1437093</th>\n",
       "      <td>2013</td>\n",
       "      <td>NaN</td>\n",
       "      <td>NaN</td>\n",
       "    </tr>\n",
       "    <tr>\n",
       "      <th>1437094</th>\n",
       "      <td>2013</td>\n",
       "      <td>NaN</td>\n",
       "      <td>NaN</td>\n",
       "    </tr>\n",
       "    <tr>\n",
       "      <th>1437095</th>\n",
       "      <td>2013</td>\n",
       "      <td>NaN</td>\n",
       "      <td>NaN</td>\n",
       "    </tr>\n",
       "  </tbody>\n",
       "</table>\n",
       "<p>1436692 rows × 3 columns</p>\n",
       "</div>"
      ],
      "text/plain": [
       "         year  birth_date   age\n",
       "0        2011      1994.0  17.0\n",
       "1        2011      1956.0  55.0\n",
       "2        2011      1959.0  52.0\n",
       "3        2011         NaN   NaN\n",
       "4        2011      1982.0  29.0\n",
       "...       ...         ...   ...\n",
       "1437091  2013         NaN   NaN\n",
       "1437092  2013         NaN   NaN\n",
       "1437093  2013         NaN   NaN\n",
       "1437094  2013         NaN   NaN\n",
       "1437095  2013         NaN   NaN\n",
       "\n",
       "[1436692 rows x 3 columns]"
      ]
     },
     "execution_count": 109,
     "metadata": {},
     "output_type": "execute_result"
    }
   ],
   "source": [
    "# We will create age feature from birth_date\n",
    "\n",
    "data['year']= data['start_date'].dt.year.astype(int)\n",
    "data['age']= data['year'] - data['birth_date']\n",
    "data[['year', 'birth_date', 'age']]"
   ]
  },
  {
   "cell_type": "code",
   "execution_count": 110,
   "id": "6008167c",
   "metadata": {},
   "outputs": [
    {
     "data": {
      "text/plain": [
       "<Axes: xlabel='age', ylabel='duration'>"
      ]
     },
     "execution_count": 110,
     "metadata": {},
     "output_type": "execute_result"
    },
    {
     "data": {
      "image/png": "[encoded data removed]",
      "text/plain": [
       "<Figure size 640x480 with 1 Axes>"
      ]
     },
     "metadata": {},
     "output_type": "display_data"
    }
   ],
   "source": [
    "sns.lineplot(data=data[data.duration<2500], x='age', y='duration')"
   ]
  },
  {
   "cell_type": "code",
   "execution_count": 111,
   "id": "0552b652",
   "metadata": {},
   "outputs": [],
   "source": [
    "# We will create age category feature \n",
    "data['age_cat']= pd.cut(data.age, 6)\n"
   ]
  },
  {
   "cell_type": "code",
   "execution_count": 112,
   "id": "690576e0",
   "metadata": {},
   "outputs": [
    {
     "name": "stderr",
     "output_type": "stream",
     "text": [
      "C:\\Users\\krasi\\AppData\\Local\\Temp\\ipykernel_2672\\3465042091.py:3: FutureWarning: The `inplace` parameter in pandas.Categorical.add_categories is deprecated and will be removed in a future version. Removing unused categories will always return a new Categorical object.\n",
      "  data['age_cat'].cat.add_categories(['Unknown'], inplace=True)\n"
     ]
    }
   ],
   "source": [
    "# Replacing NAN values in age_cat feature by new category 'Unknown'\n",
    "\n",
    "data['age_cat'].cat.add_categories(['Unknown'], inplace=True)\n",
    "data.loc[data.age_cat.isna() ,'age_cat']= 'Unknown'"
   ]
  },
  {
   "cell_type": "code",
   "execution_count": 113,
   "id": "e7cee402",
   "metadata": {
    "scrolled": true
   },
   "outputs": [
    {
     "data": {
      "text/plain": [
       "Unknown             1180815\n",
       "(27.333, 37.667]      95183\n",
       "(16.938, 27.333]      76406\n",
       "(37.667, 48.0]        48705\n",
       "(48.0, 58.333]        27399\n",
       "(58.333, 68.667]       7794\n",
       "(68.667, 79.0]          390\n",
       "Name: age_cat, dtype: int64"
      ]
     },
     "execution_count": 113,
     "metadata": {},
     "output_type": "execute_result"
    }
   ],
   "source": [
    "data.age_cat.value_counts()"
   ]
  },
  {
   "cell_type": "code",
   "execution_count": 114,
   "id": "e2a177b6",
   "metadata": {},
   "outputs": [],
   "source": [
    "# We create a feature that will derive the first letter from the Bike number, \n",
    "# we will then see what predictive power it will have\n",
    "\n",
    "data['bike_id']= data.bike_nr.apply(lambda x: str(x)[0])"
   ]
  },
  {
   "cell_type": "code",
   "execution_count": 115,
   "id": "07709780",
   "metadata": {},
   "outputs": [],
   "source": [
    "# We will create another column to check if person is subscribed or not\n",
    "\n",
    "def registered(x):\n",
    "    if x=='Registered':\n",
    "        return 1\n",
    "    else:\n",
    "        return 0\n",
    "\n",
    "data['subscription'] = data['subsc_type'].apply(registered)"
   ]
  },
  {
   "cell_type": "code",
   "execution_count": 143,
   "id": "7f1eb501",
   "metadata": {},
   "outputs": [
    {
     "ename": "KeyError",
     "evalue": "'day_of_week'",
     "output_type": "error",
     "traceback": [
      "\u001b[1;31m---------------------------------------------------------------------------\u001b[0m",
      "\u001b[1;31mKeyError\u001b[0m                                  Traceback (most recent call last)",
      "File \u001b[1;32m~\\anaconda3\\lib\\site-packages\\pandas\\core\\indexes\\base.py:3629\u001b[0m, in \u001b[0;36mIndex.get_loc\u001b[1;34m(self, key, method, tolerance)\u001b[0m\n\u001b[0;32m   3628\u001b[0m \u001b[38;5;28;01mtry\u001b[39;00m:\n\u001b[1;32m-> 3629\u001b[0m     \u001b[38;5;28;01mreturn\u001b[39;00m \u001b[38;5;28;43mself\u001b[39;49m\u001b[38;5;241;43m.\u001b[39;49m\u001b[43m_engine\u001b[49m\u001b[38;5;241;43m.\u001b[39;49m\u001b[43mget_loc\u001b[49m\u001b[43m(\u001b[49m\u001b[43mcasted_key\u001b[49m\u001b[43m)\u001b[49m\n\u001b[0;32m   3630\u001b[0m \u001b[38;5;28;01mexcept\u001b[39;00m \u001b[38;5;167;01mKeyError\u001b[39;00m \u001b[38;5;28;01mas\u001b[39;00m err:\n",
      "File \u001b[1;32m~\\anaconda3\\lib\\site-packages\\pandas\\_libs\\index.pyx:136\u001b[0m, in \u001b[0;36mpandas._libs.index.IndexEngine.get_loc\u001b[1;34m()\u001b[0m\n",
      "File \u001b[1;32m~\\anaconda3\\lib\\site-packages\\pandas\\_libs\\index.pyx:163\u001b[0m, in \u001b[0;36mpandas._libs.index.IndexEngine.get_loc\u001b[1;34m()\u001b[0m\n",
      "File \u001b[1;32mpandas\\_libs\\hashtable_class_helper.pxi:5198\u001b[0m, in \u001b[0;36mpandas._libs.hashtable.PyObjectHashTable.get_item\u001b[1;34m()\u001b[0m\n",
      "File \u001b[1;32mpandas\\_libs\\hashtable_class_helper.pxi:5206\u001b[0m, in \u001b[0;36mpandas._libs.hashtable.PyObjectHashTable.get_item\u001b[1;34m()\u001b[0m\n",
      "\u001b[1;31mKeyError\u001b[0m: 'day_of_week'",
      "\nThe above exception was the direct cause of the following exception:\n",
      "\u001b[1;31mKeyError\u001b[0m                                  Traceback (most recent call last)",
      "Cell \u001b[1;32mIn[143], line 5\u001b[0m\n\u001b[0;32m      2\u001b[0m cat_cols\u001b[38;5;241m=\u001b[39m[\u001b[38;5;124m'\u001b[39m\u001b[38;5;124mstrt_statn\u001b[39m\u001b[38;5;124m'\u001b[39m,\u001b[38;5;124m'\u001b[39m\u001b[38;5;124mterminal_letter_start\u001b[39m\u001b[38;5;124m'\u001b[39m,\u001b[38;5;124m'\u001b[39m\u001b[38;5;124mmonth\u001b[39m\u001b[38;5;124m'\u001b[39m, \u001b[38;5;124m'\u001b[39m\u001b[38;5;124mhour\u001b[39m\u001b[38;5;124m'\u001b[39m, \u001b[38;5;124m'\u001b[39m\u001b[38;5;124mday_of_week\u001b[39m\u001b[38;5;124m'\u001b[39m]\n\u001b[0;32m      4\u001b[0m \u001b[38;5;28;01mfor\u001b[39;00m col \u001b[38;5;129;01min\u001b[39;00m cat_cols:\n\u001b[1;32m----> 5\u001b[0m     pd\u001b[38;5;241m.\u001b[39mCategorical(\u001b[43mdata\u001b[49m\u001b[43m[\u001b[49m\u001b[43mcol\u001b[49m\u001b[43m]\u001b[49m)\n",
      "File \u001b[1;32m~\\anaconda3\\lib\\site-packages\\pandas\\core\\frame.py:3505\u001b[0m, in \u001b[0;36mDataFrame.__getitem__\u001b[1;34m(self, key)\u001b[0m\n\u001b[0;32m   3503\u001b[0m \u001b[38;5;28;01mif\u001b[39;00m \u001b[38;5;28mself\u001b[39m\u001b[38;5;241m.\u001b[39mcolumns\u001b[38;5;241m.\u001b[39mnlevels \u001b[38;5;241m>\u001b[39m \u001b[38;5;241m1\u001b[39m:\n\u001b[0;32m   3504\u001b[0m     \u001b[38;5;28;01mreturn\u001b[39;00m \u001b[38;5;28mself\u001b[39m\u001b[38;5;241m.\u001b[39m_getitem_multilevel(key)\n\u001b[1;32m-> 3505\u001b[0m indexer \u001b[38;5;241m=\u001b[39m \u001b[38;5;28;43mself\u001b[39;49m\u001b[38;5;241;43m.\u001b[39;49m\u001b[43mcolumns\u001b[49m\u001b[38;5;241;43m.\u001b[39;49m\u001b[43mget_loc\u001b[49m\u001b[43m(\u001b[49m\u001b[43mkey\u001b[49m\u001b[43m)\u001b[49m\n\u001b[0;32m   3506\u001b[0m \u001b[38;5;28;01mif\u001b[39;00m is_integer(indexer):\n\u001b[0;32m   3507\u001b[0m     indexer \u001b[38;5;241m=\u001b[39m [indexer]\n",
      "File \u001b[1;32m~\\anaconda3\\lib\\site-packages\\pandas\\core\\indexes\\base.py:3631\u001b[0m, in \u001b[0;36mIndex.get_loc\u001b[1;34m(self, key, method, tolerance)\u001b[0m\n\u001b[0;32m   3629\u001b[0m     \u001b[38;5;28;01mreturn\u001b[39;00m \u001b[38;5;28mself\u001b[39m\u001b[38;5;241m.\u001b[39m_engine\u001b[38;5;241m.\u001b[39mget_loc(casted_key)\n\u001b[0;32m   3630\u001b[0m \u001b[38;5;28;01mexcept\u001b[39;00m \u001b[38;5;167;01mKeyError\u001b[39;00m \u001b[38;5;28;01mas\u001b[39;00m err:\n\u001b[1;32m-> 3631\u001b[0m     \u001b[38;5;28;01mraise\u001b[39;00m \u001b[38;5;167;01mKeyError\u001b[39;00m(key) \u001b[38;5;28;01mfrom\u001b[39;00m \u001b[38;5;21;01merr\u001b[39;00m\n\u001b[0;32m   3632\u001b[0m \u001b[38;5;28;01mexcept\u001b[39;00m \u001b[38;5;167;01mTypeError\u001b[39;00m:\n\u001b[0;32m   3633\u001b[0m     \u001b[38;5;66;03m# If we have a listlike key, _check_indexing_error will raise\u001b[39;00m\n\u001b[0;32m   3634\u001b[0m     \u001b[38;5;66;03m#  InvalidIndexError. Otherwise we fall through and re-raise\u001b[39;00m\n\u001b[0;32m   3635\u001b[0m     \u001b[38;5;66;03m#  the TypeError.\u001b[39;00m\n\u001b[0;32m   3636\u001b[0m     \u001b[38;5;28mself\u001b[39m\u001b[38;5;241m.\u001b[39m_check_indexing_error(key)\n",
      "\u001b[1;31mKeyError\u001b[0m: 'day_of_week'"
     ]
    }
   ],
   "source": [
    "# Change below two columns into categorical type\n",
    "cat_cols=['strt_statn','terminal_letter_start','month', 'hour', 'day_of_week']\n",
    "\n",
    "for col in cat_cols:\n",
    "    pd.Categorical(data[col])"
   ]
  },
  {
   "cell_type": "code",
   "execution_count": 150,
   "id": "905dac4d",
   "metadata": {},
   "outputs": [],
   "source": [
    "data['terminal_letter_start']= data['terminal_letter_start'].astype('category')"
   ]
  },
  {
   "cell_type": "code",
   "execution_count": 117,
   "id": "d1b2daf2",
   "metadata": {},
   "outputs": [],
   "source": [
    "# We can drop columns that we don't need anymore\n",
    "\n",
    "data.drop(['bike_nr', 'subsc_type', 'lat_start',\n",
    "           'lng_start', 'lat_end', 'lng_end', 'terminal_end', 'end_statn',\n",
    "           'terminal_start', 'HPCP', 'year', 'age', 'birth_date', 'start_date', 'DATE'], axis=1, inplace=True)"
   ]
  },
  {
   "cell_type": "code",
   "execution_count": 118,
   "id": "35279d4e",
   "metadata": {},
   "outputs": [
    {
     "data": {
      "text/html": [
       "<div>\n",
       "<style scoped>\n",
       "    .dataframe tbody tr th:only-of-type {\n",
       "        vertical-align: middle;\n",
       "    }\n",
       "\n",
       "    .dataframe tbody tr th {\n",
       "        vertical-align: top;\n",
       "    }\n",
       "\n",
       "    .dataframe thead th {\n",
       "        text-align: right;\n",
       "    }\n",
       "</style>\n",
       "<table border=\"1\" class=\"dataframe\">\n",
       "  <thead>\n",
       "    <tr style=\"text-align: right;\">\n",
       "      <th></th>\n",
       "      <th>duration</th>\n",
       "      <th>strt_statn</th>\n",
       "      <th>gender</th>\n",
       "      <th>month</th>\n",
       "      <th>day_of_week</th>\n",
       "      <th>hour</th>\n",
       "      <th>weekend</th>\n",
       "      <th>terminal_letter_start</th>\n",
       "      <th>Rain</th>\n",
       "      <th>age_cat</th>\n",
       "      <th>bike_id</th>\n",
       "      <th>subscription</th>\n",
       "    </tr>\n",
       "  </thead>\n",
       "  <tbody>\n",
       "    <tr>\n",
       "      <th>795910</th>\n",
       "      <td>720</td>\n",
       "      <td>89.0</td>\n",
       "      <td>Male</td>\n",
       "      <td>6</td>\n",
       "      <td>4</td>\n",
       "      <td>20</td>\n",
       "      <td>0</td>\n",
       "      <td>M</td>\n",
       "      <td>0</td>\n",
       "      <td>Unknown</td>\n",
       "      <td>B</td>\n",
       "      <td>1</td>\n",
       "    </tr>\n",
       "    <tr>\n",
       "      <th>434381</th>\n",
       "      <td>480</td>\n",
       "      <td>9.0</td>\n",
       "      <td>Female</td>\n",
       "      <td>10</td>\n",
       "      <td>2</td>\n",
       "      <td>17</td>\n",
       "      <td>0</td>\n",
       "      <td>A</td>\n",
       "      <td>1</td>\n",
       "      <td>Unknown</td>\n",
       "      <td>B</td>\n",
       "      <td>1</td>\n",
       "    </tr>\n",
       "    <tr>\n",
       "      <th>1402047</th>\n",
       "      <td>120</td>\n",
       "      <td>21.0</td>\n",
       "      <td>Male</td>\n",
       "      <td>11</td>\n",
       "      <td>1</td>\n",
       "      <td>16</td>\n",
       "      <td>0</td>\n",
       "      <td>C</td>\n",
       "      <td>0</td>\n",
       "      <td>Unknown</td>\n",
       "      <td>B</td>\n",
       "      <td>1</td>\n",
       "    </tr>\n",
       "    <tr>\n",
       "      <th>1003422</th>\n",
       "      <td>480</td>\n",
       "      <td>63.0</td>\n",
       "      <td>Male</td>\n",
       "      <td>8</td>\n",
       "      <td>3</td>\n",
       "      <td>8</td>\n",
       "      <td>0</td>\n",
       "      <td>C</td>\n",
       "      <td>0</td>\n",
       "      <td>Unknown</td>\n",
       "      <td>T</td>\n",
       "      <td>1</td>\n",
       "    </tr>\n",
       "    <tr>\n",
       "      <th>387740</th>\n",
       "      <td>413</td>\n",
       "      <td>27.0</td>\n",
       "      <td>Female</td>\n",
       "      <td>9</td>\n",
       "      <td>3</td>\n",
       "      <td>8</td>\n",
       "      <td>0</td>\n",
       "      <td>C</td>\n",
       "      <td>0</td>\n",
       "      <td>(27.333, 37.667]</td>\n",
       "      <td>T</td>\n",
       "      <td>1</td>\n",
       "    </tr>\n",
       "  </tbody>\n",
       "</table>\n",
       "</div>"
      ],
      "text/plain": [
       "         duration  strt_statn  gender  month  day_of_week  hour  weekend  \\\n",
       "795910        720        89.0    Male      6            4    20        0   \n",
       "434381        480         9.0  Female     10            2    17        0   \n",
       "1402047       120        21.0    Male     11            1    16        0   \n",
       "1003422       480        63.0    Male      8            3     8        0   \n",
       "387740        413        27.0  Female      9            3     8        0   \n",
       "\n",
       "        terminal_letter_start  Rain           age_cat bike_id  subscription  \n",
       "795910                      M     0           Unknown       B             1  \n",
       "434381                      A     1           Unknown       B             1  \n",
       "1402047                     C     0           Unknown       B             1  \n",
       "1003422                     C     0           Unknown       T             1  \n",
       "387740                      C     0  (27.333, 37.667]       T             1  "
      ]
     },
     "execution_count": 118,
     "metadata": {},
     "output_type": "execute_result"
    }
   ],
   "source": [
    "data.sample(5)"
   ]
  },
  {
   "cell_type": "code",
   "execution_count": 173,
   "id": "7a4b249e",
   "metadata": {},
   "outputs": [],
   "source": [
    "from sklearn.preprocessing import LabelEncoder\n",
    "le = LabelEncoder()\n",
    "data['age_cat'] = le.fit_transform(data['age_cat'])\n",
    "data['terminal_letter_start'] = le.fit_transform(data['terminal_letter_start'])"
   ]
  },
  {
   "cell_type": "code",
   "execution_count": null,
   "id": "32eb70aa",
   "metadata": {},
   "outputs": [],
   "source": []
  },
  {
   "cell_type": "code",
   "execution_count": null,
   "id": "dfc6dc30",
   "metadata": {},
   "outputs": [],
   "source": []
  },
  {
   "cell_type": "code",
   "execution_count": null,
   "id": "ff6900bb",
   "metadata": {},
   "outputs": [],
   "source": []
  },
  {
   "cell_type": "markdown",
   "id": "f610fe0a",
   "metadata": {},
   "source": [
    "## Exploratory Data Analysis"
   ]
  },
  {
   "cell_type": "code",
   "execution_count": 119,
   "id": "b758d0bf",
   "metadata": {},
   "outputs": [
    {
     "name": "stdout",
     "output_type": "stream",
     "text": [
      "660.0\n",
      "1126.4060174344954\n"
     ]
    }
   ],
   "source": [
    "# Check the target skewness\n",
    "\n",
    "print(data.duration.median())\n",
    "print(data.duration.mean())\n",
    "\n",
    "# Lets get rid of outliers from the duration column that have duration more than 2500.\n",
    "# Also there are some rows where duration are below zero, we will drop those rows as well\n",
    "\n",
    "data.drop(data[(data.duration>2500) | (data.duration<0)].index, axis=0, inplace=True)"
   ]
  },
  {
   "cell_type": "code",
   "execution_count": 120,
   "id": "228256a2",
   "metadata": {},
   "outputs": [
    {
     "data": {
      "text/plain": [
       "<Axes: xlabel='duration', ylabel='Density'>"
      ]
     },
     "execution_count": 120,
     "metadata": {},
     "output_type": "execute_result"
    },
    {
     "data": {
      "image/png": "[encoded data removed]",
      "text/plain": [
       "<Figure size 640x480 with 1 Axes>"
      ]
     },
     "metadata": {},
     "output_type": "display_data"
    }
   ],
   "source": [
    "# We see below that the data is skewed but less than before.\n",
    "\n",
    "sns.kdeplot(data=data, x='duration')"
   ]
  },
  {
   "cell_type": "code",
   "execution_count": 121,
   "id": "7341f717",
   "metadata": {},
   "outputs": [
    {
     "data": {
      "text/plain": [
       "<Axes: xlabel='age_cat', ylabel='duration'>"
      ]
     },
     "execution_count": 121,
     "metadata": {},
     "output_type": "execute_result"
    },
    {
     "data": {
      "image/png": "[encoded data removed]",
      "text/plain": [
       "<Figure size 1200x600 with 1 Axes>"
      ]
     },
     "metadata": {},
     "output_type": "display_data"
    }
   ],
   "source": [
    "plt.figure(figsize=(12, 6))\n",
    "\n",
    "sns.boxplot(data=data, x='age_cat', y='duration')"
   ]
  },
  {
   "cell_type": "code",
   "execution_count": null,
   "id": "5d7e3f4d",
   "metadata": {},
   "outputs": [],
   "source": []
  },
  {
   "cell_type": "code",
   "execution_count": 122,
   "id": "487c168a",
   "metadata": {},
   "outputs": [
    {
     "data": {
      "image/png": "[encoded data removed]",
      "text/plain": [
       "<Figure size 640x480 with 1 Axes>"
      ]
     },
     "metadata": {},
     "output_type": "display_data"
    }
   ],
   "source": [
    "# Lets see the predictive power of our features - \n",
    "# the gender column seems to have an impact on the duration, let's create two hot one columns from the gender\n",
    "\n",
    "sns.boxplot(x='gender', y='duration', data=data)\n",
    "\n",
    "data= pd.get_dummies(data, columns=['gender'], drop_first=True)"
   ]
  },
  {
   "cell_type": "code",
   "execution_count": 123,
   "id": "f791893c",
   "metadata": {},
   "outputs": [
    {
     "data": {
      "text/plain": [
       "<Axes: xlabel='month', ylabel='duration'>"
      ]
     },
     "execution_count": 123,
     "metadata": {},
     "output_type": "execute_result"
    },
    {
     "data": {
      "image/png": "[encoded data removed]",
      "text/plain": [
       "<Figure size 640x480 with 1 Axes>"
      ]
     },
     "metadata": {},
     "output_type": "display_data"
    }
   ],
   "source": [
    "# Lets see the predictive power of our features - \n",
    "# the gender column seems to have an impact on the duration, let's create two hot one columns from the gender\n",
    "\n",
    "sns.boxplot(x='month', y='duration', data=data)"
   ]
  },
  {
   "cell_type": "code",
   "execution_count": 124,
   "id": "bd445219",
   "metadata": {},
   "outputs": [
    {
     "data": {
      "text/plain": [
       "<Axes: xlabel='weekend', ylabel='duration'>"
      ]
     },
     "execution_count": 124,
     "metadata": {},
     "output_type": "execute_result"
    },
    {
     "data": {
      "image/png": "[encoded data removed]",
      "text/plain": [
       "<Figure size 640x480 with 1 Axes>"
      ]
     },
     "metadata": {},
     "output_type": "display_data"
    }
   ],
   "source": [
    "# Lets see the predictive power of our features - \n",
    "# the gender column seems to have an impact on the duration, let's create two hot one columns from the gender\n",
    "\n",
    "sns.boxplot(x='weekend', y='duration', data=data)"
   ]
  },
  {
   "cell_type": "code",
   "execution_count": 125,
   "id": "e5525882",
   "metadata": {},
   "outputs": [
    {
     "data": {
      "text/plain": [
       "<Axes: xlabel='hour', ylabel='duration'>"
      ]
     },
     "execution_count": 125,
     "metadata": {},
     "output_type": "execute_result"
    },
    {
     "data": {
      "image/png": "[encoded data removed]",
      "text/plain": [
       "<Figure size 640x480 with 1 Axes>"
      ]
     },
     "metadata": {},
     "output_type": "display_data"
    }
   ],
   "source": [
    "sns.boxplot(x='hour', y='duration',data=data)"
   ]
  },
  {
   "cell_type": "code",
   "execution_count": 126,
   "id": "9ba45e98",
   "metadata": {},
   "outputs": [
    {
     "data": {
      "image/png": "[encoded data removed]",
      "text/plain": [
       "<Figure size 640x480 with 1 Axes>"
      ]
     },
     "metadata": {},
     "output_type": "display_data"
    }
   ],
   "source": [
    "# We can drop bike_id as all groups have proportional means and variances in the durations outcome. \n",
    "sns.boxplot(x='bike_id', y='duration', data=data)\n",
    "\n",
    "data.drop('bike_id', axis=1, inplace=True)"
   ]
  },
  {
   "cell_type": "code",
   "execution_count": 127,
   "id": "011e98bb",
   "metadata": {},
   "outputs": [
    {
     "data": {
      "image/png": "[encoded data removed]",
      "text/plain": [
       "<Figure size 640x480 with 1 Axes>"
      ]
     },
     "metadata": {},
     "output_type": "display_data"
    }
   ],
   "source": [
    "# The subscription feature is good predictor of \n",
    "# duration as we see that the two groups differs signifcantly from each other\n",
    "\n",
    "sns.boxplot(x='subscription', y='duration', data=data)\n",
    "\n",
    "# Nevertheless we will drop the subscription column because the info about subscription is in the gender column\n",
    "# already - every person that is subscribed is labeled either Male or female in Gender, all the Unknown record are also\n",
    "# unsubscribed.\n",
    "\n",
    "data.drop('subscription',axis=1, inplace=True)"
   ]
  },
  {
   "cell_type": "code",
   "execution_count": 128,
   "id": "17e3128a",
   "metadata": {},
   "outputs": [
    {
     "data": {
      "text/plain": [
       "<Axes: xlabel='Rain', ylabel='duration'>"
      ]
     },
     "execution_count": 128,
     "metadata": {},
     "output_type": "execute_result"
    },
    {
     "data": {
      "image/png": "[encoded data removed]",
      "text/plain": [
       "<Figure size 640x480 with 1 Axes>"
      ]
     },
     "metadata": {},
     "output_type": "display_data"
    }
   ],
   "source": [
    "# It does not seem that rain is a factor in predicting the duration of a trip\n",
    "\n",
    "sns.boxplot(data=data, x='Rain',  y='duration')"
   ]
  },
  {
   "cell_type": "code",
   "execution_count": 152,
   "id": "b5eb7c73",
   "metadata": {},
   "outputs": [
    {
     "data": {
      "text/plain": [
       "<Axes: xlabel='terminal_letter_start', ylabel='duration'>"
      ]
     },
     "execution_count": 152,
     "metadata": {},
     "output_type": "execute_result"
    },
    {
     "data": {
      "image/png": "[encoded data removed]",
      "text/plain": [
       "<Figure size 640x480 with 1 Axes>"
      ]
     },
     "metadata": {},
     "output_type": "display_data"
    }
   ],
   "source": [
    "sns.boxplot(data=data, x='terminal_letter_start', y='duration')"
   ]
  },
  {
   "cell_type": "code",
   "execution_count": 177,
   "id": "6f5e1c77",
   "metadata": {},
   "outputs": [
    {
     "data": {
      "text/plain": [
       "<Axes: >"
      ]
     },
     "execution_count": 177,
     "metadata": {},
     "output_type": "execute_result"
    },
    {
     "data": {
      "image/png": "[encoded data removed]",
      "text/plain": [
       "<Figure size 1200x900 with 2 Axes>"
      ]
     },
     "metadata": {},
     "output_type": "display_data"
    }
   ],
   "source": [
    "# We can also look at correlation matrix to check which features are highly correlated with duration\n",
    "\n",
    "corr= data.corr()\n",
    "\n",
    "plt.figure(figsize=(12,9))\n",
    "sns.heatmap(corr, annot=True)"
   ]
  },
  {
   "cell_type": "code",
   "execution_count": 130,
   "id": "970058dd",
   "metadata": {},
   "outputs": [],
   "source": [
    "# Lastly we will drop day_of_week column as it is highly correlated with another feature weekend column\n",
    "\n",
    "data.drop('day_of_week', axis=1, inplace=True)"
   ]
  },
  {
   "cell_type": "code",
   "execution_count": 172,
   "id": "5341b92c",
   "metadata": {},
   "outputs": [
    {
     "data": {
      "text/html": [
       "<div>\n",
       "<style scoped>\n",
       "    .dataframe tbody tr th:only-of-type {\n",
       "        vertical-align: middle;\n",
       "    }\n",
       "\n",
       "    .dataframe tbody tr th {\n",
       "        vertical-align: top;\n",
       "    }\n",
       "\n",
       "    .dataframe thead th {\n",
       "        text-align: right;\n",
       "    }\n",
       "</style>\n",
       "<table border=\"1\" class=\"dataframe\">\n",
       "  <thead>\n",
       "    <tr style=\"text-align: right;\">\n",
       "      <th></th>\n",
       "      <th>duration</th>\n",
       "      <th>strt_statn</th>\n",
       "      <th>month</th>\n",
       "      <th>hour</th>\n",
       "      <th>weekend</th>\n",
       "      <th>terminal_letter_start</th>\n",
       "      <th>Rain</th>\n",
       "      <th>age_cat</th>\n",
       "      <th>gender_Male</th>\n",
       "      <th>gender_Unknown</th>\n",
       "    </tr>\n",
       "  </thead>\n",
       "  <tbody>\n",
       "    <tr>\n",
       "      <th>0</th>\n",
       "      <td>1108</td>\n",
       "      <td>47.0</td>\n",
       "      <td>7</td>\n",
       "      <td>11</td>\n",
       "      <td>0</td>\n",
       "      <td>D</td>\n",
       "      <td>0</td>\n",
       "      <td>0</td>\n",
       "      <td>1</td>\n",
       "      <td>0</td>\n",
       "    </tr>\n",
       "    <tr>\n",
       "      <th>1</th>\n",
       "      <td>1055</td>\n",
       "      <td>47.0</td>\n",
       "      <td>7</td>\n",
       "      <td>11</td>\n",
       "      <td>0</td>\n",
       "      <td>D</td>\n",
       "      <td>0</td>\n",
       "      <td>3</td>\n",
       "      <td>1</td>\n",
       "      <td>0</td>\n",
       "    </tr>\n",
       "    <tr>\n",
       "      <th>2</th>\n",
       "      <td>1042</td>\n",
       "      <td>47.0</td>\n",
       "      <td>7</td>\n",
       "      <td>11</td>\n",
       "      <td>0</td>\n",
       "      <td>D</td>\n",
       "      <td>0</td>\n",
       "      <td>3</td>\n",
       "      <td>0</td>\n",
       "      <td>0</td>\n",
       "    </tr>\n",
       "    <tr>\n",
       "      <th>3</th>\n",
       "      <td>994</td>\n",
       "      <td>40.0</td>\n",
       "      <td>7</td>\n",
       "      <td>12</td>\n",
       "      <td>0</td>\n",
       "      <td>D</td>\n",
       "      <td>0</td>\n",
       "      <td>6</td>\n",
       "      <td>0</td>\n",
       "      <td>1</td>\n",
       "    </tr>\n",
       "    <tr>\n",
       "      <th>4</th>\n",
       "      <td>15</td>\n",
       "      <td>22.0</td>\n",
       "      <td>7</td>\n",
       "      <td>12</td>\n",
       "      <td>0</td>\n",
       "      <td>A</td>\n",
       "      <td>0</td>\n",
       "      <td>1</td>\n",
       "      <td>1</td>\n",
       "      <td>0</td>\n",
       "    </tr>\n",
       "  </tbody>\n",
       "</table>\n",
       "</div>"
      ],
      "text/plain": [
       "   duration  strt_statn  month  hour  weekend terminal_letter_start  Rain  \\\n",
       "0      1108        47.0      7    11        0                     D     0   \n",
       "1      1055        47.0      7    11        0                     D     0   \n",
       "2      1042        47.0      7    11        0                     D     0   \n",
       "3       994        40.0      7    12        0                     D     0   \n",
       "4        15        22.0      7    12        0                     A     0   \n",
       "\n",
       "   age_cat  gender_Male  gender_Unknown  \n",
       "0        0            1               0  \n",
       "1        3            1               0  \n",
       "2        3            0               0  \n",
       "3        6            0               1  \n",
       "4        1            1               0  "
      ]
     },
     "execution_count": 172,
     "metadata": {},
     "output_type": "execute_result"
    }
   ],
   "source": [
    "data.head()"
   ]
  },
  {
   "cell_type": "markdown",
   "id": "218e526e",
   "metadata": {},
   "source": [
    "## Model training"
   ]
  },
  {
   "cell_type": "markdown",
   "id": "438ab197",
   "metadata": {},
   "source": [
    "### I'll chose Random Forest Regressor as my model, the decision trees are providing better results when trained on skewed target and predictors than other models"
   ]
  },
  {
   "cell_type": "code",
   "execution_count": 178,
   "id": "d7482d08",
   "metadata": {},
   "outputs": [
    {
     "data": {
      "text/plain": [
       "(1365709, 10)"
      ]
     },
     "execution_count": 178,
     "metadata": {},
     "output_type": "execute_result"
    }
   ],
   "source": [
    "#Lets see shape of our dataset\n",
    "\n",
    "data.shape"
   ]
  },
  {
   "cell_type": "code",
   "execution_count": 179,
   "id": "9b566c3f",
   "metadata": {},
   "outputs": [
    {
     "data": {
      "text/html": [
       "<div>\n",
       "<style scoped>\n",
       "    .dataframe tbody tr th:only-of-type {\n",
       "        vertical-align: middle;\n",
       "    }\n",
       "\n",
       "    .dataframe tbody tr th {\n",
       "        vertical-align: top;\n",
       "    }\n",
       "\n",
       "    .dataframe thead th {\n",
       "        text-align: right;\n",
       "    }\n",
       "</style>\n",
       "<table border=\"1\" class=\"dataframe\">\n",
       "  <thead>\n",
       "    <tr style=\"text-align: right;\">\n",
       "      <th></th>\n",
       "      <th>duration</th>\n",
       "      <th>strt_statn</th>\n",
       "      <th>month</th>\n",
       "      <th>hour</th>\n",
       "      <th>weekend</th>\n",
       "      <th>terminal_letter_start</th>\n",
       "      <th>Rain</th>\n",
       "      <th>age_cat</th>\n",
       "      <th>gender_Male</th>\n",
       "      <th>gender_Unknown</th>\n",
       "    </tr>\n",
       "  </thead>\n",
       "  <tbody>\n",
       "    <tr>\n",
       "      <th>0</th>\n",
       "      <td>840</td>\n",
       "      <td>44.0</td>\n",
       "      <td>9</td>\n",
       "      <td>21</td>\n",
       "      <td>0</td>\n",
       "      <td>3</td>\n",
       "      <td>0</td>\n",
       "      <td>6</td>\n",
       "      <td>1</td>\n",
       "      <td>0</td>\n",
       "    </tr>\n",
       "    <tr>\n",
       "      <th>1</th>\n",
       "      <td>1920</td>\n",
       "      <td>36.0</td>\n",
       "      <td>5</td>\n",
       "      <td>13</td>\n",
       "      <td>1</td>\n",
       "      <td>3</td>\n",
       "      <td>0</td>\n",
       "      <td>6</td>\n",
       "      <td>0</td>\n",
       "      <td>1</td>\n",
       "    </tr>\n",
       "    <tr>\n",
       "      <th>2</th>\n",
       "      <td>840</td>\n",
       "      <td>58.0</td>\n",
       "      <td>8</td>\n",
       "      <td>15</td>\n",
       "      <td>1</td>\n",
       "      <td>3</td>\n",
       "      <td>0</td>\n",
       "      <td>6</td>\n",
       "      <td>1</td>\n",
       "      <td>0</td>\n",
       "    </tr>\n",
       "    <tr>\n",
       "      <th>3</th>\n",
       "      <td>900</td>\n",
       "      <td>112.0</td>\n",
       "      <td>10</td>\n",
       "      <td>17</td>\n",
       "      <td>1</td>\n",
       "      <td>3</td>\n",
       "      <td>0</td>\n",
       "      <td>6</td>\n",
       "      <td>1</td>\n",
       "      <td>0</td>\n",
       "    </tr>\n",
       "    <tr>\n",
       "      <th>4</th>\n",
       "      <td>240</td>\n",
       "      <td>27.0</td>\n",
       "      <td>10</td>\n",
       "      <td>7</td>\n",
       "      <td>0</td>\n",
       "      <td>2</td>\n",
       "      <td>0</td>\n",
       "      <td>6</td>\n",
       "      <td>1</td>\n",
       "      <td>0</td>\n",
       "    </tr>\n",
       "    <tr>\n",
       "      <th>...</th>\n",
       "      <td>...</td>\n",
       "      <td>...</td>\n",
       "      <td>...</td>\n",
       "      <td>...</td>\n",
       "      <td>...</td>\n",
       "      <td>...</td>\n",
       "      <td>...</td>\n",
       "      <td>...</td>\n",
       "      <td>...</td>\n",
       "      <td>...</td>\n",
       "    </tr>\n",
       "    <tr>\n",
       "      <th>273137</th>\n",
       "      <td>1080</td>\n",
       "      <td>22.0</td>\n",
       "      <td>7</td>\n",
       "      <td>14</td>\n",
       "      <td>1</td>\n",
       "      <td>0</td>\n",
       "      <td>0</td>\n",
       "      <td>6</td>\n",
       "      <td>1</td>\n",
       "      <td>0</td>\n",
       "    </tr>\n",
       "    <tr>\n",
       "      <th>273138</th>\n",
       "      <td>900</td>\n",
       "      <td>32.0</td>\n",
       "      <td>11</td>\n",
       "      <td>11</td>\n",
       "      <td>1</td>\n",
       "      <td>1</td>\n",
       "      <td>0</td>\n",
       "      <td>6</td>\n",
       "      <td>0</td>\n",
       "      <td>1</td>\n",
       "    </tr>\n",
       "    <tr>\n",
       "      <th>273139</th>\n",
       "      <td>780</td>\n",
       "      <td>126.0</td>\n",
       "      <td>5</td>\n",
       "      <td>2</td>\n",
       "      <td>0</td>\n",
       "      <td>5</td>\n",
       "      <td>0</td>\n",
       "      <td>6</td>\n",
       "      <td>0</td>\n",
       "      <td>0</td>\n",
       "    </tr>\n",
       "    <tr>\n",
       "      <th>273140</th>\n",
       "      <td>1140</td>\n",
       "      <td>45.0</td>\n",
       "      <td>8</td>\n",
       "      <td>21</td>\n",
       "      <td>0</td>\n",
       "      <td>1</td>\n",
       "      <td>0</td>\n",
       "      <td>6</td>\n",
       "      <td>1</td>\n",
       "      <td>0</td>\n",
       "    </tr>\n",
       "    <tr>\n",
       "      <th>273141</th>\n",
       "      <td>240</td>\n",
       "      <td>57.0</td>\n",
       "      <td>5</td>\n",
       "      <td>20</td>\n",
       "      <td>0</td>\n",
       "      <td>2</td>\n",
       "      <td>0</td>\n",
       "      <td>6</td>\n",
       "      <td>1</td>\n",
       "      <td>0</td>\n",
       "    </tr>\n",
       "  </tbody>\n",
       "</table>\n",
       "<p>273142 rows × 10 columns</p>\n",
       "</div>"
      ],
      "text/plain": [
       "        duration  strt_statn  month  hour  weekend  terminal_letter_start  \\\n",
       "0            840        44.0      9    21        0                      3   \n",
       "1           1920        36.0      5    13        1                      3   \n",
       "2            840        58.0      8    15        1                      3   \n",
       "3            900       112.0     10    17        1                      3   \n",
       "4            240        27.0     10     7        0                      2   \n",
       "...          ...         ...    ...   ...      ...                    ...   \n",
       "273137      1080        22.0      7    14        1                      0   \n",
       "273138       900        32.0     11    11        1                      1   \n",
       "273139       780       126.0      5     2        0                      5   \n",
       "273140      1140        45.0      8    21        0                      1   \n",
       "273141       240        57.0      5    20        0                      2   \n",
       "\n",
       "        Rain  age_cat  gender_Male  gender_Unknown  \n",
       "0          0        6            1               0  \n",
       "1          0        6            0               1  \n",
       "2          0        6            1               0  \n",
       "3          0        6            1               0  \n",
       "4          0        6            1               0  \n",
       "...      ...      ...          ...             ...  \n",
       "273137     0        6            1               0  \n",
       "273138     0        6            0               1  \n",
       "273139     0        6            0               0  \n",
       "273140     0        6            1               0  \n",
       "273141     0        6            1               0  \n",
       "\n",
       "[273142 rows x 10 columns]"
      ]
     },
     "execution_count": 179,
     "metadata": {},
     "output_type": "execute_result"
    }
   ],
   "source": [
    "# We need to limit the data we use in the model training - we don't have too many features in the model so random sample\n",
    "# of 20% of the data will improve how fast the model will be trained and evaluated\n",
    "\n",
    "model_data= data.sample(frac=0.2, random_state=11112).reset_index(drop=True)\n",
    "model_data"
   ]
  },
  {
   "cell_type": "code",
   "execution_count": 180,
   "id": "9328fb95",
   "metadata": {},
   "outputs": [],
   "source": [
    "# Import Random Forest regressor\n",
    "from sklearn.ensemble import RandomForestRegressor\n",
    "\n",
    "# Set target and predictors\n",
    "\n",
    "X= model_data.drop('duration', axis=1)\n",
    "Y= model_data['duration']"
   ]
  },
  {
   "cell_type": "code",
   "execution_count": 181,
   "id": "9bc03f12",
   "metadata": {},
   "outputs": [],
   "source": [
    "# Split data into train and test\n",
    "\n",
    "from sklearn.model_selection import train_test_split\n",
    "\n",
    "X_train, X_test, y_train, y_test = train_test_split(X, Y, test_size=0.2,\n",
    "                                                    random_state=11)"
   ]
  },
  {
   "cell_type": "code",
   "execution_count": 186,
   "id": "6ebb4e1d",
   "metadata": {},
   "outputs": [
    {
     "name": "stdout",
     "output_type": "stream",
     "text": [
      "{'n_estimators': 100, 'min_samples_split': 100, 'max_depth': 200}\n",
      "173934.36433218262\n"
     ]
    }
   ],
   "source": [
    "# I will use the RandomizedSearchCV to pick the best parameters for the model\n",
    "# As we have many parameters we will set n_iter=10 to pick randomly 10 different sets of parameters.\n",
    "\n",
    "from sklearn.model_selection import RandomizedSearchCV\n",
    "\n",
    "model = RandomForestRegressor()\n",
    "\n",
    "rs = RandomizedSearchCV(model, n_iter=10,\n",
    "                        param_distributions = {'max_depth': [100, 200, 400],\n",
    "                                               'min_samples_split':  [10, 20, 50, 100],\n",
    "                                               'n_estimators': [50, 100, 200] },\n",
    "                        cv=5, n_jobs=-1, random_state=31,\n",
    "                        scoring='neg_mean_squared_error')\n",
    "\n",
    "\n",
    "# Fit the Randomized Search to X_train, y_train\n",
    "rs.fit(X_train, y_train)\n",
    "\n",
    "# Print the best parameters and mean_squared_error for them\n",
    "\n",
    "print(rs.best_params_)\n",
    "print(-rs.best_score_)"
   ]
  },
  {
   "cell_type": "code",
   "execution_count": 187,
   "id": "08fc2634",
   "metadata": {},
   "outputs": [
    {
     "data": {
      "text/plain": [
       "417.05395334416863"
      ]
     },
     "execution_count": 187,
     "metadata": {},
     "output_type": "execute_result"
    }
   ],
   "source": [
    "173934**(0.5)"
   ]
  },
  {
   "cell_type": "markdown",
   "id": "188ee36a",
   "metadata": {},
   "source": [
    "### It may take some time for RandomizedSearchCV to run. After we will find the best parameters for our model we can train the Random Forest Regressor model with these parameters"
   ]
  },
  {
   "cell_type": "markdown",
   "id": "8c250b02",
   "metadata": {},
   "source": [
    "# The END"
   ]
  }
 ],
 "metadata": {
  "kernelspec": {
   "display_name": "Python 3 (ipykernel)",
   "language": "python",
   "name": "python3"
  },
  "language_info": {
   "codemirror_mode": {
    "name": "ipython",
    "version": 3
   },
   "file_extension": ".py",
   "mimetype": "text/x-python",
   "name": "python",
   "nbconvert_exporter": "python",
   "pygments_lexer": "ipython3",
   "version": "3.9.13"
  }
 },
 "nbformat": 4,
 "nbformat_minor": 5
}
