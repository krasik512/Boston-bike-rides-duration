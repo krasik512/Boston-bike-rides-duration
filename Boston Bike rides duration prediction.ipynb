{
 "cells": [
  {
   "cell_type": "markdown",
   "id": "ba6c51d1",
   "metadata": {},
   "source": [
    "## Boston bike rides duration prediction"
   ]
  },
  {
   "cell_type": "markdown",
   "id": "16db4358",
   "metadata": {},
   "source": [
    "### Import necessary libraries"
   ]
  },
  {
   "cell_type": "code",
   "execution_count": 1,
   "id": "0a76a5c6",
   "metadata": {},
   "outputs": [],
   "source": [
    "import numpy as np\n",
    "import pandas as pd\n",
    "import matplotlib.pyplot as plt\n",
    "import seaborn as sns\n",
    "import sklearn"
   ]
  },
  {
   "cell_type": "markdown",
   "id": "8b82bc7c",
   "metadata": {},
   "source": [
    "### Load the datasets"
   ]
  },
  {
   "cell_type": "code",
   "execution_count": 2,
   "id": "854387b5",
   "metadata": {},
   "outputs": [],
   "source": [
    "# Please replace the path variable by the directory where the files will be stored.\n",
    "\n",
    "path= 'C:\\\\Users\\\\krasi\\\\pyproj\\\\datasets\\\\Technical test 2023\\\\data\\\\'\n",
    "\n",
    "weather_data= pd.read_csv(path + 'weather.csv')\n",
    "hubway_trips= pd.read_csv(path + 'hubway_trips.csv')\n",
    "hubway_stations= pd.read_csv(path + 'hubway_stations.csv')"
   ]
  },
  {
   "cell_type": "code",
   "execution_count": 3,
   "id": "e3903c2a",
   "metadata": {
    "scrolled": true
   },
   "outputs": [
    {
     "data": {
      "text/html": [
       "<div>\n",
       "<style scoped>\n",
       "    .dataframe tbody tr th:only-of-type {\n",
       "        vertical-align: middle;\n",
       "    }\n",
       "\n",
       "    .dataframe tbody tr th {\n",
       "        vertical-align: top;\n",
       "    }\n",
       "\n",
       "    .dataframe thead th {\n",
       "        text-align: right;\n",
       "    }\n",
       "</style>\n",
       "<table border=\"1\" class=\"dataframe\">\n",
       "  <thead>\n",
       "    <tr style=\"text-align: right;\">\n",
       "      <th></th>\n",
       "      <th>STATION</th>\n",
       "      <th>STATION_NAME</th>\n",
       "      <th>ELEVATION</th>\n",
       "      <th>LATITUDE</th>\n",
       "      <th>LONGITUDE</th>\n",
       "      <th>DATE</th>\n",
       "      <th>HPCP</th>\n",
       "      <th>Measurement_Flag</th>\n",
       "      <th>Quality_Flag</th>\n",
       "    </tr>\n",
       "  </thead>\n",
       "  <tbody>\n",
       "    <tr>\n",
       "      <th>0</th>\n",
       "      <td>COOP:190770</td>\n",
       "      <td>BOSTON MA US</td>\n",
       "      <td>3.7</td>\n",
       "      <td>42.3606</td>\n",
       "      <td>-71.0106</td>\n",
       "      <td>20110729 09:00</td>\n",
       "      <td>0.00</td>\n",
       "      <td>T</td>\n",
       "      <td></td>\n",
       "    </tr>\n",
       "    <tr>\n",
       "      <th>1</th>\n",
       "      <td>COOP:190770</td>\n",
       "      <td>BOSTON MA US</td>\n",
       "      <td>3.7</td>\n",
       "      <td>42.3606</td>\n",
       "      <td>-71.0106</td>\n",
       "      <td>20110729 10:00</td>\n",
       "      <td>0.00</td>\n",
       "      <td>T</td>\n",
       "      <td></td>\n",
       "    </tr>\n",
       "    <tr>\n",
       "      <th>2</th>\n",
       "      <td>COOP:190770</td>\n",
       "      <td>BOSTON MA US</td>\n",
       "      <td>3.7</td>\n",
       "      <td>42.3606</td>\n",
       "      <td>-71.0106</td>\n",
       "      <td>20110729 18:00</td>\n",
       "      <td>0.00</td>\n",
       "      <td>T</td>\n",
       "      <td></td>\n",
       "    </tr>\n",
       "    <tr>\n",
       "      <th>3</th>\n",
       "      <td>COOP:190770</td>\n",
       "      <td>BOSTON MA US</td>\n",
       "      <td>3.7</td>\n",
       "      <td>42.3606</td>\n",
       "      <td>-71.0106</td>\n",
       "      <td>20110729 21:00</td>\n",
       "      <td>0.03</td>\n",
       "      <td></td>\n",
       "      <td></td>\n",
       "    </tr>\n",
       "    <tr>\n",
       "      <th>4</th>\n",
       "      <td>COOP:190770</td>\n",
       "      <td>BOSTON MA US</td>\n",
       "      <td>3.7</td>\n",
       "      <td>42.3606</td>\n",
       "      <td>-71.0106</td>\n",
       "      <td>20110729 22:00</td>\n",
       "      <td>0.04</td>\n",
       "      <td></td>\n",
       "      <td></td>\n",
       "    </tr>\n",
       "  </tbody>\n",
       "</table>\n",
       "</div>"
      ],
      "text/plain": [
       "       STATION  STATION_NAME  ELEVATION  LATITUDE  LONGITUDE            DATE  \\\n",
       "0  COOP:190770  BOSTON MA US        3.7   42.3606   -71.0106  20110729 09:00   \n",
       "1  COOP:190770  BOSTON MA US        3.7   42.3606   -71.0106  20110729 10:00   \n",
       "2  COOP:190770  BOSTON MA US        3.7   42.3606   -71.0106  20110729 18:00   \n",
       "3  COOP:190770  BOSTON MA US        3.7   42.3606   -71.0106  20110729 21:00   \n",
       "4  COOP:190770  BOSTON MA US        3.7   42.3606   -71.0106  20110729 22:00   \n",
       "\n",
       "   HPCP Measurement_Flag Quality_Flag  \n",
       "0  0.00                T               \n",
       "1  0.00                T               \n",
       "2  0.00                T               \n",
       "3  0.03                                \n",
       "4  0.04                                "
      ]
     },
     "execution_count": 3,
     "metadata": {},
     "output_type": "execute_result"
    }
   ],
   "source": [
    "weather_data.head()"
   ]
  },
  {
   "cell_type": "code",
   "execution_count": 4,
   "id": "7581c8a3",
   "metadata": {},
   "outputs": [
    {
     "data": {
      "text/html": [
       "<div>\n",
       "<style scoped>\n",
       "    .dataframe tbody tr th:only-of-type {\n",
       "        vertical-align: middle;\n",
       "    }\n",
       "\n",
       "    .dataframe tbody tr th {\n",
       "        vertical-align: top;\n",
       "    }\n",
       "\n",
       "    .dataframe thead th {\n",
       "        text-align: right;\n",
       "    }\n",
       "</style>\n",
       "<table border=\"1\" class=\"dataframe\">\n",
       "  <thead>\n",
       "    <tr style=\"text-align: right;\">\n",
       "      <th></th>\n",
       "      <th>seq_id</th>\n",
       "      <th>hubway_id</th>\n",
       "      <th>status</th>\n",
       "      <th>duration</th>\n",
       "      <th>start_date</th>\n",
       "      <th>strt_statn</th>\n",
       "      <th>end_date</th>\n",
       "      <th>end_statn</th>\n",
       "      <th>bike_nr</th>\n",
       "      <th>subsc_type</th>\n",
       "      <th>zip_code</th>\n",
       "      <th>birth_date</th>\n",
       "      <th>gender</th>\n",
       "    </tr>\n",
       "  </thead>\n",
       "  <tbody>\n",
       "    <tr>\n",
       "      <th>0</th>\n",
       "      <td>1</td>\n",
       "      <td>8</td>\n",
       "      <td>Closed</td>\n",
       "      <td>9</td>\n",
       "      <td>7/28/2011 10:12:00</td>\n",
       "      <td>23.0</td>\n",
       "      <td>7/28/2011 10:12:00</td>\n",
       "      <td>23.0</td>\n",
       "      <td>B00468</td>\n",
       "      <td>Registered</td>\n",
       "      <td>'97217</td>\n",
       "      <td>1976.0</td>\n",
       "      <td>Male</td>\n",
       "    </tr>\n",
       "    <tr>\n",
       "      <th>1</th>\n",
       "      <td>2</td>\n",
       "      <td>9</td>\n",
       "      <td>Closed</td>\n",
       "      <td>220</td>\n",
       "      <td>7/28/2011 10:21:00</td>\n",
       "      <td>23.0</td>\n",
       "      <td>7/28/2011 10:25:00</td>\n",
       "      <td>23.0</td>\n",
       "      <td>B00554</td>\n",
       "      <td>Registered</td>\n",
       "      <td>'02215</td>\n",
       "      <td>1966.0</td>\n",
       "      <td>Male</td>\n",
       "    </tr>\n",
       "    <tr>\n",
       "      <th>2</th>\n",
       "      <td>3</td>\n",
       "      <td>10</td>\n",
       "      <td>Closed</td>\n",
       "      <td>56</td>\n",
       "      <td>7/28/2011 10:33:00</td>\n",
       "      <td>23.0</td>\n",
       "      <td>7/28/2011 10:34:00</td>\n",
       "      <td>23.0</td>\n",
       "      <td>B00456</td>\n",
       "      <td>Registered</td>\n",
       "      <td>'02108</td>\n",
       "      <td>1943.0</td>\n",
       "      <td>Male</td>\n",
       "    </tr>\n",
       "    <tr>\n",
       "      <th>3</th>\n",
       "      <td>4</td>\n",
       "      <td>11</td>\n",
       "      <td>Closed</td>\n",
       "      <td>64</td>\n",
       "      <td>7/28/2011 10:35:00</td>\n",
       "      <td>23.0</td>\n",
       "      <td>7/28/2011 10:36:00</td>\n",
       "      <td>23.0</td>\n",
       "      <td>B00554</td>\n",
       "      <td>Registered</td>\n",
       "      <td>'02116</td>\n",
       "      <td>1981.0</td>\n",
       "      <td>Female</td>\n",
       "    </tr>\n",
       "    <tr>\n",
       "      <th>4</th>\n",
       "      <td>5</td>\n",
       "      <td>12</td>\n",
       "      <td>Closed</td>\n",
       "      <td>12</td>\n",
       "      <td>7/28/2011 10:37:00</td>\n",
       "      <td>23.0</td>\n",
       "      <td>7/28/2011 10:37:00</td>\n",
       "      <td>23.0</td>\n",
       "      <td>B00554</td>\n",
       "      <td>Registered</td>\n",
       "      <td>'97214</td>\n",
       "      <td>1983.0</td>\n",
       "      <td>Female</td>\n",
       "    </tr>\n",
       "  </tbody>\n",
       "</table>\n",
       "</div>"
      ],
      "text/plain": [
       "   seq_id  hubway_id  status  duration          start_date  strt_statn  \\\n",
       "0       1          8  Closed         9  7/28/2011 10:12:00        23.0   \n",
       "1       2          9  Closed       220  7/28/2011 10:21:00        23.0   \n",
       "2       3         10  Closed        56  7/28/2011 10:33:00        23.0   \n",
       "3       4         11  Closed        64  7/28/2011 10:35:00        23.0   \n",
       "4       5         12  Closed        12  7/28/2011 10:37:00        23.0   \n",
       "\n",
       "             end_date  end_statn bike_nr  subsc_type zip_code  birth_date  \\\n",
       "0  7/28/2011 10:12:00       23.0  B00468  Registered   '97217      1976.0   \n",
       "1  7/28/2011 10:25:00       23.0  B00554  Registered   '02215      1966.0   \n",
       "2  7/28/2011 10:34:00       23.0  B00456  Registered   '02108      1943.0   \n",
       "3  7/28/2011 10:36:00       23.0  B00554  Registered   '02116      1981.0   \n",
       "4  7/28/2011 10:37:00       23.0  B00554  Registered   '97214      1983.0   \n",
       "\n",
       "   gender  \n",
       "0    Male  \n",
       "1    Male  \n",
       "2    Male  \n",
       "3  Female  \n",
       "4  Female  "
      ]
     },
     "execution_count": 4,
     "metadata": {},
     "output_type": "execute_result"
    }
   ],
   "source": [
    "hubway_trips.head()"
   ]
  },
  {
   "cell_type": "code",
   "execution_count": 5,
   "id": "209ae8db",
   "metadata": {},
   "outputs": [
    {
     "data": {
      "text/html": [
       "<div>\n",
       "<style scoped>\n",
       "    .dataframe tbody tr th:only-of-type {\n",
       "        vertical-align: middle;\n",
       "    }\n",
       "\n",
       "    .dataframe tbody tr th {\n",
       "        vertical-align: top;\n",
       "    }\n",
       "\n",
       "    .dataframe thead th {\n",
       "        text-align: right;\n",
       "    }\n",
       "</style>\n",
       "<table border=\"1\" class=\"dataframe\">\n",
       "  <thead>\n",
       "    <tr style=\"text-align: right;\">\n",
       "      <th></th>\n",
       "      <th>id</th>\n",
       "      <th>terminal</th>\n",
       "      <th>station</th>\n",
       "      <th>municipal</th>\n",
       "      <th>lat</th>\n",
       "      <th>lng</th>\n",
       "      <th>status</th>\n",
       "    </tr>\n",
       "  </thead>\n",
       "  <tbody>\n",
       "    <tr>\n",
       "      <th>0</th>\n",
       "      <td>3</td>\n",
       "      <td>B32006</td>\n",
       "      <td>Colleges of the Fenway</td>\n",
       "      <td>Boston</td>\n",
       "      <td>42.340021</td>\n",
       "      <td>-71.100812</td>\n",
       "      <td>Existing</td>\n",
       "    </tr>\n",
       "    <tr>\n",
       "      <th>1</th>\n",
       "      <td>4</td>\n",
       "      <td>C32000</td>\n",
       "      <td>Tremont St. at Berkeley St.</td>\n",
       "      <td>Boston</td>\n",
       "      <td>42.345392</td>\n",
       "      <td>-71.069616</td>\n",
       "      <td>Existing</td>\n",
       "    </tr>\n",
       "    <tr>\n",
       "      <th>2</th>\n",
       "      <td>5</td>\n",
       "      <td>B32012</td>\n",
       "      <td>Northeastern U / North Parking Lot</td>\n",
       "      <td>Boston</td>\n",
       "      <td>42.341814</td>\n",
       "      <td>-71.090179</td>\n",
       "      <td>Existing</td>\n",
       "    </tr>\n",
       "    <tr>\n",
       "      <th>3</th>\n",
       "      <td>6</td>\n",
       "      <td>D32000</td>\n",
       "      <td>Cambridge St. at Joy St.</td>\n",
       "      <td>Boston</td>\n",
       "      <td>42.361285</td>\n",
       "      <td>-71.065140</td>\n",
       "      <td>Existing</td>\n",
       "    </tr>\n",
       "    <tr>\n",
       "      <th>4</th>\n",
       "      <td>7</td>\n",
       "      <td>A32000</td>\n",
       "      <td>Fan Pier</td>\n",
       "      <td>Boston</td>\n",
       "      <td>42.353412</td>\n",
       "      <td>-71.044624</td>\n",
       "      <td>Existing</td>\n",
       "    </tr>\n",
       "  </tbody>\n",
       "</table>\n",
       "</div>"
      ],
      "text/plain": [
       "   id terminal                             station municipal        lat  \\\n",
       "0   3   B32006              Colleges of the Fenway    Boston  42.340021   \n",
       "1   4   C32000         Tremont St. at Berkeley St.    Boston  42.345392   \n",
       "2   5   B32012  Northeastern U / North Parking Lot    Boston  42.341814   \n",
       "3   6   D32000            Cambridge St. at Joy St.    Boston  42.361285   \n",
       "4   7   A32000                            Fan Pier    Boston  42.353412   \n",
       "\n",
       "         lng    status  \n",
       "0 -71.100812  Existing  \n",
       "1 -71.069616  Existing  \n",
       "2 -71.090179  Existing  \n",
       "3 -71.065140  Existing  \n",
       "4 -71.044624  Existing  "
      ]
     },
     "execution_count": 5,
     "metadata": {},
     "output_type": "execute_result"
    }
   ],
   "source": [
    "hubway_stations.head()"
   ]
  },
  {
   "cell_type": "markdown",
   "id": "0ba4385d",
   "metadata": {},
   "source": [
    "### Data Cleaning"
   ]
  },
  {
   "cell_type": "code",
   "execution_count": 6,
   "id": "f261a38f",
   "metadata": {},
   "outputs": [],
   "source": [
    "# Change the dates column into the datetime type, \n",
    "# this would allow us to merge weather and hubway trips tables based on date columns.\n",
    "\n",
    "hubway_trips['start_date']= pd.to_datetime(hubway_trips['start_date'])\n",
    "hubway_trips['end_date']= pd.to_datetime(hubway_trips['end_date'])\n",
    "weather_data['DATE']= pd.to_datetime(weather_data['DATE'])"
   ]
  },
  {
   "cell_type": "code",
   "execution_count": 7,
   "id": "e7262a51",
   "metadata": {},
   "outputs": [],
   "source": [
    "# Change the dates into the Hours period to allow merging the weather data into. \n",
    "# Additionally we need to subtract one hour from the weather DATE, because based on the documentation \n",
    "# this value at certain hour is accumulation from hour before - for example if we have a measurement \n",
    "# at time 10 pm it means this is the accumulation measure from 9 pm to 10 pm.\n",
    "\n",
    "from datetime import timedelta\n",
    "\n",
    "hubway_trips['DATE']= hubway_trips.start_date.dt.to_period(\"H\")\n",
    "weather_data['DATE']= weather_data.DATE.dt.to_period(\"H\") - timedelta(hours=1)\n",
    "\n",
    "# Merge the hubway trips and weather data together \n",
    "data= hubway_trips.merge(weather_data, how=\"left\", on=\"DATE\")"
   ]
  },
  {
   "cell_type": "code",
   "execution_count": 8,
   "id": "a980b2cb",
   "metadata": {},
   "outputs": [],
   "source": [
    "# Merge data table with hubway stations information, we will do this 2 times, both for\n",
    "# staring station as well as end station\n",
    "\n",
    "data= data.merge(hubway_stations, how=\"left\", left_on=\"strt_statn\", right_on=\"id\")\n",
    "data= data.merge(hubway_stations, how=\"left\", left_on=\"end_statn\", right_on=\"id\")\n",
    "\n",
    "data_copy=data.copy()"
   ]
  },
  {
   "cell_type": "code",
   "execution_count": 9,
   "id": "59c8471f",
   "metadata": {},
   "outputs": [
    {
     "name": "stdout",
     "output_type": "stream",
     "text": [
      "seq_id              1579025\n",
      "hubway_id           1579025\n",
      "status_x                  1\n",
      "duration              15635\n",
      "start_date           521432\n",
      "strt_statn              142\n",
      "end_date             515102\n",
      "end_statn               142\n",
      "bike_nr                1163\n",
      "subsc_type                2\n",
      "zip_code                530\n",
      "birth_date               60\n",
      "gender                    2\n",
      "DATE                  14713\n",
      "STATION                   1\n",
      "STATION_NAME              1\n",
      "ELEVATION                 1\n",
      "LATITUDE                  1\n",
      "LONGITUDE                 1\n",
      "HPCP                     50\n",
      "Measurement_Flag          3\n",
      "Quality_Flag              1\n",
      "id_x                    142\n",
      "terminal_x              131\n",
      "station_x               137\n",
      "municipal_x               4\n",
      "lat_x                   142\n",
      "lng_x                   142\n",
      "status_y                  2\n",
      "id_y                    142\n",
      "terminal_y              131\n",
      "station_y               137\n",
      "municipal_y               4\n",
      "lat_y                   142\n",
      "lng_y                   142\n",
      "status                    2\n",
      "dtype: int64\n"
     ]
    }
   ],
   "source": [
    "# We can drop columns with one unique value,\n",
    "# these columns does not contain any information as the variance is 0 so we can drop them\n",
    "# - they have no predictive power.\n",
    "\n",
    "print(data.nunique())\n",
    "\n",
    "#Drop the columns with one unique value\n",
    "\n",
    "one_value_columns= data.columns[data.nunique()==1]\n",
    "data.drop(one_value_columns, axis=1, inplace=True)"
   ]
  },
  {
   "cell_type": "code",
   "execution_count": 10,
   "id": "ff98e3fa",
   "metadata": {},
   "outputs": [
    {
     "data": {
      "text/html": [
       "<div>\n",
       "<style scoped>\n",
       "    .dataframe tbody tr th:only-of-type {\n",
       "        vertical-align: middle;\n",
       "    }\n",
       "\n",
       "    .dataframe tbody tr th {\n",
       "        vertical-align: top;\n",
       "    }\n",
       "\n",
       "    .dataframe thead th {\n",
       "        text-align: right;\n",
       "    }\n",
       "</style>\n",
       "<table border=\"1\" class=\"dataframe\">\n",
       "  <thead>\n",
       "    <tr style=\"text-align: right;\">\n",
       "      <th></th>\n",
       "      <th>seq_id</th>\n",
       "      <th>hubway_id</th>\n",
       "      <th>duration</th>\n",
       "      <th>start_date</th>\n",
       "      <th>strt_statn</th>\n",
       "      <th>end_date</th>\n",
       "      <th>end_statn</th>\n",
       "      <th>bike_nr</th>\n",
       "      <th>subsc_type</th>\n",
       "      <th>zip_code</th>\n",
       "      <th>...</th>\n",
       "      <th>lat_x</th>\n",
       "      <th>lng_x</th>\n",
       "      <th>status_y</th>\n",
       "      <th>id_y</th>\n",
       "      <th>terminal_y</th>\n",
       "      <th>station_y</th>\n",
       "      <th>municipal_y</th>\n",
       "      <th>lat_y</th>\n",
       "      <th>lng_y</th>\n",
       "      <th>status</th>\n",
       "    </tr>\n",
       "  </thead>\n",
       "  <tbody>\n",
       "    <tr>\n",
       "      <th>1311882</th>\n",
       "      <td>1311883</td>\n",
       "      <td>1464222</td>\n",
       "      <td>1140</td>\n",
       "      <td>2013-09-19 14:33:00</td>\n",
       "      <td>98.0</td>\n",
       "      <td>2013-09-19 14:52:00</td>\n",
       "      <td>58.0</td>\n",
       "      <td>B00441</td>\n",
       "      <td>Casual</td>\n",
       "      <td>NaN</td>\n",
       "      <td>...</td>\n",
       "      <td>42.371848</td>\n",
       "      <td>-71.060292</td>\n",
       "      <td>Existing</td>\n",
       "      <td>58.0</td>\n",
       "      <td>D32017</td>\n",
       "      <td>The Esplanade - Beacon St. at Arlington St.</td>\n",
       "      <td>Boston</td>\n",
       "      <td>42.355596</td>\n",
       "      <td>-71.072780</td>\n",
       "      <td>Existing</td>\n",
       "    </tr>\n",
       "    <tr>\n",
       "      <th>1452796</th>\n",
       "      <td>1452797</td>\n",
       "      <td>1614792</td>\n",
       "      <td>1680</td>\n",
       "      <td>2013-10-19 12:58:00</td>\n",
       "      <td>80.0</td>\n",
       "      <td>2013-10-19 13:26:00</td>\n",
       "      <td>74.0</td>\n",
       "      <td>T01419</td>\n",
       "      <td>Casual</td>\n",
       "      <td>NaN</td>\n",
       "      <td>...</td>\n",
       "      <td>42.362429</td>\n",
       "      <td>-71.090188</td>\n",
       "      <td>Existing</td>\n",
       "      <td>74.0</td>\n",
       "      <td>M32018</td>\n",
       "      <td>Harvard Square at Mass Ave/ Dunster</td>\n",
       "      <td>Cambridge</td>\n",
       "      <td>42.373268</td>\n",
       "      <td>-71.118579</td>\n",
       "      <td>Existing</td>\n",
       "    </tr>\n",
       "  </tbody>\n",
       "</table>\n",
       "<p>2 rows × 29 columns</p>\n",
       "</div>"
      ],
      "text/plain": [
       "          seq_id  hubway_id  duration          start_date  strt_statn  \\\n",
       "1311882  1311883    1464222      1140 2013-09-19 14:33:00        98.0   \n",
       "1452796  1452797    1614792      1680 2013-10-19 12:58:00        80.0   \n",
       "\n",
       "                   end_date  end_statn bike_nr subsc_type zip_code  ...  \\\n",
       "1311882 2013-09-19 14:52:00       58.0  B00441     Casual      NaN  ...   \n",
       "1452796 2013-10-19 13:26:00       74.0  T01419     Casual      NaN  ...   \n",
       "\n",
       "             lat_x      lng_x  status_y  id_y terminal_y  \\\n",
       "1311882  42.371848 -71.060292  Existing  58.0     D32017   \n",
       "1452796  42.362429 -71.090188  Existing  74.0     M32018   \n",
       "\n",
       "                                           station_y municipal_y      lat_y  \\\n",
       "1311882  The Esplanade - Beacon St. at Arlington St.      Boston  42.355596   \n",
       "1452796          Harvard Square at Mass Ave/ Dunster   Cambridge  42.373268   \n",
       "\n",
       "             lng_y    status  \n",
       "1311882 -71.072780  Existing  \n",
       "1452796 -71.118579  Existing  \n",
       "\n",
       "[2 rows x 29 columns]"
      ]
     },
     "execution_count": 10,
     "metadata": {},
     "output_type": "execute_result"
    }
   ],
   "source": [
    "data.sample(2)"
   ]
  },
  {
   "cell_type": "code",
   "execution_count": 11,
   "id": "47fb7cb6",
   "metadata": {},
   "outputs": [
    {
     "data": {
      "text/plain": [
       "Index(['seq_id', 'hubway_id', 'duration', 'start_date', 'strt_statn',\n",
       "       'end_date', 'end_statn', 'bike_nr', 'subsc_type', 'zip_code',\n",
       "       'birth_date', 'gender', 'DATE', 'HPCP', 'Measurement_Flag', 'id_x',\n",
       "       'terminal_x', 'station_x', 'municipal_x', 'lat_x', 'lng_x', 'status_y',\n",
       "       'id_y', 'terminal_y', 'station_y', 'municipal_y', 'lat_y', 'lng_y',\n",
       "       'status'],\n",
       "      dtype='object')"
      ]
     },
     "execution_count": 11,
     "metadata": {},
     "output_type": "execute_result"
    }
   ],
   "source": [
    "data.columns"
   ]
  },
  {
   "cell_type": "code",
   "execution_count": 12,
   "id": "db472ec7",
   "metadata": {},
   "outputs": [],
   "source": [
    "# Rename _x and _y columns for _start and _end respectively\n",
    "\n",
    "data.columns = ['seq_id', 'hubway_id', 'duration', 'start_date', 'strt_statn',\n",
    "       'end_date', 'end_statn', 'bike_nr', 'subsc_type', 'zip_code',\n",
    "       'birth_date', 'gender', 'DATE', 'HPCP', 'Measurement_Flag', 'id_start',\n",
    "       'terminal_start', 'station_start', 'municipal_start', 'lat_start', 'lng_start', 'status_start',\n",
    "       'id_end', 'terminal_end', 'station_end', 'municipal_end', 'lat_end', 'lng_end',\n",
    "       'status_end']"
   ]
  },
  {
   "cell_type": "markdown",
   "id": "4de0b947",
   "metadata": {},
   "source": [
    "## Start Date features extract"
   ]
  },
  {
   "cell_type": "code",
   "execution_count": 13,
   "id": "058004a9",
   "metadata": {},
   "outputs": [],
   "source": [
    "# I will extract month, day of week, hour as this time features can have an impact on the duration\n",
    "\n",
    "data['month']= data['start_date'].dt.month\n",
    "data['day_of_week']= data['start_date'].dt.dayofweek\n",
    "data['hour']= data['start_date'].dt.hour\n",
    "data['weekend']= np.nan\n",
    "data.loc[data['day_of_week']<=4,'weekend'] = 0\n",
    "data.loc[data['day_of_week']>4,'weekend'] = 1\n",
    "data['weekend']=data['weekend'].astype(int)"
   ]
  },
  {
   "cell_type": "code",
   "execution_count": 14,
   "id": "e102e722",
   "metadata": {},
   "outputs": [],
   "source": [
    "# We will extract first letter from the terminal start-\n",
    "# we will see if it contains some predicting power after\n",
    "\n",
    "data['terminal_letter_start'] = data['terminal_start'].apply(lambda x: str(x)[0])"
   ]
  },
  {
   "cell_type": "code",
   "execution_count": 15,
   "id": "eef4c69d",
   "metadata": {},
   "outputs": [
    {
     "data": {
      "text/plain": [
       "D    499409\n",
       "B    328197\n",
       "M    296778\n",
       "C    197082\n",
       "A    195475\n",
       "S     39674\n",
       "K     20603\n",
       "E      1793\n",
       "n        14\n",
       "Name: terminal_letter_start, dtype: int64"
      ]
     },
     "execution_count": 15,
     "metadata": {},
     "output_type": "execute_result"
    }
   ],
   "source": [
    "data.terminal_letter_start.value_counts()"
   ]
  },
  {
   "cell_type": "markdown",
   "id": "188c1284",
   "metadata": {},
   "source": [
    "## Zip code based features "
   ]
  },
  {
   "cell_type": "code",
   "execution_count": 16,
   "id": "98400e31",
   "metadata": {},
   "outputs": [],
   "source": [
    "# We will import dataset with lat long and addresses scraped from web using geopy.\n",
    "# This will help us to calculate approximate distance from the starting station to where the person is living.\n",
    "# We can check if the person is from outside of Boston, outside Massachusets etc.\n",
    "# The scraping code you can find in Zip_codes_info_scraping notebook\n",
    "\n",
    "zip_codes= pd.read_csv('C:\\\\Users\\\\krasi\\\\pyproj\\\\Boston_bike_rides_duration\\\\Boston_zip_codes_info.csv')\n",
    "zip_codes.drop('Unnamed: 0',axis=1, inplace=True)"
   ]
  },
  {
   "cell_type": "code",
   "execution_count": 17,
   "id": "a1ae3644",
   "metadata": {},
   "outputs": [
    {
     "data": {
      "text/html": [
       "<div>\n",
       "<style scoped>\n",
       "    .dataframe tbody tr th:only-of-type {\n",
       "        vertical-align: middle;\n",
       "    }\n",
       "\n",
       "    .dataframe tbody tr th {\n",
       "        vertical-align: top;\n",
       "    }\n",
       "\n",
       "    .dataframe thead th {\n",
       "        text-align: right;\n",
       "    }\n",
       "</style>\n",
       "<table border=\"1\" class=\"dataframe\">\n",
       "  <thead>\n",
       "    <tr style=\"text-align: right;\">\n",
       "      <th></th>\n",
       "      <th>zip_code</th>\n",
       "      <th>address</th>\n",
       "      <th>home_lat</th>\n",
       "      <th>home_long</th>\n",
       "    </tr>\n",
       "  </thead>\n",
       "  <tbody>\n",
       "    <tr>\n",
       "      <th>413</th>\n",
       "      <td>'02319</td>\n",
       "      <td>United States, Via Provinciale Ovest, Mola, Po...</td>\n",
       "      <td>42.762896</td>\n",
       "      <td>10.395024</td>\n",
       "    </tr>\n",
       "    <tr>\n",
       "      <th>234</th>\n",
       "      <td>'01520</td>\n",
       "      <td>Holden, Worcester County, Massachusetts, 01520...</td>\n",
       "      <td>42.344639</td>\n",
       "      <td>-71.850419</td>\n",
       "    </tr>\n",
       "    <tr>\n",
       "      <th>428</th>\n",
       "      <td>'03909</td>\n",
       "      <td>York, York County, Maine, 03909, United States</td>\n",
       "      <td>43.159114</td>\n",
       "      <td>-70.642978</td>\n",
       "    </tr>\n",
       "    <tr>\n",
       "      <th>109</th>\n",
       "      <td>'01178</td>\n",
       "      <td>United States, Via Provinciale Ovest, Mola, Po...</td>\n",
       "      <td>42.762896</td>\n",
       "      <td>10.395024</td>\n",
       "    </tr>\n",
       "    <tr>\n",
       "      <th>15</th>\n",
       "      <td>'02143</td>\n",
       "      <td>Somerville, Middlesex County, Massachusetts, 0...</td>\n",
       "      <td>42.383327</td>\n",
       "      <td>-71.101313</td>\n",
       "    </tr>\n",
       "    <tr>\n",
       "      <th>462</th>\n",
       "      <td>'23103</td>\n",
       "      <td>Goochland County, Virginia, 23103, United States</td>\n",
       "      <td>37.649648</td>\n",
       "      <td>-77.714118</td>\n",
       "    </tr>\n",
       "    <tr>\n",
       "      <th>461</th>\n",
       "      <td>'23456</td>\n",
       "      <td>Virginia Beach, Virginia, 23456, United States</td>\n",
       "      <td>36.755216</td>\n",
       "      <td>-76.064538</td>\n",
       "    </tr>\n",
       "    <tr>\n",
       "      <th>218</th>\n",
       "      <td>'06418</td>\n",
       "      <td>Derby, Naugatuck Valley Planning Region, Conne...</td>\n",
       "      <td>41.323629</td>\n",
       "      <td>-73.079570</td>\n",
       "    </tr>\n",
       "    <tr>\n",
       "      <th>181</th>\n",
       "      <td>'02045</td>\n",
       "      <td>Hull, Plymouth County, Massachusetts, 02045, U...</td>\n",
       "      <td>42.301536</td>\n",
       "      <td>-70.904367</td>\n",
       "    </tr>\n",
       "    <tr>\n",
       "      <th>316</th>\n",
       "      <td>'01534</td>\n",
       "      <td>Northbridge, Worcester County, Massachusetts, ...</td>\n",
       "      <td>42.137374</td>\n",
       "      <td>-71.646948</td>\n",
       "    </tr>\n",
       "  </tbody>\n",
       "</table>\n",
       "</div>"
      ],
      "text/plain": [
       "    zip_code                                            address   home_lat  \\\n",
       "413   '02319  United States, Via Provinciale Ovest, Mola, Po...  42.762896   \n",
       "234   '01520  Holden, Worcester County, Massachusetts, 01520...  42.344639   \n",
       "428   '03909     York, York County, Maine, 03909, United States  43.159114   \n",
       "109   '01178  United States, Via Provinciale Ovest, Mola, Po...  42.762896   \n",
       "15    '02143  Somerville, Middlesex County, Massachusetts, 0...  42.383327   \n",
       "462   '23103   Goochland County, Virginia, 23103, United States  37.649648   \n",
       "461   '23456     Virginia Beach, Virginia, 23456, United States  36.755216   \n",
       "218   '06418  Derby, Naugatuck Valley Planning Region, Conne...  41.323629   \n",
       "181   '02045  Hull, Plymouth County, Massachusetts, 02045, U...  42.301536   \n",
       "316   '01534  Northbridge, Worcester County, Massachusetts, ...  42.137374   \n",
       "\n",
       "     home_long  \n",
       "413  10.395024  \n",
       "234 -71.850419  \n",
       "428 -70.642978  \n",
       "109  10.395024  \n",
       "15  -71.101313  \n",
       "462 -77.714118  \n",
       "461 -76.064538  \n",
       "218 -73.079570  \n",
       "181 -70.904367  \n",
       "316 -71.646948  "
      ]
     },
     "execution_count": 17,
     "metadata": {},
     "output_type": "execute_result"
    }
   ],
   "source": [
    "zip_codes.sample(10)"
   ]
  },
  {
   "cell_type": "code",
   "execution_count": 18,
   "id": "7ed830fa",
   "metadata": {},
   "outputs": [],
   "source": [
    "zip_codes.drop('address', axis=1, inplace=True)"
   ]
  },
  {
   "cell_type": "code",
   "execution_count": 19,
   "id": "8f01e2d3",
   "metadata": {},
   "outputs": [],
   "source": [
    "# We will merge zip_codes info with our main data table\n",
    "data= data.merge(zip_codes, how=\"left\", left_on=\"zip_code\", right_on=\"zip_code\")"
   ]
  },
  {
   "cell_type": "code",
   "execution_count": 20,
   "id": "4ffb5069",
   "metadata": {},
   "outputs": [
    {
     "data": {
      "text/html": [
       "<div>\n",
       "<style scoped>\n",
       "    .dataframe tbody tr th:only-of-type {\n",
       "        vertical-align: middle;\n",
       "    }\n",
       "\n",
       "    .dataframe tbody tr th {\n",
       "        vertical-align: top;\n",
       "    }\n",
       "\n",
       "    .dataframe thead th {\n",
       "        text-align: right;\n",
       "    }\n",
       "</style>\n",
       "<table border=\"1\" class=\"dataframe\">\n",
       "  <thead>\n",
       "    <tr style=\"text-align: right;\">\n",
       "      <th></th>\n",
       "      <th>seq_id</th>\n",
       "      <th>hubway_id</th>\n",
       "      <th>duration</th>\n",
       "      <th>start_date</th>\n",
       "      <th>strt_statn</th>\n",
       "      <th>end_date</th>\n",
       "      <th>end_statn</th>\n",
       "      <th>bike_nr</th>\n",
       "      <th>subsc_type</th>\n",
       "      <th>zip_code</th>\n",
       "      <th>...</th>\n",
       "      <th>lat_end</th>\n",
       "      <th>lng_end</th>\n",
       "      <th>status_end</th>\n",
       "      <th>month</th>\n",
       "      <th>day_of_week</th>\n",
       "      <th>hour</th>\n",
       "      <th>weekend</th>\n",
       "      <th>terminal_letter_start</th>\n",
       "      <th>home_lat</th>\n",
       "      <th>home_long</th>\n",
       "    </tr>\n",
       "  </thead>\n",
       "  <tbody>\n",
       "    <tr>\n",
       "      <th>1020740</th>\n",
       "      <td>1020741</td>\n",
       "      <td>1151569</td>\n",
       "      <td>660</td>\n",
       "      <td>2013-07-18 11:33:00</td>\n",
       "      <td>20.0</td>\n",
       "      <td>2013-07-18 11:44:00</td>\n",
       "      <td>24.0</td>\n",
       "      <td>T01308</td>\n",
       "      <td>Registered</td>\n",
       "      <td>'02124</td>\n",
       "      <td>...</td>\n",
       "      <td>42.351821</td>\n",
       "      <td>-71.045461</td>\n",
       "      <td>Existing</td>\n",
       "      <td>7</td>\n",
       "      <td>3</td>\n",
       "      <td>11</td>\n",
       "      <td>0</td>\n",
       "      <td>B</td>\n",
       "      <td>42.286935</td>\n",
       "      <td>-71.065810</td>\n",
       "    </tr>\n",
       "    <tr>\n",
       "      <th>299620</th>\n",
       "      <td>299621</td>\n",
       "      <td>341256</td>\n",
       "      <td>901</td>\n",
       "      <td>2012-06-26 13:12:00</td>\n",
       "      <td>23.0</td>\n",
       "      <td>2012-06-26 13:27:00</td>\n",
       "      <td>36.0</td>\n",
       "      <td>B00387</td>\n",
       "      <td>Registered</td>\n",
       "      <td>'01760</td>\n",
       "      <td>...</td>\n",
       "      <td>42.349673</td>\n",
       "      <td>-71.077303</td>\n",
       "      <td>Existing</td>\n",
       "      <td>6</td>\n",
       "      <td>1</td>\n",
       "      <td>13</td>\n",
       "      <td>0</td>\n",
       "      <td>B</td>\n",
       "      <td>42.297881</td>\n",
       "      <td>-71.352662</td>\n",
       "    </tr>\n",
       "    <tr>\n",
       "      <th>767757</th>\n",
       "      <td>767758</td>\n",
       "      <td>870235</td>\n",
       "      <td>960</td>\n",
       "      <td>2013-05-10 12:36:00</td>\n",
       "      <td>111.0</td>\n",
       "      <td>2013-05-10 12:52:00</td>\n",
       "      <td>98.0</td>\n",
       "      <td>T01317</td>\n",
       "      <td>Casual</td>\n",
       "      <td>NaN</td>\n",
       "      <td>...</td>\n",
       "      <td>42.371848</td>\n",
       "      <td>-71.060292</td>\n",
       "      <td>Existing</td>\n",
       "      <td>5</td>\n",
       "      <td>4</td>\n",
       "      <td>12</td>\n",
       "      <td>0</td>\n",
       "      <td>D</td>\n",
       "      <td>NaN</td>\n",
       "      <td>NaN</td>\n",
       "    </tr>\n",
       "    <tr>\n",
       "      <th>1333840</th>\n",
       "      <td>1333841</td>\n",
       "      <td>1487792</td>\n",
       "      <td>720</td>\n",
       "      <td>2013-09-24 07:47:00</td>\n",
       "      <td>39.0</td>\n",
       "      <td>2013-09-24 07:59:00</td>\n",
       "      <td>48.0</td>\n",
       "      <td>B00140</td>\n",
       "      <td>Registered</td>\n",
       "      <td>'02118</td>\n",
       "      <td>...</td>\n",
       "      <td>42.356755</td>\n",
       "      <td>-71.055407</td>\n",
       "      <td>Existing</td>\n",
       "      <td>9</td>\n",
       "      <td>1</td>\n",
       "      <td>7</td>\n",
       "      <td>0</td>\n",
       "      <td>C</td>\n",
       "      <td>42.339860</td>\n",
       "      <td>-71.068954</td>\n",
       "    </tr>\n",
       "    <tr>\n",
       "      <th>724557</th>\n",
       "      <td>724558</td>\n",
       "      <td>820554</td>\n",
       "      <td>420</td>\n",
       "      <td>2013-04-26 17:29:00</td>\n",
       "      <td>47.0</td>\n",
       "      <td>2013-04-26 17:36:00</td>\n",
       "      <td>22.0</td>\n",
       "      <td>B00332</td>\n",
       "      <td>Registered</td>\n",
       "      <td>'02043</td>\n",
       "      <td>...</td>\n",
       "      <td>42.352175</td>\n",
       "      <td>-71.055547</td>\n",
       "      <td>Existing</td>\n",
       "      <td>4</td>\n",
       "      <td>4</td>\n",
       "      <td>17</td>\n",
       "      <td>0</td>\n",
       "      <td>D</td>\n",
       "      <td>42.216836</td>\n",
       "      <td>-70.903023</td>\n",
       "    </tr>\n",
       "    <tr>\n",
       "      <th>1140145</th>\n",
       "      <td>1140146</td>\n",
       "      <td>1280699</td>\n",
       "      <td>300</td>\n",
       "      <td>2013-08-14 09:31:00</td>\n",
       "      <td>67.0</td>\n",
       "      <td>2013-08-14 09:36:00</td>\n",
       "      <td>128.0</td>\n",
       "      <td>B00319</td>\n",
       "      <td>Registered</td>\n",
       "      <td>'02139</td>\n",
       "      <td>...</td>\n",
       "      <td>42.362457</td>\n",
       "      <td>-71.084970</td>\n",
       "      <td>Existing</td>\n",
       "      <td>8</td>\n",
       "      <td>2</td>\n",
       "      <td>9</td>\n",
       "      <td>0</td>\n",
       "      <td>M</td>\n",
       "      <td>42.363958</td>\n",
       "      <td>-71.101662</td>\n",
       "    </tr>\n",
       "    <tr>\n",
       "      <th>700743</th>\n",
       "      <td>700744</td>\n",
       "      <td>792856</td>\n",
       "      <td>240</td>\n",
       "      <td>2013-04-16 16:39:00</td>\n",
       "      <td>21.0</td>\n",
       "      <td>2013-04-16 16:43:00</td>\n",
       "      <td>46.0</td>\n",
       "      <td>B00526</td>\n",
       "      <td>Registered</td>\n",
       "      <td>'02115</td>\n",
       "      <td>...</td>\n",
       "      <td>42.343864</td>\n",
       "      <td>-71.085918</td>\n",
       "      <td>Existing</td>\n",
       "      <td>4</td>\n",
       "      <td>1</td>\n",
       "      <td>16</td>\n",
       "      <td>0</td>\n",
       "      <td>C</td>\n",
       "      <td>42.346895</td>\n",
       "      <td>-71.089862</td>\n",
       "    </tr>\n",
       "    <tr>\n",
       "      <th>1191210</th>\n",
       "      <td>1191211</td>\n",
       "      <td>1335447</td>\n",
       "      <td>1680</td>\n",
       "      <td>2013-08-24 13:07:00</td>\n",
       "      <td>67.0</td>\n",
       "      <td>2013-08-24 13:35:00</td>\n",
       "      <td>33.0</td>\n",
       "      <td>T01449</td>\n",
       "      <td>Casual</td>\n",
       "      <td>NaN</td>\n",
       "      <td>...</td>\n",
       "      <td>42.349046</td>\n",
       "      <td>-71.096831</td>\n",
       "      <td>Existing</td>\n",
       "      <td>8</td>\n",
       "      <td>5</td>\n",
       "      <td>13</td>\n",
       "      <td>1</td>\n",
       "      <td>M</td>\n",
       "      <td>NaN</td>\n",
       "      <td>NaN</td>\n",
       "    </tr>\n",
       "    <tr>\n",
       "      <th>22790</th>\n",
       "      <td>22791</td>\n",
       "      <td>25184</td>\n",
       "      <td>711</td>\n",
       "      <td>2011-08-18 21:07:00</td>\n",
       "      <td>5.0</td>\n",
       "      <td>2011-08-18 21:19:00</td>\n",
       "      <td>46.0</td>\n",
       "      <td>B00091</td>\n",
       "      <td>Registered</td>\n",
       "      <td>'02115</td>\n",
       "      <td>...</td>\n",
       "      <td>42.343864</td>\n",
       "      <td>-71.085918</td>\n",
       "      <td>Existing</td>\n",
       "      <td>8</td>\n",
       "      <td>3</td>\n",
       "      <td>21</td>\n",
       "      <td>0</td>\n",
       "      <td>B</td>\n",
       "      <td>42.346895</td>\n",
       "      <td>-71.089862</td>\n",
       "    </tr>\n",
       "    <tr>\n",
       "      <th>1230711</th>\n",
       "      <td>1230712</td>\n",
       "      <td>1377476</td>\n",
       "      <td>0</td>\n",
       "      <td>2013-09-02 13:37:00</td>\n",
       "      <td>78.0</td>\n",
       "      <td>2013-09-02 13:37:00</td>\n",
       "      <td>78.0</td>\n",
       "      <td>B01467</td>\n",
       "      <td>Registered</td>\n",
       "      <td>'02144</td>\n",
       "      <td>...</td>\n",
       "      <td>42.379637</td>\n",
       "      <td>-71.095319</td>\n",
       "      <td>Existing</td>\n",
       "      <td>9</td>\n",
       "      <td>0</td>\n",
       "      <td>13</td>\n",
       "      <td>0</td>\n",
       "      <td>S</td>\n",
       "      <td>42.397094</td>\n",
       "      <td>-71.119030</td>\n",
       "    </tr>\n",
       "  </tbody>\n",
       "</table>\n",
       "<p>10 rows × 36 columns</p>\n",
       "</div>"
      ],
      "text/plain": [
       "          seq_id  hubway_id  duration          start_date  strt_statn  \\\n",
       "1020740  1020741    1151569       660 2013-07-18 11:33:00        20.0   \n",
       "299620    299621     341256       901 2012-06-26 13:12:00        23.0   \n",
       "767757    767758     870235       960 2013-05-10 12:36:00       111.0   \n",
       "1333840  1333841    1487792       720 2013-09-24 07:47:00        39.0   \n",
       "724557    724558     820554       420 2013-04-26 17:29:00        47.0   \n",
       "1140145  1140146    1280699       300 2013-08-14 09:31:00        67.0   \n",
       "700743    700744     792856       240 2013-04-16 16:39:00        21.0   \n",
       "1191210  1191211    1335447      1680 2013-08-24 13:07:00        67.0   \n",
       "22790      22791      25184       711 2011-08-18 21:07:00         5.0   \n",
       "1230711  1230712    1377476         0 2013-09-02 13:37:00        78.0   \n",
       "\n",
       "                   end_date  end_statn bike_nr  subsc_type zip_code  ...  \\\n",
       "1020740 2013-07-18 11:44:00       24.0  T01308  Registered   '02124  ...   \n",
       "299620  2012-06-26 13:27:00       36.0  B00387  Registered   '01760  ...   \n",
       "767757  2013-05-10 12:52:00       98.0  T01317      Casual      NaN  ...   \n",
       "1333840 2013-09-24 07:59:00       48.0  B00140  Registered   '02118  ...   \n",
       "724557  2013-04-26 17:36:00       22.0  B00332  Registered   '02043  ...   \n",
       "1140145 2013-08-14 09:36:00      128.0  B00319  Registered   '02139  ...   \n",
       "700743  2013-04-16 16:43:00       46.0  B00526  Registered   '02115  ...   \n",
       "1191210 2013-08-24 13:35:00       33.0  T01449      Casual      NaN  ...   \n",
       "22790   2011-08-18 21:19:00       46.0  B00091  Registered   '02115  ...   \n",
       "1230711 2013-09-02 13:37:00       78.0  B01467  Registered   '02144  ...   \n",
       "\n",
       "           lat_end    lng_end status_end  month day_of_week  hour weekend  \\\n",
       "1020740  42.351821 -71.045461   Existing      7           3    11       0   \n",
       "299620   42.349673 -71.077303   Existing      6           1    13       0   \n",
       "767757   42.371848 -71.060292   Existing      5           4    12       0   \n",
       "1333840  42.356755 -71.055407   Existing      9           1     7       0   \n",
       "724557   42.352175 -71.055547   Existing      4           4    17       0   \n",
       "1140145  42.362457 -71.084970   Existing      8           2     9       0   \n",
       "700743   42.343864 -71.085918   Existing      4           1    16       0   \n",
       "1191210  42.349046 -71.096831   Existing      8           5    13       1   \n",
       "22790    42.343864 -71.085918   Existing      8           3    21       0   \n",
       "1230711  42.379637 -71.095319   Existing      9           0    13       0   \n",
       "\n",
       "        terminal_letter_start   home_lat  home_long  \n",
       "1020740                     B  42.286935 -71.065810  \n",
       "299620                      B  42.297881 -71.352662  \n",
       "767757                      D        NaN        NaN  \n",
       "1333840                     C  42.339860 -71.068954  \n",
       "724557                      D  42.216836 -70.903023  \n",
       "1140145                     M  42.363958 -71.101662  \n",
       "700743                      C  42.346895 -71.089862  \n",
       "1191210                     M        NaN        NaN  \n",
       "22790                       B  42.346895 -71.089862  \n",
       "1230711                     S  42.397094 -71.119030  \n",
       "\n",
       "[10 rows x 36 columns]"
      ]
     },
     "execution_count": 20,
     "metadata": {},
     "output_type": "execute_result"
    }
   ],
   "source": [
    "data.sample(10)"
   ]
  },
  {
   "cell_type": "code",
   "execution_count": 21,
   "id": "52a3d403",
   "metadata": {},
   "outputs": [],
   "source": [
    "data['home_distance']= np.sqrt(((data['lat_start']- data['home_lat'])**2) + ((data['lng_start']- data['home_long'])**2))"
   ]
  },
  {
   "cell_type": "code",
   "execution_count": 22,
   "id": "c2b4cf45",
   "metadata": {},
   "outputs": [
    {
     "data": {
      "text/html": [
       "<div>\n",
       "<style scoped>\n",
       "    .dataframe tbody tr th:only-of-type {\n",
       "        vertical-align: middle;\n",
       "    }\n",
       "\n",
       "    .dataframe tbody tr th {\n",
       "        vertical-align: top;\n",
       "    }\n",
       "\n",
       "    .dataframe thead th {\n",
       "        text-align: right;\n",
       "    }\n",
       "</style>\n",
       "<table border=\"1\" class=\"dataframe\">\n",
       "  <thead>\n",
       "    <tr style=\"text-align: right;\">\n",
       "      <th></th>\n",
       "      <th>lat_start</th>\n",
       "      <th>lng_start</th>\n",
       "      <th>home_lat</th>\n",
       "      <th>home_long</th>\n",
       "      <th>home_distance</th>\n",
       "      <th>duration</th>\n",
       "    </tr>\n",
       "  </thead>\n",
       "  <tbody>\n",
       "    <tr>\n",
       "      <th>0</th>\n",
       "      <td>42.359677</td>\n",
       "      <td>-71.059364</td>\n",
       "      <td>45.572415</td>\n",
       "      <td>-122.685980</td>\n",
       "      <td>51.726485</td>\n",
       "      <td>9</td>\n",
       "    </tr>\n",
       "    <tr>\n",
       "      <th>1</th>\n",
       "      <td>42.359677</td>\n",
       "      <td>-71.059364</td>\n",
       "      <td>42.348072</td>\n",
       "      <td>-71.102231</td>\n",
       "      <td>0.044410</td>\n",
       "      <td>220</td>\n",
       "    </tr>\n",
       "    <tr>\n",
       "      <th>2</th>\n",
       "      <td>42.359677</td>\n",
       "      <td>-71.059364</td>\n",
       "      <td>42.357587</td>\n",
       "      <td>-71.065927</td>\n",
       "      <td>0.006887</td>\n",
       "      <td>56</td>\n",
       "    </tr>\n",
       "    <tr>\n",
       "      <th>3</th>\n",
       "      <td>42.359677</td>\n",
       "      <td>-71.059364</td>\n",
       "      <td>42.351139</td>\n",
       "      <td>-71.076505</td>\n",
       "      <td>0.019149</td>\n",
       "      <td>64</td>\n",
       "    </tr>\n",
       "    <tr>\n",
       "      <th>4</th>\n",
       "      <td>42.359677</td>\n",
       "      <td>-71.059364</td>\n",
       "      <td>45.514218</td>\n",
       "      <td>-122.638583</td>\n",
       "      <td>51.675593</td>\n",
       "      <td>12</td>\n",
       "    </tr>\n",
       "    <tr>\n",
       "      <th>...</th>\n",
       "      <td>...</td>\n",
       "      <td>...</td>\n",
       "      <td>...</td>\n",
       "      <td>...</td>\n",
       "      <td>...</td>\n",
       "      <td>...</td>\n",
       "    </tr>\n",
       "    <tr>\n",
       "      <th>1579020</th>\n",
       "      <td>42.376369</td>\n",
       "      <td>-71.114025</td>\n",
       "      <td>42.371329</td>\n",
       "      <td>-71.082967</td>\n",
       "      <td>0.031465</td>\n",
       "      <td>720</td>\n",
       "    </tr>\n",
       "    <tr>\n",
       "      <th>1579021</th>\n",
       "      <td>42.358100</td>\n",
       "      <td>-71.093198</td>\n",
       "      <td>42.383327</td>\n",
       "      <td>-71.101313</td>\n",
       "      <td>0.026500</td>\n",
       "      <td>480</td>\n",
       "    </tr>\n",
       "    <tr>\n",
       "      <th>1579022</th>\n",
       "      <td>42.387995</td>\n",
       "      <td>-71.119084</td>\n",
       "      <td>NaN</td>\n",
       "      <td>NaN</td>\n",
       "      <td>NaN</td>\n",
       "      <td>540</td>\n",
       "    </tr>\n",
       "    <tr>\n",
       "      <th>1579023</th>\n",
       "      <td>42.366426</td>\n",
       "      <td>-71.105495</td>\n",
       "      <td>42.371329</td>\n",
       "      <td>-71.082967</td>\n",
       "      <td>0.023056</td>\n",
       "      <td>120</td>\n",
       "    </tr>\n",
       "    <tr>\n",
       "      <th>1579024</th>\n",
       "      <td>42.365070</td>\n",
       "      <td>-71.103100</td>\n",
       "      <td>42.383327</td>\n",
       "      <td>-71.101313</td>\n",
       "      <td>0.018344</td>\n",
       "      <td>420</td>\n",
       "    </tr>\n",
       "  </tbody>\n",
       "</table>\n",
       "<p>1579025 rows × 6 columns</p>\n",
       "</div>"
      ],
      "text/plain": [
       "         lat_start  lng_start   home_lat   home_long  home_distance  duration\n",
       "0        42.359677 -71.059364  45.572415 -122.685980      51.726485         9\n",
       "1        42.359677 -71.059364  42.348072  -71.102231       0.044410       220\n",
       "2        42.359677 -71.059364  42.357587  -71.065927       0.006887        56\n",
       "3        42.359677 -71.059364  42.351139  -71.076505       0.019149        64\n",
       "4        42.359677 -71.059364  45.514218 -122.638583      51.675593        12\n",
       "...            ...        ...        ...         ...            ...       ...\n",
       "1579020  42.376369 -71.114025  42.371329  -71.082967       0.031465       720\n",
       "1579021  42.358100 -71.093198  42.383327  -71.101313       0.026500       480\n",
       "1579022  42.387995 -71.119084        NaN         NaN            NaN       540\n",
       "1579023  42.366426 -71.105495  42.371329  -71.082967       0.023056       120\n",
       "1579024  42.365070 -71.103100  42.383327  -71.101313       0.018344       420\n",
       "\n",
       "[1579025 rows x 6 columns]"
      ]
     },
     "execution_count": 22,
     "metadata": {},
     "output_type": "execute_result"
    }
   ],
   "source": [
    "data[['lat_start', 'lng_start', 'home_lat', 'home_long', 'home_distance', 'duration']]"
   ]
  },
  {
   "cell_type": "code",
   "execution_count": 23,
   "id": "e9f55a5c",
   "metadata": {},
   "outputs": [],
   "source": [
    "data['log_home_distance']=np.log(data['home_distance'])"
   ]
  },
  {
   "cell_type": "code",
   "execution_count": 24,
   "id": "ebd3e108",
   "metadata": {},
   "outputs": [
    {
     "data": {
      "text/plain": [
       "<Axes: xlabel='log_home_distance', ylabel='Density'>"
      ]
     },
     "execution_count": 24,
     "metadata": {},
     "output_type": "execute_result"
    },
    {
     "data": {
      "image/png": "[encoded data removed]",
      "text/plain": [
       "<Figure size 640x480 with 1 Axes>"
      ]
     },
     "metadata": {},
     "output_type": "display_data"
    }
   ],
   "source": [
    "sns.kdeplot(data=data, x='log_home_distance')"
   ]
  },
  {
   "cell_type": "code",
   "execution_count": 25,
   "id": "44fe663c",
   "metadata": {},
   "outputs": [
    {
     "data": {
      "text/plain": [
       "<seaborn.axisgrid.JointGrid at 0x1828b0dc5e0>"
      ]
     },
     "execution_count": 25,
     "metadata": {},
     "output_type": "execute_result"
    },
    {
     "data": {
      "image/png": "[encoded data removed]",
      "text/plain": [
       "<Figure size 600x600 with 3 Axes>"
      ]
     },
     "metadata": {},
     "output_type": "display_data"
    }
   ],
   "source": [
    "sns.jointplot(data=data[(data.duration<2500) & (data.duration>0)].sample(frac=0.1), x='log_home_distance', y='duration', kind='reg')"
   ]
  },
  {
   "cell_type": "code",
   "execution_count": 26,
   "id": "212c1d5c",
   "metadata": {},
   "outputs": [],
   "source": [
    "# Now as we have all the data merged together we can start to clean up the data.\n",
    "# We can get rid of some duplicate columns and unique id columns, these will \n",
    "# be not good predictive features\n",
    "\n",
    "data.drop(['seq_id', 'hubway_id', 'id_start', 'id_end', 'zip_code', 'end_date',\n",
    "           'station_start', 'station_end', 'municipal_end', 'municipal_start', 'status_start',\n",
    "          'status_end'],axis=1, inplace=True)"
   ]
  },
  {
   "cell_type": "code",
   "execution_count": 27,
   "id": "10cf579d",
   "metadata": {},
   "outputs": [
    {
     "data": {
      "text/html": [
       "<div>\n",
       "<style scoped>\n",
       "    .dataframe tbody tr th:only-of-type {\n",
       "        vertical-align: middle;\n",
       "    }\n",
       "\n",
       "    .dataframe tbody tr th {\n",
       "        vertical-align: top;\n",
       "    }\n",
       "\n",
       "    .dataframe thead th {\n",
       "        text-align: right;\n",
       "    }\n",
       "</style>\n",
       "<table border=\"1\" class=\"dataframe\">\n",
       "  <thead>\n",
       "    <tr style=\"text-align: right;\">\n",
       "      <th></th>\n",
       "      <th>duration</th>\n",
       "      <th>start_date</th>\n",
       "      <th>strt_statn</th>\n",
       "      <th>end_statn</th>\n",
       "      <th>bike_nr</th>\n",
       "      <th>subsc_type</th>\n",
       "      <th>birth_date</th>\n",
       "      <th>gender</th>\n",
       "      <th>DATE</th>\n",
       "      <th>HPCP</th>\n",
       "      <th>Measurement_Flag</th>\n",
       "      <th>terminal_start</th>\n",
       "      <th>lat_start</th>\n",
       "      <th>lng_start</th>\n",
       "      <th>terminal_end</th>\n",
       "    </tr>\n",
       "  </thead>\n",
       "  <tbody>\n",
       "    <tr>\n",
       "      <th>0</th>\n",
       "      <td>9</td>\n",
       "      <td>2011-07-28 10:12:00</td>\n",
       "      <td>23.0</td>\n",
       "      <td>23.0</td>\n",
       "      <td>B00468</td>\n",
       "      <td>Registered</td>\n",
       "      <td>1976.0</td>\n",
       "      <td>Male</td>\n",
       "      <td>2011-07-28 10:00</td>\n",
       "      <td>NaN</td>\n",
       "      <td>NaN</td>\n",
       "      <td>B32008</td>\n",
       "      <td>42.359677</td>\n",
       "      <td>-71.059364</td>\n",
       "      <td>B32008</td>\n",
       "    </tr>\n",
       "    <tr>\n",
       "      <th>1</th>\n",
       "      <td>220</td>\n",
       "      <td>2011-07-28 10:21:00</td>\n",
       "      <td>23.0</td>\n",
       "      <td>23.0</td>\n",
       "      <td>B00554</td>\n",
       "      <td>Registered</td>\n",
       "      <td>1966.0</td>\n",
       "      <td>Male</td>\n",
       "      <td>2011-07-28 10:00</td>\n",
       "      <td>NaN</td>\n",
       "      <td>NaN</td>\n",
       "      <td>B32008</td>\n",
       "      <td>42.359677</td>\n",
       "      <td>-71.059364</td>\n",
       "      <td>B32008</td>\n",
       "    </tr>\n",
       "    <tr>\n",
       "      <th>2</th>\n",
       "      <td>56</td>\n",
       "      <td>2011-07-28 10:33:00</td>\n",
       "      <td>23.0</td>\n",
       "      <td>23.0</td>\n",
       "      <td>B00456</td>\n",
       "      <td>Registered</td>\n",
       "      <td>1943.0</td>\n",
       "      <td>Male</td>\n",
       "      <td>2011-07-28 10:00</td>\n",
       "      <td>NaN</td>\n",
       "      <td>NaN</td>\n",
       "      <td>B32008</td>\n",
       "      <td>42.359677</td>\n",
       "      <td>-71.059364</td>\n",
       "      <td>B32008</td>\n",
       "    </tr>\n",
       "    <tr>\n",
       "      <th>3</th>\n",
       "      <td>64</td>\n",
       "      <td>2011-07-28 10:35:00</td>\n",
       "      <td>23.0</td>\n",
       "      <td>23.0</td>\n",
       "      <td>B00554</td>\n",
       "      <td>Registered</td>\n",
       "      <td>1981.0</td>\n",
       "      <td>Female</td>\n",
       "      <td>2011-07-28 10:00</td>\n",
       "      <td>NaN</td>\n",
       "      <td>NaN</td>\n",
       "      <td>B32008</td>\n",
       "      <td>42.359677</td>\n",
       "      <td>-71.059364</td>\n",
       "      <td>B32008</td>\n",
       "    </tr>\n",
       "    <tr>\n",
       "      <th>4</th>\n",
       "      <td>12</td>\n",
       "      <td>2011-07-28 10:37:00</td>\n",
       "      <td>23.0</td>\n",
       "      <td>23.0</td>\n",
       "      <td>B00554</td>\n",
       "      <td>Registered</td>\n",
       "      <td>1983.0</td>\n",
       "      <td>Female</td>\n",
       "      <td>2011-07-28 10:00</td>\n",
       "      <td>NaN</td>\n",
       "      <td>NaN</td>\n",
       "      <td>B32008</td>\n",
       "      <td>42.359677</td>\n",
       "      <td>-71.059364</td>\n",
       "      <td>B32008</td>\n",
       "    </tr>\n",
       "  </tbody>\n",
       "</table>\n",
       "</div>"
      ],
      "text/plain": [
       "   duration          start_date  strt_statn  end_statn bike_nr  subsc_type  \\\n",
       "0         9 2011-07-28 10:12:00        23.0       23.0  B00468  Registered   \n",
       "1       220 2011-07-28 10:21:00        23.0       23.0  B00554  Registered   \n",
       "2        56 2011-07-28 10:33:00        23.0       23.0  B00456  Registered   \n",
       "3        64 2011-07-28 10:35:00        23.0       23.0  B00554  Registered   \n",
       "4        12 2011-07-28 10:37:00        23.0       23.0  B00554  Registered   \n",
       "\n",
       "   birth_date  gender              DATE  HPCP Measurement_Flag terminal_start  \\\n",
       "0      1976.0    Male  2011-07-28 10:00   NaN              NaN         B32008   \n",
       "1      1966.0    Male  2011-07-28 10:00   NaN              NaN         B32008   \n",
       "2      1943.0    Male  2011-07-28 10:00   NaN              NaN         B32008   \n",
       "3      1981.0  Female  2011-07-28 10:00   NaN              NaN         B32008   \n",
       "4      1983.0  Female  2011-07-28 10:00   NaN              NaN         B32008   \n",
       "\n",
       "   lat_start  lng_start terminal_end  \n",
       "0  42.359677 -71.059364       B32008  \n",
       "1  42.359677 -71.059364       B32008  \n",
       "2  42.359677 -71.059364       B32008  \n",
       "3  42.359677 -71.059364       B32008  \n",
       "4  42.359677 -71.059364       B32008  "
      ]
     },
     "execution_count": 27,
     "metadata": {},
     "output_type": "execute_result"
    }
   ],
   "source": [
    "data.iloc[:5,:15]"
   ]
  },
  {
   "cell_type": "code",
   "execution_count": 28,
   "id": "4bce44c4",
   "metadata": {},
   "outputs": [
    {
     "data": {
      "text/html": [
       "<div>\n",
       "<style scoped>\n",
       "    .dataframe tbody tr th:only-of-type {\n",
       "        vertical-align: middle;\n",
       "    }\n",
       "\n",
       "    .dataframe tbody tr th {\n",
       "        vertical-align: top;\n",
       "    }\n",
       "\n",
       "    .dataframe thead th {\n",
       "        text-align: right;\n",
       "    }\n",
       "</style>\n",
       "<table border=\"1\" class=\"dataframe\">\n",
       "  <thead>\n",
       "    <tr style=\"text-align: right;\">\n",
       "      <th></th>\n",
       "      <th>lat_end</th>\n",
       "      <th>lng_end</th>\n",
       "      <th>month</th>\n",
       "      <th>day_of_week</th>\n",
       "      <th>hour</th>\n",
       "      <th>weekend</th>\n",
       "      <th>terminal_letter_start</th>\n",
       "      <th>home_lat</th>\n",
       "      <th>home_long</th>\n",
       "      <th>home_distance</th>\n",
       "      <th>log_home_distance</th>\n",
       "    </tr>\n",
       "  </thead>\n",
       "  <tbody>\n",
       "    <tr>\n",
       "      <th>0</th>\n",
       "      <td>42.359677</td>\n",
       "      <td>-71.059364</td>\n",
       "      <td>7</td>\n",
       "      <td>3</td>\n",
       "      <td>10</td>\n",
       "      <td>0</td>\n",
       "      <td>B</td>\n",
       "      <td>45.572415</td>\n",
       "      <td>-122.685980</td>\n",
       "      <td>51.726485</td>\n",
       "      <td>3.945970</td>\n",
       "    </tr>\n",
       "    <tr>\n",
       "      <th>1</th>\n",
       "      <td>42.359677</td>\n",
       "      <td>-71.059364</td>\n",
       "      <td>7</td>\n",
       "      <td>3</td>\n",
       "      <td>10</td>\n",
       "      <td>0</td>\n",
       "      <td>B</td>\n",
       "      <td>42.348072</td>\n",
       "      <td>-71.102231</td>\n",
       "      <td>0.044410</td>\n",
       "      <td>-3.114288</td>\n",
       "    </tr>\n",
       "    <tr>\n",
       "      <th>2</th>\n",
       "      <td>42.359677</td>\n",
       "      <td>-71.059364</td>\n",
       "      <td>7</td>\n",
       "      <td>3</td>\n",
       "      <td>10</td>\n",
       "      <td>0</td>\n",
       "      <td>B</td>\n",
       "      <td>42.357587</td>\n",
       "      <td>-71.065927</td>\n",
       "      <td>0.006887</td>\n",
       "      <td>-4.978050</td>\n",
       "    </tr>\n",
       "    <tr>\n",
       "      <th>3</th>\n",
       "      <td>42.359677</td>\n",
       "      <td>-71.059364</td>\n",
       "      <td>7</td>\n",
       "      <td>3</td>\n",
       "      <td>10</td>\n",
       "      <td>0</td>\n",
       "      <td>B</td>\n",
       "      <td>42.351139</td>\n",
       "      <td>-71.076505</td>\n",
       "      <td>0.019149</td>\n",
       "      <td>-3.955497</td>\n",
       "    </tr>\n",
       "    <tr>\n",
       "      <th>4</th>\n",
       "      <td>42.359677</td>\n",
       "      <td>-71.059364</td>\n",
       "      <td>7</td>\n",
       "      <td>3</td>\n",
       "      <td>10</td>\n",
       "      <td>0</td>\n",
       "      <td>B</td>\n",
       "      <td>45.514218</td>\n",
       "      <td>-122.638583</td>\n",
       "      <td>51.675593</td>\n",
       "      <td>3.944986</td>\n",
       "    </tr>\n",
       "  </tbody>\n",
       "</table>\n",
       "</div>"
      ],
      "text/plain": [
       "     lat_end    lng_end  month  day_of_week  hour  weekend  \\\n",
       "0  42.359677 -71.059364      7            3    10        0   \n",
       "1  42.359677 -71.059364      7            3    10        0   \n",
       "2  42.359677 -71.059364      7            3    10        0   \n",
       "3  42.359677 -71.059364      7            3    10        0   \n",
       "4  42.359677 -71.059364      7            3    10        0   \n",
       "\n",
       "  terminal_letter_start   home_lat   home_long  home_distance  \\\n",
       "0                     B  45.572415 -122.685980      51.726485   \n",
       "1                     B  42.348072  -71.102231       0.044410   \n",
       "2                     B  42.357587  -71.065927       0.006887   \n",
       "3                     B  42.351139  -71.076505       0.019149   \n",
       "4                     B  45.514218 -122.638583      51.675593   \n",
       "\n",
       "   log_home_distance  \n",
       "0           3.945970  \n",
       "1          -3.114288  \n",
       "2          -4.978050  \n",
       "3          -3.955497  \n",
       "4           3.944986  "
      ]
     },
     "execution_count": 28,
     "metadata": {},
     "output_type": "execute_result"
    }
   ],
   "source": [
    "data.iloc[:5,15:]"
   ]
  },
  {
   "cell_type": "markdown",
   "id": "7c311d17",
   "metadata": {},
   "source": [
    "#### Checking missing values"
   ]
  },
  {
   "cell_type": "code",
   "execution_count": 29,
   "id": "cdebdb75",
   "metadata": {},
   "outputs": [
    {
     "data": {
      "text/plain": [
       "duration                       0\n",
       "start_date                     0\n",
       "strt_statn                    14\n",
       "end_statn                     45\n",
       "bike_nr                      466\n",
       "subsc_type                     0\n",
       "birth_date               1228381\n",
       "gender                    472611\n",
       "DATE                           0\n",
       "HPCP                     1485871\n",
       "Measurement_Flag         1485871\n",
       "terminal_start                14\n",
       "lat_start                     14\n",
       "lng_start                     14\n",
       "terminal_end                  45\n",
       "lat_end                       45\n",
       "lng_end                       45\n",
       "month                          0\n",
       "day_of_week                    0\n",
       "hour                           0\n",
       "weekend                        0\n",
       "terminal_letter_start          0\n",
       "home_lat                  472766\n",
       "home_long                 472766\n",
       "home_distance             472780\n",
       "log_home_distance         472780\n",
       "dtype: int64"
      ]
     },
     "execution_count": 29,
     "metadata": {},
     "output_type": "execute_result"
    }
   ],
   "source": [
    "data.isna().sum()"
   ]
  },
  {
   "cell_type": "markdown",
   "id": "2f481011",
   "metadata": {},
   "source": [
    "#### We see in the above that there are couple missing values in some columns, we can drop the rows where they are missing, it will not impact the model performance as these rows are very small subset of our data, we will drop the rows where status_end, status_start or bike_nr is NA value."
   ]
  },
  {
   "cell_type": "code",
   "execution_count": 30,
   "id": "167d8c32",
   "metadata": {},
   "outputs": [],
   "source": [
    "data.dropna(axis=0, subset=['strt_statn', 'end_statn', 'bike_nr'], inplace=True)"
   ]
  },
  {
   "cell_type": "code",
   "execution_count": 31,
   "id": "8c8feb26",
   "metadata": {
    "scrolled": true
   },
   "outputs": [
    {
     "data": {
      "text/plain": [
       "duration                       0\n",
       "start_date                     0\n",
       "strt_statn                     0\n",
       "end_statn                      0\n",
       "bike_nr                        0\n",
       "subsc_type                     0\n",
       "birth_date               1228105\n",
       "gender                    472341\n",
       "DATE                           0\n",
       "HPCP                     1485392\n",
       "Measurement_Flag         1485392\n",
       "terminal_start                 0\n",
       "lat_start                      0\n",
       "lng_start                      0\n",
       "terminal_end                   0\n",
       "lat_end                        0\n",
       "lng_end                        0\n",
       "month                          0\n",
       "day_of_week                    0\n",
       "hour                           0\n",
       "weekend                        0\n",
       "terminal_letter_start          0\n",
       "home_lat                  472496\n",
       "home_long                 472496\n",
       "home_distance             472496\n",
       "log_home_distance         472496\n",
       "dtype: int64"
      ]
     },
     "execution_count": 31,
     "metadata": {},
     "output_type": "execute_result"
    }
   ],
   "source": [
    "# We are left with four columns to clean up \n",
    "\n",
    "data.isna().sum()"
   ]
  },
  {
   "cell_type": "code",
   "execution_count": 32,
   "id": "ea2d60fc",
   "metadata": {},
   "outputs": [],
   "source": [
    "# For the HPCP  we will fill 0 in the precipitation measure as based on documentation \n",
    "# hours with no precipitation are not shown.\n",
    "\n",
    "data['HPCP']= data['HPCP'].fillna(0)"
   ]
  },
  {
   "cell_type": "code",
   "execution_count": 33,
   "id": "b6d002b8",
   "metadata": {},
   "outputs": [
    {
     "data": {
      "text/plain": [
       "T    56362\n",
       "     36468\n",
       "g      286\n",
       "Name: Measurement_Flag, dtype: int64"
      ]
     },
     "execution_count": 33,
     "metadata": {},
     "output_type": "execute_result"
    }
   ],
   "source": [
    "# Let's check how many unique values we have in the measurement flag column\n",
    "\n",
    "data.Measurement_Flag.value_counts()"
   ]
  },
  {
   "cell_type": "code",
   "execution_count": 34,
   "id": "380a7886",
   "metadata": {},
   "outputs": [],
   "source": [
    "# We will create another column 'Rain' \n",
    "# from the HPCP column to indcate whether it was raining or not during the bike trip\n",
    "\n",
    "data['Rain'] = data['HPCP'].apply(lambda x: x>0).astype(int)\n",
    "\n",
    "# T value is indicating trace precipitation less than 0.01. We will feed Rain column with that info\n",
    "# assigning value 1 wherever there is a T flag in a row.\n",
    "\n",
    "data.loc[data.Measurement_Flag=='T', 'Rain'] = 1"
   ]
  },
  {
   "cell_type": "code",
   "execution_count": 35,
   "id": "02ad6a4a",
   "metadata": {},
   "outputs": [],
   "source": [
    "# Now we can drop the column Measurement flag as info about that is in the HPCP column.\n",
    "\n",
    "data.drop(['Measurement_Flag'], axis=1, inplace=True)"
   ]
  },
  {
   "cell_type": "code",
   "execution_count": 36,
   "id": "c452d150",
   "metadata": {},
   "outputs": [],
   "source": [
    "#For gender column we will fill NA values by \"Unknown\" string, I don't want to drop this column as \n",
    "# it can be a good predictor\n",
    "\n",
    "data['gender']= data['gender'].fillna(\"Unknown\")"
   ]
  },
  {
   "cell_type": "code",
   "execution_count": 37,
   "id": "52f54bde",
   "metadata": {},
   "outputs": [
    {
     "data": {
      "text/plain": [
       "duration                       0\n",
       "start_date                     0\n",
       "strt_statn                     0\n",
       "end_statn                      0\n",
       "bike_nr                        0\n",
       "subsc_type                     0\n",
       "birth_date               1228105\n",
       "gender                         0\n",
       "DATE                           0\n",
       "HPCP                           0\n",
       "terminal_start                 0\n",
       "lat_start                      0\n",
       "lng_start                      0\n",
       "terminal_end                   0\n",
       "lat_end                        0\n",
       "lng_end                        0\n",
       "month                          0\n",
       "day_of_week                    0\n",
       "hour                           0\n",
       "weekend                        0\n",
       "terminal_letter_start          0\n",
       "home_lat                  472496\n",
       "home_long                 472496\n",
       "home_distance             472496\n",
       "log_home_distance         472496\n",
       "Rain                           0\n",
       "dtype: int64"
      ]
     },
     "execution_count": 37,
     "metadata": {},
     "output_type": "execute_result"
    }
   ],
   "source": [
    "data.isna().sum()"
   ]
  },
  {
   "cell_type": "code",
   "execution_count": 38,
   "id": "098b7899",
   "metadata": {},
   "outputs": [
    {
     "data": {
      "text/html": [
       "<div>\n",
       "<style scoped>\n",
       "    .dataframe tbody tr th:only-of-type {\n",
       "        vertical-align: middle;\n",
       "    }\n",
       "\n",
       "    .dataframe tbody tr th {\n",
       "        vertical-align: top;\n",
       "    }\n",
       "\n",
       "    .dataframe thead th {\n",
       "        text-align: right;\n",
       "    }\n",
       "</style>\n",
       "<table border=\"1\" class=\"dataframe\">\n",
       "  <thead>\n",
       "    <tr style=\"text-align: right;\">\n",
       "      <th></th>\n",
       "      <th>year</th>\n",
       "      <th>birth_date</th>\n",
       "      <th>age</th>\n",
       "    </tr>\n",
       "  </thead>\n",
       "  <tbody>\n",
       "    <tr>\n",
       "      <th>0</th>\n",
       "      <td>2011</td>\n",
       "      <td>1976.0</td>\n",
       "      <td>35.0</td>\n",
       "    </tr>\n",
       "    <tr>\n",
       "      <th>1</th>\n",
       "      <td>2011</td>\n",
       "      <td>1966.0</td>\n",
       "      <td>45.0</td>\n",
       "    </tr>\n",
       "    <tr>\n",
       "      <th>2</th>\n",
       "      <td>2011</td>\n",
       "      <td>1943.0</td>\n",
       "      <td>68.0</td>\n",
       "    </tr>\n",
       "    <tr>\n",
       "      <th>3</th>\n",
       "      <td>2011</td>\n",
       "      <td>1981.0</td>\n",
       "      <td>30.0</td>\n",
       "    </tr>\n",
       "    <tr>\n",
       "      <th>4</th>\n",
       "      <td>2011</td>\n",
       "      <td>1983.0</td>\n",
       "      <td>28.0</td>\n",
       "    </tr>\n",
       "    <tr>\n",
       "      <th>...</th>\n",
       "      <td>...</td>\n",
       "      <td>...</td>\n",
       "      <td>...</td>\n",
       "    </tr>\n",
       "    <tr>\n",
       "      <th>1579020</th>\n",
       "      <td>2013</td>\n",
       "      <td>NaN</td>\n",
       "      <td>NaN</td>\n",
       "    </tr>\n",
       "    <tr>\n",
       "      <th>1579021</th>\n",
       "      <td>2013</td>\n",
       "      <td>NaN</td>\n",
       "      <td>NaN</td>\n",
       "    </tr>\n",
       "    <tr>\n",
       "      <th>1579022</th>\n",
       "      <td>2013</td>\n",
       "      <td>NaN</td>\n",
       "      <td>NaN</td>\n",
       "    </tr>\n",
       "    <tr>\n",
       "      <th>1579023</th>\n",
       "      <td>2013</td>\n",
       "      <td>NaN</td>\n",
       "      <td>NaN</td>\n",
       "    </tr>\n",
       "    <tr>\n",
       "      <th>1579024</th>\n",
       "      <td>2013</td>\n",
       "      <td>NaN</td>\n",
       "      <td>NaN</td>\n",
       "    </tr>\n",
       "  </tbody>\n",
       "</table>\n",
       "<p>1578508 rows × 3 columns</p>\n",
       "</div>"
      ],
      "text/plain": [
       "         year  birth_date   age\n",
       "0        2011      1976.0  35.0\n",
       "1        2011      1966.0  45.0\n",
       "2        2011      1943.0  68.0\n",
       "3        2011      1981.0  30.0\n",
       "4        2011      1983.0  28.0\n",
       "...       ...         ...   ...\n",
       "1579020  2013         NaN   NaN\n",
       "1579021  2013         NaN   NaN\n",
       "1579022  2013         NaN   NaN\n",
       "1579023  2013         NaN   NaN\n",
       "1579024  2013         NaN   NaN\n",
       "\n",
       "[1578508 rows x 3 columns]"
      ]
     },
     "execution_count": 38,
     "metadata": {},
     "output_type": "execute_result"
    }
   ],
   "source": [
    "# We will create age feature from birth_date\n",
    "\n",
    "data['year']= data['start_date'].dt.year.astype(int)\n",
    "data['age']= data['year'] - data['birth_date']\n",
    "data[['year', 'birth_date', 'age']]"
   ]
  },
  {
   "cell_type": "code",
   "execution_count": 39,
   "id": "6008167c",
   "metadata": {},
   "outputs": [
    {
     "data": {
      "text/plain": [
       "<Axes: xlabel='age', ylabel='duration'>"
      ]
     },
     "execution_count": 39,
     "metadata": {},
     "output_type": "execute_result"
    },
    {
     "data": {
      "image/png": "[encoded data removed]",
      "text/plain": [
       "<Figure size 640x480 with 1 Axes>"
      ]
     },
     "metadata": {},
     "output_type": "display_data"
    }
   ],
   "source": [
    "sns.lineplot(data=data[data.duration<2500], x='age', y='duration')"
   ]
  },
  {
   "cell_type": "code",
   "execution_count": 40,
   "id": "0552b652",
   "metadata": {},
   "outputs": [],
   "source": [
    "# We will create age category feature \n",
    "data['age_cat']= pd.qcut(data.age, 6)\n"
   ]
  },
  {
   "cell_type": "code",
   "execution_count": 41,
   "id": "e7cee402",
   "metadata": {
    "scrolled": true
   },
   "outputs": [
    {
     "data": {
      "text/plain": [
       "(25.0, 29.0]      69941\n",
       "(16.999, 25.0]    63871\n",
       "(32.0, 39.0]      63371\n",
       "(48.0, 79.0]      55670\n",
       "(39.0, 48.0]      54724\n",
       "(29.0, 32.0]      42826\n",
       "Name: age_cat, dtype: int64"
      ]
     },
     "execution_count": 41,
     "metadata": {},
     "output_type": "execute_result"
    }
   ],
   "source": [
    "data.age_cat.value_counts()"
   ]
  },
  {
   "cell_type": "code",
   "execution_count": 42,
   "id": "e2a177b6",
   "metadata": {},
   "outputs": [],
   "source": [
    "# We create a feature that will derive the first letter from the Bike number, \n",
    "# we will then see what predictive power it will have\n",
    "\n",
    "data['bike_id']= data.bike_nr.apply(lambda x: str(x)[0])"
   ]
  },
  {
   "cell_type": "code",
   "execution_count": 43,
   "id": "07709780",
   "metadata": {},
   "outputs": [],
   "source": [
    "# We will create another column to check if person is subscribed or not\n",
    "\n",
    "def registered(x):\n",
    "    if x=='Registered':\n",
    "        return 1\n",
    "    else:\n",
    "        return 0\n",
    "\n",
    "data['subscription'] = data['subsc_type'].apply(registered)"
   ]
  },
  {
   "cell_type": "code",
   "execution_count": 44,
   "id": "7f1eb501",
   "metadata": {},
   "outputs": [],
   "source": [
    "# Change below two columns into categorical type\n",
    "cat_cols=['strt_statn','terminal_letter_start','month', 'hour', 'day_of_week']\n",
    "\n",
    "for col in cat_cols:\n",
    "    pd.Categorical(data[col])"
   ]
  },
  {
   "cell_type": "code",
   "execution_count": 45,
   "id": "905dac4d",
   "metadata": {},
   "outputs": [],
   "source": [
    "data['terminal_letter_start']= data['terminal_letter_start'].astype('category')"
   ]
  },
  {
   "cell_type": "code",
   "execution_count": 46,
   "id": "d1b2daf2",
   "metadata": {},
   "outputs": [],
   "source": [
    "# We can drop columns that we don't need anymore\n",
    "\n",
    "data.drop(['bike_nr', 'subsc_type', 'lat_start', 'home_lat', 'home_long',\n",
    "           'lng_start', 'lat_end', 'lng_end', 'terminal_end', 'end_statn',\n",
    "           'terminal_start', 'HPCP', 'year', 'age', 'birth_date', 'start_date', 'DATE'], axis=1, inplace=True)"
   ]
  },
  {
   "cell_type": "code",
   "execution_count": 47,
   "id": "35279d4e",
   "metadata": {},
   "outputs": [
    {
     "data": {
      "text/html": [
       "<div>\n",
       "<style scoped>\n",
       "    .dataframe tbody tr th:only-of-type {\n",
       "        vertical-align: middle;\n",
       "    }\n",
       "\n",
       "    .dataframe tbody tr th {\n",
       "        vertical-align: top;\n",
       "    }\n",
       "\n",
       "    .dataframe thead th {\n",
       "        text-align: right;\n",
       "    }\n",
       "</style>\n",
       "<table border=\"1\" class=\"dataframe\">\n",
       "  <thead>\n",
       "    <tr style=\"text-align: right;\">\n",
       "      <th></th>\n",
       "      <th>duration</th>\n",
       "      <th>strt_statn</th>\n",
       "      <th>gender</th>\n",
       "      <th>month</th>\n",
       "      <th>day_of_week</th>\n",
       "      <th>hour</th>\n",
       "      <th>weekend</th>\n",
       "      <th>terminal_letter_start</th>\n",
       "      <th>home_distance</th>\n",
       "      <th>log_home_distance</th>\n",
       "      <th>Rain</th>\n",
       "      <th>age_cat</th>\n",
       "      <th>bike_id</th>\n",
       "      <th>subscription</th>\n",
       "    </tr>\n",
       "  </thead>\n",
       "  <tbody>\n",
       "    <tr>\n",
       "      <th>762032</th>\n",
       "      <td>180</td>\n",
       "      <td>24.0</td>\n",
       "      <td>Male</td>\n",
       "      <td>5</td>\n",
       "      <td>2</td>\n",
       "      <td>9</td>\n",
       "      <td>0</td>\n",
       "      <td>B</td>\n",
       "      <td>0.012336</td>\n",
       "      <td>-4.395238</td>\n",
       "      <td>0</td>\n",
       "      <td>NaN</td>\n",
       "      <td>B</td>\n",
       "      <td>1</td>\n",
       "    </tr>\n",
       "    <tr>\n",
       "      <th>488386</th>\n",
       "      <td>1477</td>\n",
       "      <td>42.0</td>\n",
       "      <td>Unknown</td>\n",
       "      <td>9</td>\n",
       "      <td>6</td>\n",
       "      <td>20</td>\n",
       "      <td>1</td>\n",
       "      <td>D</td>\n",
       "      <td>NaN</td>\n",
       "      <td>NaN</td>\n",
       "      <td>0</td>\n",
       "      <td>NaN</td>\n",
       "      <td>B</td>\n",
       "      <td>0</td>\n",
       "    </tr>\n",
       "    <tr>\n",
       "      <th>100998</th>\n",
       "      <td>298</td>\n",
       "      <td>48.0</td>\n",
       "      <td>Female</td>\n",
       "      <td>10</td>\n",
       "      <td>0</td>\n",
       "      <td>14</td>\n",
       "      <td>0</td>\n",
       "      <td>D</td>\n",
       "      <td>0.005806</td>\n",
       "      <td>-5.148811</td>\n",
       "      <td>0</td>\n",
       "      <td>(25.0, 29.0]</td>\n",
       "      <td>B</td>\n",
       "      <td>1</td>\n",
       "    </tr>\n",
       "    <tr>\n",
       "      <th>1228848</th>\n",
       "      <td>540</td>\n",
       "      <td>113.0</td>\n",
       "      <td>Male</td>\n",
       "      <td>9</td>\n",
       "      <td>6</td>\n",
       "      <td>19</td>\n",
       "      <td>1</td>\n",
       "      <td>D</td>\n",
       "      <td>0.023461</td>\n",
       "      <td>-3.752400</td>\n",
       "      <td>0</td>\n",
       "      <td>NaN</td>\n",
       "      <td>T</td>\n",
       "      <td>1</td>\n",
       "    </tr>\n",
       "    <tr>\n",
       "      <th>25517</th>\n",
       "      <td>2079</td>\n",
       "      <td>20.0</td>\n",
       "      <td>Unknown</td>\n",
       "      <td>8</td>\n",
       "      <td>5</td>\n",
       "      <td>20</td>\n",
       "      <td>1</td>\n",
       "      <td>B</td>\n",
       "      <td>NaN</td>\n",
       "      <td>NaN</td>\n",
       "      <td>0</td>\n",
       "      <td>NaN</td>\n",
       "      <td>B</td>\n",
       "      <td>0</td>\n",
       "    </tr>\n",
       "  </tbody>\n",
       "</table>\n",
       "</div>"
      ],
      "text/plain": [
       "         duration  strt_statn   gender  month  day_of_week  hour  weekend  \\\n",
       "762032        180        24.0     Male      5            2     9        0   \n",
       "488386       1477        42.0  Unknown      9            6    20        1   \n",
       "100998        298        48.0   Female     10            0    14        0   \n",
       "1228848       540       113.0     Male      9            6    19        1   \n",
       "25517        2079        20.0  Unknown      8            5    20        1   \n",
       "\n",
       "        terminal_letter_start  home_distance  log_home_distance  Rain  \\\n",
       "762032                      B       0.012336          -4.395238     0   \n",
       "488386                      D            NaN                NaN     0   \n",
       "100998                      D       0.005806          -5.148811     0   \n",
       "1228848                     D       0.023461          -3.752400     0   \n",
       "25517                       B            NaN                NaN     0   \n",
       "\n",
       "              age_cat bike_id  subscription  \n",
       "762032            NaN       B             1  \n",
       "488386            NaN       B             0  \n",
       "100998   (25.0, 29.0]       B             1  \n",
       "1228848           NaN       T             1  \n",
       "25517             NaN       B             0  "
      ]
     },
     "execution_count": 47,
     "metadata": {},
     "output_type": "execute_result"
    }
   ],
   "source": [
    "data.sample(5)"
   ]
  },
  {
   "cell_type": "code",
   "execution_count": 48,
   "id": "2cb69505",
   "metadata": {},
   "outputs": [],
   "source": [
    "data['log_home_distance']= pd.cut(data.log_home_distance, 10)"
   ]
  },
  {
   "cell_type": "code",
   "execution_count": 49,
   "id": "7a4b249e",
   "metadata": {},
   "outputs": [],
   "source": [
    "from sklearn.preprocessing import LabelEncoder\n",
    "le = LabelEncoder()\n",
    "data['age_cat'] = le.fit_transform(data['age_cat'])\n",
    "data['terminal_letter_start'] = le.fit_transform(data['terminal_letter_start'])\n",
    "data['log_home_distance'] = le.fit_transform(data['log_home_distance'])"
   ]
  },
  {
   "cell_type": "code",
   "execution_count": 50,
   "id": "dfc6dc30",
   "metadata": {},
   "outputs": [
    {
     "data": {
      "text/html": [
       "<div>\n",
       "<style scoped>\n",
       "    .dataframe tbody tr th:only-of-type {\n",
       "        vertical-align: middle;\n",
       "    }\n",
       "\n",
       "    .dataframe tbody tr th {\n",
       "        vertical-align: top;\n",
       "    }\n",
       "\n",
       "    .dataframe thead th {\n",
       "        text-align: right;\n",
       "    }\n",
       "</style>\n",
       "<table border=\"1\" class=\"dataframe\">\n",
       "  <thead>\n",
       "    <tr style=\"text-align: right;\">\n",
       "      <th></th>\n",
       "      <th>duration</th>\n",
       "      <th>strt_statn</th>\n",
       "      <th>gender</th>\n",
       "      <th>month</th>\n",
       "      <th>day_of_week</th>\n",
       "      <th>hour</th>\n",
       "      <th>weekend</th>\n",
       "      <th>terminal_letter_start</th>\n",
       "      <th>home_distance</th>\n",
       "      <th>log_home_distance</th>\n",
       "      <th>Rain</th>\n",
       "      <th>age_cat</th>\n",
       "      <th>bike_id</th>\n",
       "      <th>subscription</th>\n",
       "    </tr>\n",
       "  </thead>\n",
       "  <tbody>\n",
       "    <tr>\n",
       "      <th>0</th>\n",
       "      <td>9</td>\n",
       "      <td>23.0</td>\n",
       "      <td>Male</td>\n",
       "      <td>7</td>\n",
       "      <td>3</td>\n",
       "      <td>10</td>\n",
       "      <td>0</td>\n",
       "      <td>1</td>\n",
       "      <td>51.726485</td>\n",
       "      <td>9</td>\n",
       "      <td>0</td>\n",
       "      <td>3</td>\n",
       "      <td>B</td>\n",
       "      <td>1</td>\n",
       "    </tr>\n",
       "    <tr>\n",
       "      <th>1</th>\n",
       "      <td>220</td>\n",
       "      <td>23.0</td>\n",
       "      <td>Male</td>\n",
       "      <td>7</td>\n",
       "      <td>3</td>\n",
       "      <td>10</td>\n",
       "      <td>0</td>\n",
       "      <td>1</td>\n",
       "      <td>0.044410</td>\n",
       "      <td>4</td>\n",
       "      <td>0</td>\n",
       "      <td>4</td>\n",
       "      <td>B</td>\n",
       "      <td>1</td>\n",
       "    </tr>\n",
       "    <tr>\n",
       "      <th>2</th>\n",
       "      <td>56</td>\n",
       "      <td>23.0</td>\n",
       "      <td>Male</td>\n",
       "      <td>7</td>\n",
       "      <td>3</td>\n",
       "      <td>10</td>\n",
       "      <td>0</td>\n",
       "      <td>1</td>\n",
       "      <td>0.006887</td>\n",
       "      <td>2</td>\n",
       "      <td>0</td>\n",
       "      <td>5</td>\n",
       "      <td>B</td>\n",
       "      <td>1</td>\n",
       "    </tr>\n",
       "    <tr>\n",
       "      <th>3</th>\n",
       "      <td>64</td>\n",
       "      <td>23.0</td>\n",
       "      <td>Female</td>\n",
       "      <td>7</td>\n",
       "      <td>3</td>\n",
       "      <td>10</td>\n",
       "      <td>0</td>\n",
       "      <td>1</td>\n",
       "      <td>0.019149</td>\n",
       "      <td>3</td>\n",
       "      <td>0</td>\n",
       "      <td>2</td>\n",
       "      <td>B</td>\n",
       "      <td>1</td>\n",
       "    </tr>\n",
       "    <tr>\n",
       "      <th>4</th>\n",
       "      <td>12</td>\n",
       "      <td>23.0</td>\n",
       "      <td>Female</td>\n",
       "      <td>7</td>\n",
       "      <td>3</td>\n",
       "      <td>10</td>\n",
       "      <td>0</td>\n",
       "      <td>1</td>\n",
       "      <td>51.675593</td>\n",
       "      <td>9</td>\n",
       "      <td>0</td>\n",
       "      <td>1</td>\n",
       "      <td>B</td>\n",
       "      <td>1</td>\n",
       "    </tr>\n",
       "  </tbody>\n",
       "</table>\n",
       "</div>"
      ],
      "text/plain": [
       "   duration  strt_statn  gender  month  day_of_week  hour  weekend  \\\n",
       "0         9        23.0    Male      7            3    10        0   \n",
       "1       220        23.0    Male      7            3    10        0   \n",
       "2        56        23.0    Male      7            3    10        0   \n",
       "3        64        23.0  Female      7            3    10        0   \n",
       "4        12        23.0  Female      7            3    10        0   \n",
       "\n",
       "   terminal_letter_start  home_distance  log_home_distance  Rain  age_cat  \\\n",
       "0                      1      51.726485                  9     0        3   \n",
       "1                      1       0.044410                  4     0        4   \n",
       "2                      1       0.006887                  2     0        5   \n",
       "3                      1       0.019149                  3     0        2   \n",
       "4                      1      51.675593                  9     0        1   \n",
       "\n",
       "  bike_id  subscription  \n",
       "0       B             1  \n",
       "1       B             1  \n",
       "2       B             1  \n",
       "3       B             1  \n",
       "4       B             1  "
      ]
     },
     "execution_count": 50,
     "metadata": {},
     "output_type": "execute_result"
    }
   ],
   "source": [
    "data.head()"
   ]
  },
  {
   "cell_type": "markdown",
   "id": "f610fe0a",
   "metadata": {},
   "source": [
    "## Exploratory Data Analysis"
   ]
  },
  {
   "cell_type": "code",
   "execution_count": 51,
   "id": "b758d0bf",
   "metadata": {},
   "outputs": [
    {
     "name": "stdout",
     "output_type": "stream",
     "text": [
      "660.0\n",
      "1149.2912839212725\n"
     ]
    }
   ],
   "source": [
    "# Check the target skewness\n",
    "\n",
    "print(data.duration.median())\n",
    "print(data.duration.mean())\n",
    "\n",
    "# Lets get rid of outliers from the duration column that have duration more than 2500.\n",
    "# Also there are some rows where duration are below zero, we will drop those rows as well\n",
    "\n",
    "data.drop(data[(data.duration>2500) | (data.duration<0)].index, axis=0, inplace=True)"
   ]
  },
  {
   "cell_type": "code",
   "execution_count": 52,
   "id": "228256a2",
   "metadata": {},
   "outputs": [
    {
     "data": {
      "text/plain": [
       "<Axes: xlabel='duration', ylabel='Density'>"
      ]
     },
     "execution_count": 52,
     "metadata": {},
     "output_type": "execute_result"
    },
    {
     "data": {
      "image/png": "[encoded data removed]",
      "text/plain": [
       "<Figure size 640x480 with 1 Axes>"
      ]
     },
     "metadata": {},
     "output_type": "display_data"
    }
   ],
   "source": [
    "# We see below that the data is skewed but less than before.\n",
    "\n",
    "sns.kdeplot(data=data, x='duration')"
   ]
  },
  {
   "cell_type": "code",
   "execution_count": 53,
   "id": "7341f717",
   "metadata": {},
   "outputs": [
    {
     "data": {
      "text/plain": [
       "<Axes: xlabel='age_cat', ylabel='duration'>"
      ]
     },
     "execution_count": 53,
     "metadata": {},
     "output_type": "execute_result"
    },
    {
     "data": {
      "image/png": "[encoded data removed]",
      "text/plain": [
       "<Figure size 1200x600 with 1 Axes>"
      ]
     },
     "metadata": {},
     "output_type": "display_data"
    }
   ],
   "source": [
    "plt.figure(figsize=(12, 6))\n",
    "\n",
    "sns.boxplot(data=data, x='age_cat', y='duration')"
   ]
  },
  {
   "cell_type": "code",
   "execution_count": null,
   "id": "5d7e3f4d",
   "metadata": {},
   "outputs": [],
   "source": []
  },
  {
   "cell_type": "code",
   "execution_count": 54,
   "id": "487c168a",
   "metadata": {},
   "outputs": [
    {
     "data": {
      "image/png": "[encoded data removed]",
      "text/plain": [
       "<Figure size 640x480 with 1 Axes>"
      ]
     },
     "metadata": {},
     "output_type": "display_data"
    }
   ],
   "source": [
    "# Lets see the predictive power of our features - \n",
    "# the gender column seems to have an impact on the duration, let's create two hot one columns from the gender\n",
    "\n",
    "sns.boxplot(x='gender', y='duration', data=data)\n",
    "\n",
    "data= pd.get_dummies(data, columns=['gender'], drop_first=True)"
   ]
  },
  {
   "cell_type": "code",
   "execution_count": 55,
   "id": "f791893c",
   "metadata": {},
   "outputs": [
    {
     "data": {
      "text/plain": [
       "<Axes: xlabel='month', ylabel='duration'>"
      ]
     },
     "execution_count": 55,
     "metadata": {},
     "output_type": "execute_result"
    },
    {
     "data": {
      "image/png": "[encoded data removed]",
      "text/plain": [
       "<Figure size 640x480 with 1 Axes>"
      ]
     },
     "metadata": {},
     "output_type": "display_data"
    }
   ],
   "source": [
    "# Lets see the predictive power of our features - \n",
    "# the gender column seems to have an impact on the duration, let's create two hot one columns from the gender\n",
    "\n",
    "sns.boxplot(x='month', y='duration', data=data)"
   ]
  },
  {
   "cell_type": "code",
   "execution_count": 56,
   "id": "bd445219",
   "metadata": {},
   "outputs": [
    {
     "data": {
      "text/plain": [
       "<Axes: xlabel='weekend', ylabel='duration'>"
      ]
     },
     "execution_count": 56,
     "metadata": {},
     "output_type": "execute_result"
    },
    {
     "data": {
      "image/png": "[encoded data removed]",
      "text/plain": [
       "<Figure size 640x480 with 1 Axes>"
      ]
     },
     "metadata": {},
     "output_type": "display_data"
    }
   ],
   "source": [
    "# Lets see the predictive power of our features - \n",
    "# the gender column seems to have an impact on the duration, let's create two hot one columns from the gender\n",
    "\n",
    "sns.boxplot(x='weekend', y='duration', data=data)"
   ]
  },
  {
   "cell_type": "code",
   "execution_count": 57,
   "id": "e5525882",
   "metadata": {},
   "outputs": [
    {
     "data": {
      "text/plain": [
       "<Axes: xlabel='hour', ylabel='duration'>"
      ]
     },
     "execution_count": 57,
     "metadata": {},
     "output_type": "execute_result"
    },
    {
     "data": {
      "image/png": "[encoded data removed]",
      "text/plain": [
       "<Figure size 640x480 with 1 Axes>"
      ]
     },
     "metadata": {},
     "output_type": "display_data"
    }
   ],
   "source": [
    "sns.boxplot(x='hour', y='duration',data=data)"
   ]
  },
  {
   "cell_type": "code",
   "execution_count": 58,
   "id": "9ba45e98",
   "metadata": {},
   "outputs": [
    {
     "data": {
      "image/png": "[encoded data removed]",
      "text/plain": [
       "<Figure size 640x480 with 1 Axes>"
      ]
     },
     "metadata": {},
     "output_type": "display_data"
    }
   ],
   "source": [
    "# We can drop bike_id as all groups have proportional means and variances in the durations outcome. \n",
    "sns.boxplot(x='bike_id', y='duration', data=data)\n",
    "\n",
    "data.drop('bike_id', axis=1, inplace=True)"
   ]
  },
  {
   "cell_type": "code",
   "execution_count": 59,
   "id": "011e98bb",
   "metadata": {},
   "outputs": [
    {
     "data": {
      "image/png": "[encoded data removed]",
      "text/plain": [
       "<Figure size 640x480 with 1 Axes>"
      ]
     },
     "metadata": {},
     "output_type": "display_data"
    }
   ],
   "source": [
    "# The subscription feature is good predictor of \n",
    "# duration as we see that the two groups differs signifcantly from each other\n",
    "\n",
    "sns.boxplot(x='subscription', y='duration', data=data)\n",
    "\n",
    "# Nevertheless we will drop the subscription column because the info about subscription is in the gender column\n",
    "# already - every person that is subscribed is labeled either Male or female in Gender, all the Unknown record are also\n",
    "# unsubscribed.\n",
    "\n",
    "data.drop('subscription',axis=1, inplace=True)"
   ]
  },
  {
   "cell_type": "code",
   "execution_count": 60,
   "id": "17e3128a",
   "metadata": {},
   "outputs": [
    {
     "data": {
      "text/plain": [
       "<Axes: xlabel='Rain', ylabel='duration'>"
      ]
     },
     "execution_count": 60,
     "metadata": {},
     "output_type": "execute_result"
    },
    {
     "data": {
      "image/png": "[encoded data removed]",
      "text/plain": [
       "<Figure size 640x480 with 1 Axes>"
      ]
     },
     "metadata": {},
     "output_type": "display_data"
    }
   ],
   "source": [
    "# It does not seem that rain is a factor in predicting the duration of a trip\n",
    "\n",
    "sns.boxplot(data=data, x='Rain',  y='duration')"
   ]
  },
  {
   "cell_type": "code",
   "execution_count": 61,
   "id": "b5eb7c73",
   "metadata": {},
   "outputs": [
    {
     "data": {
      "text/plain": [
       "<Axes: xlabel='terminal_letter_start', ylabel='duration'>"
      ]
     },
     "execution_count": 61,
     "metadata": {},
     "output_type": "execute_result"
    },
    {
     "data": {
      "image/png": "[encoded data removed]",
      "text/plain": [
       "<Figure size 640x480 with 1 Axes>"
      ]
     },
     "metadata": {},
     "output_type": "display_data"
    }
   ],
   "source": [
    "sns.boxplot(data=data, x='terminal_letter_start', y='duration')"
   ]
  },
  {
   "cell_type": "code",
   "execution_count": 75,
   "id": "6f5e1c77",
   "metadata": {},
   "outputs": [
    {
     "data": {
      "text/plain": [
       "<Axes: >"
      ]
     },
     "execution_count": 75,
     "metadata": {},
     "output_type": "execute_result"
    },
    {
     "data": {
      "image/png": "[encoded data removed]",
      "text/plain": [
       "<Figure size 1200x900 with 2 Axes>"
      ]
     },
     "metadata": {},
     "output_type": "display_data"
    }
   ],
   "source": [
    "# We can also look at correlation matrix to check which features are highly correlated with duration\n",
    "\n",
    "corr= data.corr()\n",
    "\n",
    "plt.figure(figsize=(12,9))\n",
    "sns.heatmap(corr, annot=True)"
   ]
  },
  {
   "cell_type": "code",
   "execution_count": 63,
   "id": "970058dd",
   "metadata": {},
   "outputs": [],
   "source": [
    "# Lastly we will drop day_of_week and terminal_letter start column as they are\n",
    "# highly correlated with another feature weekend column\n",
    "\n",
    "data.drop(['day_of_week', 'terminal_letter_start', 'home_distance'], axis=1, inplace=True)"
   ]
  },
  {
   "cell_type": "code",
   "execution_count": 64,
   "id": "5341b92c",
   "metadata": {},
   "outputs": [
    {
     "data": {
      "text/html": [
       "<div>\n",
       "<style scoped>\n",
       "    .dataframe tbody tr th:only-of-type {\n",
       "        vertical-align: middle;\n",
       "    }\n",
       "\n",
       "    .dataframe tbody tr th {\n",
       "        vertical-align: top;\n",
       "    }\n",
       "\n",
       "    .dataframe thead th {\n",
       "        text-align: right;\n",
       "    }\n",
       "</style>\n",
       "<table border=\"1\" class=\"dataframe\">\n",
       "  <thead>\n",
       "    <tr style=\"text-align: right;\">\n",
       "      <th></th>\n",
       "      <th>duration</th>\n",
       "      <th>strt_statn</th>\n",
       "      <th>month</th>\n",
       "      <th>hour</th>\n",
       "      <th>weekend</th>\n",
       "      <th>log_home_distance</th>\n",
       "      <th>Rain</th>\n",
       "      <th>age_cat</th>\n",
       "      <th>gender_Male</th>\n",
       "      <th>gender_Unknown</th>\n",
       "    </tr>\n",
       "  </thead>\n",
       "  <tbody>\n",
       "    <tr>\n",
       "      <th>0</th>\n",
       "      <td>9</td>\n",
       "      <td>23.0</td>\n",
       "      <td>7</td>\n",
       "      <td>10</td>\n",
       "      <td>0</td>\n",
       "      <td>9</td>\n",
       "      <td>0</td>\n",
       "      <td>3</td>\n",
       "      <td>1</td>\n",
       "      <td>0</td>\n",
       "    </tr>\n",
       "    <tr>\n",
       "      <th>1</th>\n",
       "      <td>220</td>\n",
       "      <td>23.0</td>\n",
       "      <td>7</td>\n",
       "      <td>10</td>\n",
       "      <td>0</td>\n",
       "      <td>4</td>\n",
       "      <td>0</td>\n",
       "      <td>4</td>\n",
       "      <td>1</td>\n",
       "      <td>0</td>\n",
       "    </tr>\n",
       "    <tr>\n",
       "      <th>2</th>\n",
       "      <td>56</td>\n",
       "      <td>23.0</td>\n",
       "      <td>7</td>\n",
       "      <td>10</td>\n",
       "      <td>0</td>\n",
       "      <td>2</td>\n",
       "      <td>0</td>\n",
       "      <td>5</td>\n",
       "      <td>1</td>\n",
       "      <td>0</td>\n",
       "    </tr>\n",
       "    <tr>\n",
       "      <th>3</th>\n",
       "      <td>64</td>\n",
       "      <td>23.0</td>\n",
       "      <td>7</td>\n",
       "      <td>10</td>\n",
       "      <td>0</td>\n",
       "      <td>3</td>\n",
       "      <td>0</td>\n",
       "      <td>2</td>\n",
       "      <td>0</td>\n",
       "      <td>0</td>\n",
       "    </tr>\n",
       "    <tr>\n",
       "      <th>4</th>\n",
       "      <td>12</td>\n",
       "      <td>23.0</td>\n",
       "      <td>7</td>\n",
       "      <td>10</td>\n",
       "      <td>0</td>\n",
       "      <td>9</td>\n",
       "      <td>0</td>\n",
       "      <td>1</td>\n",
       "      <td>0</td>\n",
       "      <td>0</td>\n",
       "    </tr>\n",
       "  </tbody>\n",
       "</table>\n",
       "</div>"
      ],
      "text/plain": [
       "   duration  strt_statn  month  hour  weekend  log_home_distance  Rain  \\\n",
       "0         9        23.0      7    10        0                  9     0   \n",
       "1       220        23.0      7    10        0                  4     0   \n",
       "2        56        23.0      7    10        0                  2     0   \n",
       "3        64        23.0      7    10        0                  3     0   \n",
       "4        12        23.0      7    10        0                  9     0   \n",
       "\n",
       "   age_cat  gender_Male  gender_Unknown  \n",
       "0        3            1               0  \n",
       "1        4            1               0  \n",
       "2        5            1               0  \n",
       "3        2            0               0  \n",
       "4        1            0               0  "
      ]
     },
     "execution_count": 64,
     "metadata": {},
     "output_type": "execute_result"
    }
   ],
   "source": [
    "data.head()"
   ]
  },
  {
   "cell_type": "markdown",
   "id": "218e526e",
   "metadata": {},
   "source": [
    "## Model training"
   ]
  },
  {
   "cell_type": "markdown",
   "id": "438ab197",
   "metadata": {},
   "source": [
    "### I'll chose Random Forest Regressor as my model, the decision trees are providing better results when trained on skewed target and predictors than other models"
   ]
  },
  {
   "cell_type": "code",
   "execution_count": 6,
   "id": "3d19a43d",
   "metadata": {},
   "outputs": [],
   "source": [
    "#data.to_csv('model_data.csv')\n",
    "data= pd.read_csv('model_data.csv', index_col=[0])"
   ]
  },
  {
   "cell_type": "code",
   "execution_count": 7,
   "id": "eccdf489",
   "metadata": {},
   "outputs": [
    {
     "data": {
      "text/html": [
       "<div>\n",
       "<style scoped>\n",
       "    .dataframe tbody tr th:only-of-type {\n",
       "        vertical-align: middle;\n",
       "    }\n",
       "\n",
       "    .dataframe tbody tr th {\n",
       "        vertical-align: top;\n",
       "    }\n",
       "\n",
       "    .dataframe thead th {\n",
       "        text-align: right;\n",
       "    }\n",
       "</style>\n",
       "<table border=\"1\" class=\"dataframe\">\n",
       "  <thead>\n",
       "    <tr style=\"text-align: right;\">\n",
       "      <th></th>\n",
       "      <th>duration</th>\n",
       "      <th>strt_statn</th>\n",
       "      <th>month</th>\n",
       "      <th>hour</th>\n",
       "      <th>weekend</th>\n",
       "      <th>log_home_distance</th>\n",
       "      <th>Rain</th>\n",
       "      <th>age_cat</th>\n",
       "      <th>gender_Male</th>\n",
       "      <th>gender_Unknown</th>\n",
       "    </tr>\n",
       "  </thead>\n",
       "  <tbody>\n",
       "    <tr>\n",
       "      <th>0</th>\n",
       "      <td>9</td>\n",
       "      <td>23.0</td>\n",
       "      <td>7</td>\n",
       "      <td>10</td>\n",
       "      <td>0</td>\n",
       "      <td>9</td>\n",
       "      <td>0</td>\n",
       "      <td>3</td>\n",
       "      <td>1</td>\n",
       "      <td>0</td>\n",
       "    </tr>\n",
       "    <tr>\n",
       "      <th>1</th>\n",
       "      <td>220</td>\n",
       "      <td>23.0</td>\n",
       "      <td>7</td>\n",
       "      <td>10</td>\n",
       "      <td>0</td>\n",
       "      <td>4</td>\n",
       "      <td>0</td>\n",
       "      <td>4</td>\n",
       "      <td>1</td>\n",
       "      <td>0</td>\n",
       "    </tr>\n",
       "    <tr>\n",
       "      <th>2</th>\n",
       "      <td>56</td>\n",
       "      <td>23.0</td>\n",
       "      <td>7</td>\n",
       "      <td>10</td>\n",
       "      <td>0</td>\n",
       "      <td>2</td>\n",
       "      <td>0</td>\n",
       "      <td>5</td>\n",
       "      <td>1</td>\n",
       "      <td>0</td>\n",
       "    </tr>\n",
       "    <tr>\n",
       "      <th>3</th>\n",
       "      <td>64</td>\n",
       "      <td>23.0</td>\n",
       "      <td>7</td>\n",
       "      <td>10</td>\n",
       "      <td>0</td>\n",
       "      <td>3</td>\n",
       "      <td>0</td>\n",
       "      <td>2</td>\n",
       "      <td>0</td>\n",
       "      <td>0</td>\n",
       "    </tr>\n",
       "    <tr>\n",
       "      <th>4</th>\n",
       "      <td>12</td>\n",
       "      <td>23.0</td>\n",
       "      <td>7</td>\n",
       "      <td>10</td>\n",
       "      <td>0</td>\n",
       "      <td>9</td>\n",
       "      <td>0</td>\n",
       "      <td>1</td>\n",
       "      <td>0</td>\n",
       "      <td>0</td>\n",
       "    </tr>\n",
       "  </tbody>\n",
       "</table>\n",
       "</div>"
      ],
      "text/plain": [
       "   duration  strt_statn  month  hour  weekend  log_home_distance  Rain  \\\n",
       "0         9        23.0      7    10        0                  9     0   \n",
       "1       220        23.0      7    10        0                  4     0   \n",
       "2        56        23.0      7    10        0                  2     0   \n",
       "3        64        23.0      7    10        0                  3     0   \n",
       "4        12        23.0      7    10        0                  9     0   \n",
       "\n",
       "   age_cat  gender_Male  gender_Unknown  \n",
       "0        3            1               0  \n",
       "1        4            1               0  \n",
       "2        5            1               0  \n",
       "3        2            0               0  \n",
       "4        1            0               0  "
      ]
     },
     "execution_count": 7,
     "metadata": {},
     "output_type": "execute_result"
    }
   ],
   "source": [
    "data.head()"
   ]
  },
  {
   "cell_type": "code",
   "execution_count": 8,
   "id": "d7482d08",
   "metadata": {},
   "outputs": [
    {
     "data": {
      "text/plain": [
       "(1497952, 10)"
      ]
     },
     "execution_count": 8,
     "metadata": {},
     "output_type": "execute_result"
    }
   ],
   "source": [
    "#Lets see shape of our dataset\n",
    "\n",
    "data.shape"
   ]
  },
  {
   "cell_type": "code",
   "execution_count": 28,
   "id": "9b566c3f",
   "metadata": {},
   "outputs": [
    {
     "data": {
      "text/html": [
       "<div>\n",
       "<style scoped>\n",
       "    .dataframe tbody tr th:only-of-type {\n",
       "        vertical-align: middle;\n",
       "    }\n",
       "\n",
       "    .dataframe tbody tr th {\n",
       "        vertical-align: top;\n",
       "    }\n",
       "\n",
       "    .dataframe thead th {\n",
       "        text-align: right;\n",
       "    }\n",
       "</style>\n",
       "<table border=\"1\" class=\"dataframe\">\n",
       "  <thead>\n",
       "    <tr style=\"text-align: right;\">\n",
       "      <th></th>\n",
       "      <th>duration</th>\n",
       "      <th>strt_statn</th>\n",
       "      <th>month</th>\n",
       "      <th>hour</th>\n",
       "      <th>weekend</th>\n",
       "      <th>log_home_distance</th>\n",
       "      <th>Rain</th>\n",
       "      <th>age_cat</th>\n",
       "      <th>gender_Male</th>\n",
       "      <th>gender_Unknown</th>\n",
       "    </tr>\n",
       "  </thead>\n",
       "  <tbody>\n",
       "    <tr>\n",
       "      <th>0</th>\n",
       "      <td>1560</td>\n",
       "      <td>45.0</td>\n",
       "      <td>7</td>\n",
       "      <td>8</td>\n",
       "      <td>0</td>\n",
       "      <td>2</td>\n",
       "      <td>0</td>\n",
       "      <td>6</td>\n",
       "      <td>0</td>\n",
       "      <td>0</td>\n",
       "    </tr>\n",
       "    <tr>\n",
       "      <th>1</th>\n",
       "      <td>734</td>\n",
       "      <td>24.0</td>\n",
       "      <td>4</td>\n",
       "      <td>16</td>\n",
       "      <td>1</td>\n",
       "      <td>10</td>\n",
       "      <td>0</td>\n",
       "      <td>6</td>\n",
       "      <td>0</td>\n",
       "      <td>1</td>\n",
       "    </tr>\n",
       "    <tr>\n",
       "      <th>2</th>\n",
       "      <td>480</td>\n",
       "      <td>45.0</td>\n",
       "      <td>9</td>\n",
       "      <td>6</td>\n",
       "      <td>0</td>\n",
       "      <td>3</td>\n",
       "      <td>0</td>\n",
       "      <td>6</td>\n",
       "      <td>1</td>\n",
       "      <td>0</td>\n",
       "    </tr>\n",
       "    <tr>\n",
       "      <th>3</th>\n",
       "      <td>1260</td>\n",
       "      <td>80.0</td>\n",
       "      <td>11</td>\n",
       "      <td>16</td>\n",
       "      <td>1</td>\n",
       "      <td>10</td>\n",
       "      <td>0</td>\n",
       "      <td>6</td>\n",
       "      <td>0</td>\n",
       "      <td>1</td>\n",
       "    </tr>\n",
       "    <tr>\n",
       "      <th>4</th>\n",
       "      <td>1043</td>\n",
       "      <td>55.0</td>\n",
       "      <td>4</td>\n",
       "      <td>15</td>\n",
       "      <td>0</td>\n",
       "      <td>10</td>\n",
       "      <td>0</td>\n",
       "      <td>6</td>\n",
       "      <td>0</td>\n",
       "      <td>1</td>\n",
       "    </tr>\n",
       "    <tr>\n",
       "      <th>...</th>\n",
       "      <td>...</td>\n",
       "      <td>...</td>\n",
       "      <td>...</td>\n",
       "      <td>...</td>\n",
       "      <td>...</td>\n",
       "      <td>...</td>\n",
       "      <td>...</td>\n",
       "      <td>...</td>\n",
       "      <td>...</td>\n",
       "      <td>...</td>\n",
       "    </tr>\n",
       "    <tr>\n",
       "      <th>449381</th>\n",
       "      <td>1341</td>\n",
       "      <td>52.0</td>\n",
       "      <td>4</td>\n",
       "      <td>17</td>\n",
       "      <td>1</td>\n",
       "      <td>10</td>\n",
       "      <td>0</td>\n",
       "      <td>6</td>\n",
       "      <td>0</td>\n",
       "      <td>1</td>\n",
       "    </tr>\n",
       "    <tr>\n",
       "      <th>449382</th>\n",
       "      <td>840</td>\n",
       "      <td>128.0</td>\n",
       "      <td>10</td>\n",
       "      <td>16</td>\n",
       "      <td>0</td>\n",
       "      <td>5</td>\n",
       "      <td>0</td>\n",
       "      <td>6</td>\n",
       "      <td>1</td>\n",
       "      <td>0</td>\n",
       "    </tr>\n",
       "    <tr>\n",
       "      <th>449383</th>\n",
       "      <td>1395</td>\n",
       "      <td>58.0</td>\n",
       "      <td>7</td>\n",
       "      <td>18</td>\n",
       "      <td>0</td>\n",
       "      <td>4</td>\n",
       "      <td>0</td>\n",
       "      <td>2</td>\n",
       "      <td>1</td>\n",
       "      <td>0</td>\n",
       "    </tr>\n",
       "    <tr>\n",
       "      <th>449384</th>\n",
       "      <td>1197</td>\n",
       "      <td>20.0</td>\n",
       "      <td>3</td>\n",
       "      <td>23</td>\n",
       "      <td>0</td>\n",
       "      <td>10</td>\n",
       "      <td>0</td>\n",
       "      <td>6</td>\n",
       "      <td>0</td>\n",
       "      <td>1</td>\n",
       "    </tr>\n",
       "    <tr>\n",
       "      <th>449385</th>\n",
       "      <td>420</td>\n",
       "      <td>55.0</td>\n",
       "      <td>9</td>\n",
       "      <td>19</td>\n",
       "      <td>0</td>\n",
       "      <td>3</td>\n",
       "      <td>0</td>\n",
       "      <td>6</td>\n",
       "      <td>1</td>\n",
       "      <td>0</td>\n",
       "    </tr>\n",
       "  </tbody>\n",
       "</table>\n",
       "<p>449386 rows × 10 columns</p>\n",
       "</div>"
      ],
      "text/plain": [
       "        duration  strt_statn  month  hour  weekend  log_home_distance  Rain  \\\n",
       "0           1560        45.0      7     8        0                  2     0   \n",
       "1            734        24.0      4    16        1                 10     0   \n",
       "2            480        45.0      9     6        0                  3     0   \n",
       "3           1260        80.0     11    16        1                 10     0   \n",
       "4           1043        55.0      4    15        0                 10     0   \n",
       "...          ...         ...    ...   ...      ...                ...   ...   \n",
       "449381      1341        52.0      4    17        1                 10     0   \n",
       "449382       840       128.0     10    16        0                  5     0   \n",
       "449383      1395        58.0      7    18        0                  4     0   \n",
       "449384      1197        20.0      3    23        0                 10     0   \n",
       "449385       420        55.0      9    19        0                  3     0   \n",
       "\n",
       "        age_cat  gender_Male  gender_Unknown  \n",
       "0             6            0               0  \n",
       "1             6            0               1  \n",
       "2             6            1               0  \n",
       "3             6            0               1  \n",
       "4             6            0               1  \n",
       "...         ...          ...             ...  \n",
       "449381        6            0               1  \n",
       "449382        6            1               0  \n",
       "449383        2            1               0  \n",
       "449384        6            0               1  \n",
       "449385        6            1               0  \n",
       "\n",
       "[449386 rows x 10 columns]"
      ]
     },
     "execution_count": 28,
     "metadata": {},
     "output_type": "execute_result"
    }
   ],
   "source": [
    "# We need to limit the data we use in the model training - we don't have too many features in the model so random sample\n",
    "# of 20% of the data will improve how fast the model will be trained and evaluated\n",
    "\n",
    "model_data= data.sample(frac=0.3, random_state=11112).reset_index(drop=True)\n",
    "model_data"
   ]
  },
  {
   "cell_type": "code",
   "execution_count": 29,
   "id": "9328fb95",
   "metadata": {},
   "outputs": [],
   "source": [
    "# Import Random Forest regressor\n",
    "from sklearn.ensemble import RandomForestRegressor\n",
    "\n",
    "# Set target and predictors\n",
    "\n",
    "X= model_data.drop('duration', axis=1)\n",
    "Y= model_data['duration']"
   ]
  },
  {
   "cell_type": "code",
   "execution_count": 30,
   "id": "9bc03f12",
   "metadata": {},
   "outputs": [],
   "source": [
    "# Split data into train and test\n",
    "\n",
    "from sklearn.model_selection import train_test_split\n",
    "\n",
    "X_train, X_test, y_train, y_test = train_test_split(X, Y, test_size=0.2,\n",
    "                                                    random_state=11)"
   ]
  },
  {
   "cell_type": "code",
   "execution_count": 31,
   "id": "6ebb4e1d",
   "metadata": {},
   "outputs": [],
   "source": [
    "# I will use the RandomizedSearchCV to pick the best parameters for the model\n",
    "# As we have many parameters we will set n_iter=10 to pick randomly 10 different sets of parameters.\n",
    "\n",
    "from sklearn.model_selection import RandomizedSearchCV\n",
    "\n",
    "model = RandomForestRegressor()\n",
    "\n",
    "rs = RandomizedSearchCV(model, n_iter=1,\n",
    "                        param_distributions = {'max_depth': [100, 150, 200, 250],\n",
    "                                               'min_samples_split': [10, 20, 30],\n",
    "                                               'n_estimators': [50, 100, 200] },\n",
    "                        cv=5, n_jobs=-1, random_state=31,\n",
    "                        scoring='neg_mean_squared_error')\n"
   ]
  },
  {
   "cell_type": "code",
   "execution_count": 33,
   "id": "95bcccc8",
   "metadata": {},
   "outputs": [
    {
     "data": {
      "text/html": [
       "<style>#sk-container-id-5 {color: black;background-color: white;}#sk-container-id-5 pre{padding: 0;}#sk-container-id-5 div.sk-toggleable {background-color: white;}#sk-container-id-5 label.sk-toggleable__label {cursor: pointer;display: block;width: 100%;margin-bottom: 0;padding: 0.3em;box-sizing: border-box;text-align: center;}#sk-container-id-5 label.sk-toggleable__label-arrow:before {content: \"▸\";float: left;margin-right: 0.25em;color: #696969;}#sk-container-id-5 label.sk-toggleable__label-arrow:hover:before {color: black;}#sk-container-id-5 div.sk-estimator:hover label.sk-toggleable__label-arrow:before {color: black;}#sk-container-id-5 div.sk-toggleable__content {max-height: 0;max-width: 0;overflow: hidden;text-align: left;background-color: #f0f8ff;}#sk-container-id-5 div.sk-toggleable__content pre {margin: 0.2em;color: black;border-radius: 0.25em;background-color: #f0f8ff;}#sk-container-id-5 input.sk-toggleable__control:checked~div.sk-toggleable__content {max-height: 200px;max-width: 100%;overflow: auto;}#sk-container-id-5 input.sk-toggleable__control:checked~label.sk-toggleable__label-arrow:before {content: \"▾\";}#sk-container-id-5 div.sk-estimator input.sk-toggleable__control:checked~label.sk-toggleable__label {background-color: #d4ebff;}#sk-container-id-5 div.sk-label input.sk-toggleable__control:checked~label.sk-toggleable__label {background-color: #d4ebff;}#sk-container-id-5 input.sk-hidden--visually {border: 0;clip: rect(1px 1px 1px 1px);clip: rect(1px, 1px, 1px, 1px);height: 1px;margin: -1px;overflow: hidden;padding: 0;position: absolute;width: 1px;}#sk-container-id-5 div.sk-estimator {font-family: monospace;background-color: #f0f8ff;border: 1px dotted black;border-radius: 0.25em;box-sizing: border-box;margin-bottom: 0.5em;}#sk-container-id-5 div.sk-estimator:hover {background-color: #d4ebff;}#sk-container-id-5 div.sk-parallel-item::after {content: \"\";width: 100%;border-bottom: 1px solid gray;flex-grow: 1;}#sk-container-id-5 div.sk-label:hover label.sk-toggleable__label {background-color: #d4ebff;}#sk-container-id-5 div.sk-serial::before {content: \"\";position: absolute;border-left: 1px solid gray;box-sizing: border-box;top: 0;bottom: 0;left: 50%;z-index: 0;}#sk-container-id-5 div.sk-serial {display: flex;flex-direction: column;align-items: center;background-color: white;padding-right: 0.2em;padding-left: 0.2em;position: relative;}#sk-container-id-5 div.sk-item {position: relative;z-index: 1;}#sk-container-id-5 div.sk-parallel {display: flex;align-items: stretch;justify-content: center;background-color: white;position: relative;}#sk-container-id-5 div.sk-item::before, #sk-container-id-5 div.sk-parallel-item::before {content: \"\";position: absolute;border-left: 1px solid gray;box-sizing: border-box;top: 0;bottom: 0;left: 50%;z-index: -1;}#sk-container-id-5 div.sk-parallel-item {display: flex;flex-direction: column;z-index: 1;position: relative;background-color: white;}#sk-container-id-5 div.sk-parallel-item:first-child::after {align-self: flex-end;width: 50%;}#sk-container-id-5 div.sk-parallel-item:last-child::after {align-self: flex-start;width: 50%;}#sk-container-id-5 div.sk-parallel-item:only-child::after {width: 0;}#sk-container-id-5 div.sk-dashed-wrapped {border: 1px dashed gray;margin: 0 0.4em 0.5em 0.4em;box-sizing: border-box;padding-bottom: 0.4em;background-color: white;}#sk-container-id-5 div.sk-label label {font-family: monospace;font-weight: bold;display: inline-block;line-height: 1.2em;}#sk-container-id-5 div.sk-label-container {text-align: center;}#sk-container-id-5 div.sk-container {/* jupyter's `normalize.less` sets `[hidden] { display: none; }` but bootstrap.min.css set `[hidden] { display: none !important; }` so we also need the `!important` here to be able to override the default hidden behavior on the sphinx rendered scikit-learn.org. See: https://github.com/scikit-learn/scikit-learn/issues/21755 */display: inline-block !important;position: relative;}#sk-container-id-5 div.sk-text-repr-fallback {display: none;}</style><div id=\"sk-container-id-5\" class=\"sk-top-container\"><div class=\"sk-text-repr-fallback\"><pre>RandomizedSearchCV(cv=5, estimator=RandomForestRegressor(), n_iter=1, n_jobs=-1,\n",
       "                   param_distributions={&#x27;max_depth&#x27;: [100],\n",
       "                                        &#x27;min_samples_split&#x27;: [10],\n",
       "                                        &#x27;n_estimators&#x27;: [150]},\n",
       "                   random_state=31, scoring=&#x27;neg_mean_squared_error&#x27;)</pre><b>In a Jupyter environment, please rerun this cell to show the HTML representation or trust the notebook. <br />On GitHub, the HTML representation is unable to render, please try loading this page with nbviewer.org.</b></div><div class=\"sk-container\" hidden><div class=\"sk-item sk-dashed-wrapped\"><div class=\"sk-label-container\"><div class=\"sk-label sk-toggleable\"><input class=\"sk-toggleable__control sk-hidden--visually\" id=\"sk-estimator-id-11\" type=\"checkbox\" ><label for=\"sk-estimator-id-11\" class=\"sk-toggleable__label sk-toggleable__label-arrow\">RandomizedSearchCV</label><div class=\"sk-toggleable__content\"><pre>RandomizedSearchCV(cv=5, estimator=RandomForestRegressor(), n_iter=1, n_jobs=-1,\n",
       "                   param_distributions={&#x27;max_depth&#x27;: [100],\n",
       "                                        &#x27;min_samples_split&#x27;: [10],\n",
       "                                        &#x27;n_estimators&#x27;: [150]},\n",
       "                   random_state=31, scoring=&#x27;neg_mean_squared_error&#x27;)</pre></div></div></div><div class=\"sk-parallel\"><div class=\"sk-parallel-item\"><div class=\"sk-item\"><div class=\"sk-label-container\"><div class=\"sk-label sk-toggleable\"><input class=\"sk-toggleable__control sk-hidden--visually\" id=\"sk-estimator-id-12\" type=\"checkbox\" ><label for=\"sk-estimator-id-12\" class=\"sk-toggleable__label sk-toggleable__label-arrow\">estimator: RandomForestRegressor</label><div class=\"sk-toggleable__content\"><pre>RandomForestRegressor()</pre></div></div></div><div class=\"sk-serial\"><div class=\"sk-item\"><div class=\"sk-estimator sk-toggleable\"><input class=\"sk-toggleable__control sk-hidden--visually\" id=\"sk-estimator-id-13\" type=\"checkbox\" ><label for=\"sk-estimator-id-13\" class=\"sk-toggleable__label sk-toggleable__label-arrow\">RandomForestRegressor</label><div class=\"sk-toggleable__content\"><pre>RandomForestRegressor()</pre></div></div></div></div></div></div></div></div></div></div>"
      ],
      "text/plain": [
       "RandomizedSearchCV(cv=5, estimator=RandomForestRegressor(), n_iter=1, n_jobs=-1,\n",
       "                   param_distributions={'max_depth': [100],\n",
       "                                        'min_samples_split': [10],\n",
       "                                        'n_estimators': [150]},\n",
       "                   random_state=31, scoring='neg_mean_squared_error')"
      ]
     },
     "execution_count": 33,
     "metadata": {},
     "output_type": "execute_result"
    }
   ],
   "source": [
    "# Fit the Randomized Search to X_train, y_train\n",
    "rs.fit(X_train, y_train)"
   ]
  },
  {
   "cell_type": "code",
   "execution_count": 34,
   "id": "73eca078",
   "metadata": {},
   "outputs": [
    {
     "name": "stdout",
     "output_type": "stream",
     "text": [
      "{'n_estimators': 150, 'min_samples_split': 10, 'max_depth': 100}\n",
      "176343.57786766108\n"
     ]
    }
   ],
   "source": [
    "# Print the best parameters and mean_squared_error for them\n",
    "\n",
    "print(rs.best_params_)\n",
    "print(-rs.best_score_)"
   ]
  },
  {
   "cell_type": "code",
   "execution_count": 1,
   "id": "08fc2634",
   "metadata": {},
   "outputs": [
    {
     "data": {
      "text/plain": [
       "419.9321373746001"
      ]
     },
     "execution_count": 1,
     "metadata": {},
     "output_type": "execute_result"
    }
   ],
   "source": [
    "176343**(0.5)"
   ]
  },
  {
   "cell_type": "markdown",
   "id": "188ee36a",
   "metadata": {},
   "source": [
    "### It may take some time for RandomizedSearchCV to run. After we will find the best parameters for our model we can train the Random Forest Regressor model with these parameters"
   ]
  },
  {
   "cell_type": "markdown",
   "id": "8c250b02",
   "metadata": {},
   "source": [
    "# The END"
   ]
  }
 ],
 "metadata": {
  "kernelspec": {
   "display_name": "Python 3 (ipykernel)",
   "language": "python",
   "name": "python3"
  },
  "language_info": {
   "codemirror_mode": {
    "name": "ipython",
    "version": 3
   },
   "file_extension": ".py",
   "mimetype": "text/x-python",
   "name": "python",
   "nbconvert_exporter": "python",
   "pygments_lexer": "ipython3",
   "version": "3.9.13"
  }
 },
 "nbformat": 4,
 "nbformat_minor": 5
}
